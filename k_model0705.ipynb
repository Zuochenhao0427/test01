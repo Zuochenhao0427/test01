{
 "cells": [
  {
   "cell_type": "code",
   "execution_count": 5,
   "id": "7f1b5458",
   "metadata": {},
   "outputs": [],
   "source": [
    "import pandas as pd\n",
    "import numpy as np\n",
    "import statsmodels.api as sm\n",
    "import matplotlib.pyplot as plt\n",
    "# import rpy2\n",
    "# import rpy2.robjects as robjects\n",
    "#from rpy2.robjects.packages import importr\n",
    "# from sklearn.utils import resample\n",
    "#from rpy2.robjects import r\n",
    "#from rpy2.robjects import pandas2ri"
   ]
  },
  {
   "cell_type": "code",
   "execution_count": 8,
   "id": "a1263ee8",
   "metadata": {
    "scrolled": true
   },
   "outputs": [
    {
     "data": {
      "text/html": [
       "<div>\n",
       "<style scoped>\n",
       "    .dataframe tbody tr th:only-of-type {\n",
       "        vertical-align: middle;\n",
       "    }\n",
       "\n",
       "    .dataframe tbody tr th {\n",
       "        vertical-align: top;\n",
       "    }\n",
       "\n",
       "    .dataframe thead th {\n",
       "        text-align: right;\n",
       "    }\n",
       "</style>\n",
       "<table border=\"1\" class=\"dataframe\">\n",
       "  <thead>\n",
       "    <tr style=\"text-align: right;\">\n",
       "      <th></th>\n",
       "      <th>Unnamed: 0</th>\n",
       "      <th>fund_id</th>\n",
       "      <th>compy_id</th>\n",
       "      <th>trddy</th>\n",
       "      <th>ri</th>\n",
       "      <th>net_ri</th>\n",
       "      <th>mkt_rf</th>\n",
       "      <th>smb</th>\n",
       "      <th>hml</th>\n",
       "      <th>umd</th>\n",
       "      <th>rbrf</th>\n",
       "      <th>rf</th>\n",
       "    </tr>\n",
       "  </thead>\n",
       "  <tbody>\n",
       "    <tr>\n",
       "      <th>0</th>\n",
       "      <td>0</td>\n",
       "      <td>108426</td>\n",
       "      <td>1059</td>\n",
       "      <td>2018-07-02</td>\n",
       "      <td>-1.354167</td>\n",
       "      <td>-2.854167</td>\n",
       "      <td>-0.020651</td>\n",
       "      <td>0.010108</td>\n",
       "      <td>-0.005625</td>\n",
       "      <td>-0.006219</td>\n",
       "      <td>2.219459</td>\n",
       "      <td>0.000041</td>\n",
       "    </tr>\n",
       "    <tr>\n",
       "      <th>1</th>\n",
       "      <td>1</td>\n",
       "      <td>108426</td>\n",
       "      <td>1059</td>\n",
       "      <td>2018-07-03</td>\n",
       "      <td>-0.941040</td>\n",
       "      <td>-2.441040</td>\n",
       "      <td>0.003170</td>\n",
       "      <td>0.017638</td>\n",
       "      <td>0.002349</td>\n",
       "      <td>-0.020758</td>\n",
       "      <td>2.120459</td>\n",
       "      <td>0.000041</td>\n",
       "    </tr>\n",
       "    <tr>\n",
       "      <th>2</th>\n",
       "      <td>2</td>\n",
       "      <td>108426</td>\n",
       "      <td>1059</td>\n",
       "      <td>2018-07-04</td>\n",
       "      <td>-1.258008</td>\n",
       "      <td>-2.758008</td>\n",
       "      <td>-0.014638</td>\n",
       "      <td>-0.005638</td>\n",
       "      <td>0.007827</td>\n",
       "      <td>-0.000652</td>\n",
       "      <td>1.899459</td>\n",
       "      <td>0.000041</td>\n",
       "    </tr>\n",
       "    <tr>\n",
       "      <th>3</th>\n",
       "      <td>3</td>\n",
       "      <td>108426</td>\n",
       "      <td>1059</td>\n",
       "      <td>2018-07-05</td>\n",
       "      <td>-1.683226</td>\n",
       "      <td>-3.183226</td>\n",
       "      <td>-0.017812</td>\n",
       "      <td>-0.011982</td>\n",
       "      <td>0.002551</td>\n",
       "      <td>0.017403</td>\n",
       "      <td>1.898259</td>\n",
       "      <td>0.000041</td>\n",
       "    </tr>\n",
       "    <tr>\n",
       "      <th>4</th>\n",
       "      <td>4</td>\n",
       "      <td>108426</td>\n",
       "      <td>1059</td>\n",
       "      <td>2018-07-06</td>\n",
       "      <td>0.845567</td>\n",
       "      <td>-0.654433</td>\n",
       "      <td>0.003503</td>\n",
       "      <td>0.001753</td>\n",
       "      <td>-0.003903</td>\n",
       "      <td>-0.000333</td>\n",
       "      <td>1.845059</td>\n",
       "      <td>0.000041</td>\n",
       "    </tr>\n",
       "  </tbody>\n",
       "</table>\n",
       "</div>"
      ],
      "text/plain": [
       "   Unnamed: 0  fund_id  compy_id       trddy        ri    net_ri    mkt_rf  \\\n",
       "0           0   108426      1059  2018-07-02 -1.354167 -2.854167 -0.020651   \n",
       "1           1   108426      1059  2018-07-03 -0.941040 -2.441040  0.003170   \n",
       "2           2   108426      1059  2018-07-04 -1.258008 -2.758008 -0.014638   \n",
       "3           3   108426      1059  2018-07-05 -1.683226 -3.183226 -0.017812   \n",
       "4           4   108426      1059  2018-07-06  0.845567 -0.654433  0.003503   \n",
       "\n",
       "        smb       hml       umd      rbrf        rf  \n",
       "0  0.010108 -0.005625 -0.006219  2.219459  0.000041  \n",
       "1  0.017638  0.002349 -0.020758  2.120459  0.000041  \n",
       "2 -0.005638  0.007827 -0.000652  1.899459  0.000041  \n",
       "3 -0.011982  0.002551  0.017403  1.898259  0.000041  \n",
       "4  0.001753 -0.003903 -0.000333  1.845059  0.000041  "
      ]
     },
     "execution_count": 8,
     "metadata": {},
     "output_type": "execute_result"
    }
   ],
   "source": [
    "kmodel = pd.read_csv('/Users/xurui/Desktop/2021.6 - 量化项目/model_data180630.csv')\n",
    "kmodel.head(5)"
   ]
  },
  {
   "cell_type": "code",
   "execution_count": 41,
   "id": "f7fbb31e",
   "metadata": {},
   "outputs": [],
   "source": [
    "kmodel = kmodel.groupby('fund_id').filter(lambda x: (len(x) > 100))"
   ]
  },
  {
   "cell_type": "code",
   "execution_count": 42,
   "id": "963b825b",
   "metadata": {},
   "outputs": [],
   "source": [
    "funds_list = kmodel.fund_id.unique() # 基金清单"
   ]
  },
  {
   "cell_type": "code",
   "execution_count": 43,
   "id": "c907e57d",
   "metadata": {},
   "outputs": [
    {
     "name": "stdout",
     "output_type": "stream",
     "text": [
      "alpha: [-0.10671690140977526, 0.11352756531101049, -0.036425974644221426, 0.09785749312411929, 0.10050472802564547] \n",
      " ta: [-1.2959769498740732, 0.6743863863276223, -0.16397625118817294, 0.5485198130297815, 0.2950640857565519]\n"
     ]
    }
   ],
   "source": [
    "print(\"alpha:\", alpha[:5],\"\\n\",\"ta:\",ta[:5])"
   ]
  },
  {
   "cell_type": "code",
   "execution_count": 44,
   "id": "24f3c863",
   "metadata": {},
   "outputs": [],
   "source": [
    "def res_caculator(f):\n",
    "    Y = f['ri']-f['rf']\n",
    "    result = sm.OLS(Y, sm.add_constant(f.loc[:, ['mkt_rf', 'smb', 'hml', 'umd', 'rbrf']])).fit() # 净值根据Cahart五因子做线性回归\n",
    "    pv = result.pvalues\n",
    "    y_dot = result.fittedvalues # 线性方程拟合后计算净值预测值\n",
    "    res = Y - y_dot # 净值与净值预测值相减形成残差\n",
    "    \n",
    "    # 记录回归方程中各参数取值\n",
    "    coef = {}\n",
    "    coef.update(alpha_dot = result.params[0], mkt_b = result.params[1], smb_b = result.params[2], hml_b = result.params[3],\n",
    "                umd_b = result.params[4], rbrf_b = result.params[5])\n",
    "    \n",
    "    # 返回res计算后的单支基金数据及对应的四因子回归方程系数\n",
    "    return (res, coef, pv) "
   ]
  },
  {
   "cell_type": "code",
   "execution_count": 45,
   "id": "3153799b",
   "metadata": {},
   "outputs": [],
   "source": [
    "pv_values = []\n",
    "dt_length = []\n",
    "for f in funds_list:\n",
    "    tmp_f = kmodel[kmodel['fund_id'] == f].reset_index(drop=True)\n",
    "    res_series = res_caculator(tmp_f)# EXP: len(res_series) = m, m为某基金合计数据点数量    \n",
    "    f_coefs = res_series[1] \n",
    "    \n",
    "    pv = res_series[2][0]\n",
    "    lens = len(tmp_f)\n",
    "    pv_values.append(pv)\n",
    "    dt_length.append(lens)"
   ]
  },
  {
   "cell_type": "code",
   "execution_count": 46,
   "id": "1ef64698",
   "metadata": {},
   "outputs": [
    {
     "data": {
      "text/plain": [
       "(array([99., 59., 48., 53., 34., 32., 56., 47., 45., 48., 34., 46., 37.,\n",
       "        39., 43., 43., 43., 45., 36., 47., 41., 40., 36., 44., 39., 30.,\n",
       "        33., 26., 41., 37., 35., 36., 28., 43., 44., 35., 30., 34., 33.,\n",
       "        30., 30., 27., 26., 37., 25., 34., 39., 27., 30., 39.]),\n",
       " array([1.37500691e-04, 2.01337856e-02, 4.01300705e-02, 6.01263554e-02,\n",
       "        8.01226402e-02, 1.00118925e-01, 1.20115210e-01, 1.40111495e-01,\n",
       "        1.60107780e-01, 1.80104065e-01, 2.00100350e-01, 2.20096634e-01,\n",
       "        2.40092919e-01, 2.60089204e-01, 2.80085489e-01, 3.00081774e-01,\n",
       "        3.20078059e-01, 3.40074344e-01, 3.60070629e-01, 3.80066914e-01,\n",
       "        4.00063198e-01, 4.20059483e-01, 4.40055768e-01, 4.60052053e-01,\n",
       "        4.80048338e-01, 5.00044623e-01, 5.20040908e-01, 5.40037193e-01,\n",
       "        5.60033478e-01, 5.80029762e-01, 6.00026047e-01, 6.20022332e-01,\n",
       "        6.40018617e-01, 6.60014902e-01, 6.80011187e-01, 7.00007472e-01,\n",
       "        7.20003757e-01, 7.40000042e-01, 7.59996326e-01, 7.79992611e-01,\n",
       "        7.99988896e-01, 8.19985181e-01, 8.39981466e-01, 8.59977751e-01,\n",
       "        8.79974036e-01, 8.99970321e-01, 9.19966606e-01, 9.39962890e-01,\n",
       "        9.59959175e-01, 9.79955460e-01, 9.99951745e-01]),\n",
       " <BarContainer object of 50 artists>)"
      ]
     },
     "execution_count": 46,
     "metadata": {},
     "output_type": "execute_result"
    },
    {
     "data": {
      "image/png": "[encoded data removed]",
      "text/plain": [
       "<Figure size 432x288 with 1 Axes>"
      ]
     },
     "metadata": {
      "needs_background": "light"
     },
     "output_type": "display_data"
    }
   ],
   "source": [
    "plt.hist(pv_values, bins = 50)"
   ]
  },
  {
   "cell_type": "code",
   "execution_count": 47,
   "id": "453b5935",
   "metadata": {
    "scrolled": false
   },
   "outputs": [
    {
     "data": {
      "text/plain": [
       "(array([4.300e+01, 5.700e+01, 3.100e+01, 4.700e+01, 4.800e+01, 3.600e+01,\n",
       "        3.100e+01, 1.700e+01, 2.800e+01, 1.900e+01, 3.500e+01, 3.600e+01,\n",
       "        3.000e+01, 2.500e+01, 2.100e+01, 3.400e+01, 1.414e+03, 0.000e+00,\n",
       "        0.000e+00, 0.000e+00, 1.000e+00, 0.000e+00, 0.000e+00, 0.000e+00,\n",
       "        0.000e+00, 1.000e+00, 0.000e+00, 0.000e+00, 1.000e+00, 0.000e+00,\n",
       "        2.000e+00, 0.000e+00, 0.000e+00, 0.000e+00, 0.000e+00, 1.000e+00,\n",
       "        3.000e+00, 0.000e+00, 0.000e+00, 0.000e+00, 0.000e+00, 0.000e+00,\n",
       "        1.000e+00, 0.000e+00, 0.000e+00, 0.000e+00, 0.000e+00, 0.000e+00,\n",
       "        0.000e+00, 1.000e+00]),\n",
       " array([ 101.  ,  137.78,  174.56,  211.34,  248.12,  284.9 ,  321.68,\n",
       "         358.46,  395.24,  432.02,  468.8 ,  505.58,  542.36,  579.14,\n",
       "         615.92,  652.7 ,  689.48,  726.26,  763.04,  799.82,  836.6 ,\n",
       "         873.38,  910.16,  946.94,  983.72, 1020.5 , 1057.28, 1094.06,\n",
       "        1130.84, 1167.62, 1204.4 , 1241.18, 1277.96, 1314.74, 1351.52,\n",
       "        1388.3 , 1425.08, 1461.86, 1498.64, 1535.42, 1572.2 , 1608.98,\n",
       "        1645.76, 1682.54, 1719.32, 1756.1 , 1792.88, 1829.66, 1866.44,\n",
       "        1903.22, 1940.  ]),\n",
       " <BarContainer object of 50 artists>)"
      ]
     },
     "execution_count": 47,
     "metadata": {},
     "output_type": "execute_result"
    },
    {
     "data": {
      "image/png": "[encoded data removed]",
      "text/plain": [
       "<Figure size 432x288 with 1 Axes>"
      ]
     },
     "metadata": {
      "needs_background": "light"
     },
     "output_type": "display_data"
    }
   ],
   "source": [
    "plt.hist(dt_length, bins = 50)"
   ]
  },
  {
   "cell_type": "code",
   "execution_count": 48,
   "id": "3e8752ea",
   "metadata": {},
   "outputs": [],
   "source": [
    "alpha = []\n",
    "ta = []\n",
    "\n",
    "for fund in funds_list:\n",
    "    tmp_f = kmodel[kmodel['fund_id'] == fund].reset_index(drop=True)\n",
    "    X = tmp_f.loc[:, 'mkt_rf':'rbrf']\n",
    "    Y = tmp_f.ri - tmp_f.rf\n",
    "    \n",
    "    true_ols = sm.OLS(Y, sm.add_constant(X)).fit()\n",
    "    alpha_i = true_ols.params[0]\n",
    "    ta_i = true_ols.tvalues[0]\n",
    "    \n",
    "    alpha.append(alpha_i) # 每只基金的真实Alpha(使用OLS回归后的估计值)\n",
    "    ta.append(ta_i) # Alpha估计值的t-value"
   ]
  },
  {
   "cell_type": "code",
   "execution_count": 49,
   "id": "fb5b9086",
   "metadata": {},
   "outputs": [],
   "source": [
    "def series_manipulator(alpha, ta):\n",
    "    # 将两个List合并到一起，按alpha排序\n",
    "    alpha = np.array(alpha).reshape(len(alpha),1)\n",
    "    ta = np.array(ta).reshape(len(ta),1)\n",
    "\n",
    "    one_fund_array = np.hstack([alpha, ta])\n",
    "    one_fund_array = one_fund_array[np.argsort(one_fund_array[:,0]),:]\n",
    "    \n",
    "    # 将排好序的alpha和其t-value分开，变成两个二维数组\n",
    "    one_fund_list = np.hsplit(one_fund_array,2)\n",
    "    \n",
    "    return one_fund_list  "
   ]
  },
  {
   "cell_type": "code",
   "execution_count": 50,
   "id": "9577c344",
   "metadata": {},
   "outputs": [
    {
     "data": {
      "text/plain": [
       "[array([[-4.98886672],\n",
       "        [-3.07958337],\n",
       "        [-3.06012209],\n",
       "        ...,\n",
       "        [ 6.00218322],\n",
       "        [ 7.31662105],\n",
       "        [ 8.51994271]]),\n",
       " array([[-1.11091827],\n",
       "        [-2.60090069],\n",
       "        [-2.7638921 ],\n",
       "        ...,\n",
       "        [ 2.31832394],\n",
       "        [ 0.55203724],\n",
       "        [ 2.21078316]])]"
      ]
     },
     "execution_count": 50,
     "metadata": {},
     "output_type": "execute_result"
    }
   ],
   "source": [
    "series_manipulator(alpha, ta)"
   ]
  },
  {
   "cell_type": "code",
   "execution_count": 51,
   "id": "bd7adc0d",
   "metadata": {},
   "outputs": [
    {
     "data": {
      "text/plain": [
       "<matplotlib.collections.PathCollection at 0x11cfc8a30>"
      ]
     },
     "execution_count": 51,
     "metadata": {},
     "output_type": "execute_result"
    },
    {
     "data": {
      "image/png": "[encoded data removed]",
      "text/plain": [
       "<Figure size 432x288 with 1 Axes>"
      ]
     },
     "metadata": {
      "needs_background": "light"
     },
     "output_type": "display_data"
    }
   ],
   "source": [
    "fig = plt.figure()\n",
    "ax = fig.add_subplot(111)\n",
    "ax.scatter(x=alpha, y=ta)"
   ]
  },
  {
   "cell_type": "code",
   "execution_count": 52,
   "id": "cba526f9",
   "metadata": {},
   "outputs": [
    {
     "data": {
      "text/plain": [
       "<matplotlib.collections.PathCollection at 0x11d1d9460>"
      ]
     },
     "execution_count": 52,
     "metadata": {},
     "output_type": "execute_result"
    },
    {
     "data": {
      "image/png": "[encoded data removed]",
      "text/plain": [
       "<Figure size 432x288 with 1 Axes>"
      ]
     },
     "metadata": {
      "needs_background": "light"
     },
     "output_type": "display_data"
    }
   ],
   "source": [
    "fig = plt.figure()\n",
    "ax = fig.add_subplot(111)\n",
    "ax.scatter(x=dt_length, y=pv_values)"
   ]
  },
  {
   "cell_type": "code",
   "execution_count": null,
   "id": "583f3369",
   "metadata": {},
   "outputs": [],
   "source": []
  }
 ],
 "metadata": {
  "kernelspec": {
   "display_name": "Python 3",
   "language": "python",
   "name": "python3"
  },
  "language_info": {
   "codemirror_mode": {
    "name": "ipython",
    "version": 3
   },
   "file_extension": ".py",
   "mimetype": "text/x-python",
   "name": "python",
   "nbconvert_exporter": "python",
   "pygments_lexer": "ipython3",
   "version": "3.8.8"
  }
 },
 "nbformat": 4,
 "nbformat_minor": 5
}
