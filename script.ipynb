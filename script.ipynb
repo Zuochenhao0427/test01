{
 "cells": [
  {
   "cell_type": "markdown",
   "metadata": {},
   "source": [
    "# 股票数据整理（6.7）"
   ]
  },
  {
   "cell_type": "code",
   "execution_count": 39,
   "metadata": {},
   "outputs": [
    {
     "name": "stdout",
     "output_type": "stream",
     "text": [
      "Collecting package metadata (current_repodata.json): | ^C\n",
      "failed\n",
      "\n",
      "CondaError: KeyboardInterrupt\n",
      "\n",
      "\n",
      "Note: you may need to restart the kernel to use updated packages.\n"
     ]
    }
   ],
   "source": [
    "conda install rpy2"
   ]
  },
  {
   "cell_type": "code",
   "execution_count": 40,
   "metadata": {},
   "outputs": [
    {
     "ename": "ModuleNotFoundError",
     "evalue": "No module named 'rpy2'",
     "output_type": "error",
     "traceback": [
      "\u001b[0;31m---------------------------------------------------------------------------\u001b[0m",
      "\u001b[0;31mModuleNotFoundError\u001b[0m                       Traceback (most recent call last)",
      "\u001b[0;32m<ipython-input-40-cf42fd7a68b8>\u001b[0m in \u001b[0;36m<module>\u001b[0;34m\u001b[0m\n\u001b[0;32m----> 1\u001b[0;31m \u001b[0;32mimport\u001b[0m \u001b[0mrpy2\u001b[0m\u001b[0;34m\u001b[0m\u001b[0;34m\u001b[0m\u001b[0m\n\u001b[0m\u001b[1;32m      2\u001b[0m \u001b[0;32mimport\u001b[0m \u001b[0mrpy2\u001b[0m\u001b[0;34m.\u001b[0m\u001b[0mrobjects\u001b[0m \u001b[0;32mas\u001b[0m \u001b[0mrobjects\u001b[0m\u001b[0;34m\u001b[0m\u001b[0;34m\u001b[0m\u001b[0m\n\u001b[1;32m      3\u001b[0m \u001b[0;31m# from rpy2.robjects.packages import importr\u001b[0m\u001b[0;34m\u001b[0m\u001b[0;34m\u001b[0m\u001b[0;34m\u001b[0m\u001b[0m\n\u001b[1;32m      4\u001b[0m \u001b[0;31m# from rpy2.robjects import r\u001b[0m\u001b[0;34m\u001b[0m\u001b[0;34m\u001b[0m\u001b[0;34m\u001b[0m\u001b[0m\n\u001b[1;32m      5\u001b[0m \u001b[0;31m# from rpy2.robjects import pandas2ri\u001b[0m\u001b[0;34m\u001b[0m\u001b[0;34m\u001b[0m\u001b[0;34m\u001b[0m\u001b[0m\n",
      "\u001b[0;31mModuleNotFoundError\u001b[0m: No module named 'rpy2'"
     ]
    }
   ],
   "source": [
    "import rpy2\n",
    "import rpy2.robjects as robjects\n",
    "# from rpy2.robjects.packages import importr\n",
    "# from rpy2.robjects import r\n",
    "# from rpy2.robjects import pandas2ri"
   ]
  },
  {
   "cell_type": "code",
   "execution_count": null,
   "metadata": {},
   "outputs": [],
   "source": [
    "import pandas as pd\n",
    "import numpy as np\n",
    "import statsmodels.api as sm\n",
    "import matplotlib.pyplot as plt\n",
    "from sklearn.utils import resample\n",
    "import datetime\n",
    "from datetime import datetime"
   ]
  },
  {
   "cell_type": "markdown",
   "metadata": {},
   "source": [
    "dt1 = pd.read_csv('股票数据/行情序列2001年周数据.csv')\n",
    "dt2 = pd.read_csv('股票数据/行情序列2002年周数据.csv')\n",
    "dt3 = pd.read_csv('股票数据/行情序列2003年周数据.csv')\n",
    "dt4 = pd.read_csv('股票数据/行情序列2004-5年周数据.csv')\n",
    "dt5 = pd.read_csv('股票数据/行情序列2006-2009年周数据.csv')\n",
    "dt6 = pd.read_csv('股票数据/行情序列2010-2013年周数据.csv')\n",
    "dt7 = pd.read_csv('股票数据/行情序列2014-2018年周数据.csv')"
   ]
  },
  {
   "cell_type": "markdown",
   "metadata": {},
   "source": [
    "dt = pd.concat([dt1,dt2,dt3,dt4,dt5,dt6,dt7], axis = 0, ignore_index = True)"
   ]
  },
  {
   "cell_type": "markdown",
   "metadata": {},
   "source": [
    "dt_na = dt.dropna()"
   ]
  },
  {
   "cell_type": "markdown",
   "metadata": {},
   "source": [
    "dt_na"
   ]
  },
  {
   "cell_type": "markdown",
   "metadata": {},
   "source": [
    "dt.shape"
   ]
  },
  {
   "cell_type": "markdown",
   "metadata": {},
   "source": [
    "dt_na.shape"
   ]
  },
  {
   "cell_type": "markdown",
   "metadata": {},
   "source": [
    "dt_na.to_csv('数据已合并.csv', index = False, encoding='utf_8_sig')"
   ]
  },
  {
   "cell_type": "markdown",
   "metadata": {},
   "source": [
    "# 数据初步描述分析（6.8）\n",
    "\n",
    "见【data description script.R】文件\n",
    "\n",
    "***描述性分析结果*** \n",
    "1. 一共截取328只基金的累积净值数据，运营时间最长的基金从周2005/1/7 - 周2018/12/28，包含715个数据点，有85%的基金单支拥有50 ~ 400个数据点, 其中有25.8%的基金单支拥有200~250个数据点。\n",
    "2. 由04年至18年，每年数据点数量由最初的1个（仅2004/12/31, 上证500ETF一支）至15674个逐年增多。\n",
    "3. 由04年至18年，基金数量由最初的1支至328支逐年增多，13年基金数量超过100支，14年后基金数量猛增。\n"
   ]
  },
  {
   "cell_type": "markdown",
   "metadata": {},
   "source": [
    "# 数据在模型Kosowski、Fama&French的抽样试验（6.9 - 6.15）"
   ]
  },
  {
   "cell_type": "code",
   "execution_count": 41,
   "metadata": {},
   "outputs": [],
   "source": [
    "# 基金数据导入\n",
    "funds = pd.read_csv('funds_data.csv')"
   ]
  },
  {
   "cell_type": "code",
   "execution_count": 42,
   "metadata": {},
   "outputs": [
    {
     "data": {
      "text/plain": [
       "(68838, 4)"
      ]
     },
     "execution_count": 42,
     "metadata": {},
     "output_type": "execute_result"
    }
   ],
   "source": [
    "funds.shape"
   ]
  },
  {
   "cell_type": "code",
   "execution_count": 43,
   "metadata": {},
   "outputs": [
    {
     "data": {
      "text/html": [
       "<div>\n",
       "<style scoped>\n",
       "    .dataframe tbody tr th:only-of-type {\n",
       "        vertical-align: middle;\n",
       "    }\n",
       "\n",
       "    .dataframe tbody tr th {\n",
       "        vertical-align: top;\n",
       "    }\n",
       "\n",
       "    .dataframe thead th {\n",
       "        text-align: right;\n",
       "    }\n",
       "</style>\n",
       "<table border=\"1\" class=\"dataframe\">\n",
       "  <thead>\n",
       "    <tr style=\"text-align: right;\">\n",
       "      <th></th>\n",
       "      <th>代码</th>\n",
       "      <th>简称</th>\n",
       "      <th>时间</th>\n",
       "      <th>周单位净值(元)</th>\n",
       "    </tr>\n",
       "  </thead>\n",
       "  <tbody>\n",
       "    <tr>\n",
       "      <th>0</th>\n",
       "      <td>510050.OF</td>\n",
       "      <td>50ETF</td>\n",
       "      <td>2004-12-31</td>\n",
       "      <td>0.996</td>\n",
       "    </tr>\n",
       "    <tr>\n",
       "      <th>1</th>\n",
       "      <td>510050.OF</td>\n",
       "      <td>50ETF</td>\n",
       "      <td>2005-01-07</td>\n",
       "      <td>0.981</td>\n",
       "    </tr>\n",
       "    <tr>\n",
       "      <th>2</th>\n",
       "      <td>510050.OF</td>\n",
       "      <td>50ETF</td>\n",
       "      <td>2005-01-14</td>\n",
       "      <td>0.983</td>\n",
       "    </tr>\n",
       "    <tr>\n",
       "      <th>3</th>\n",
       "      <td>510050.OF</td>\n",
       "      <td>50ETF</td>\n",
       "      <td>2005-01-21</td>\n",
       "      <td>0.988</td>\n",
       "    </tr>\n",
       "    <tr>\n",
       "      <th>4</th>\n",
       "      <td>510050.OF</td>\n",
       "      <td>50ETF</td>\n",
       "      <td>2005-01-28</td>\n",
       "      <td>0.976</td>\n",
       "    </tr>\n",
       "  </tbody>\n",
       "</table>\n",
       "</div>"
      ],
      "text/plain": [
       "          代码     简称          时间  周单位净值(元)\n",
       "0  510050.OF  50ETF  2004-12-31     0.996\n",
       "1  510050.OF  50ETF  2005-01-07     0.981\n",
       "2  510050.OF  50ETF  2005-01-14     0.983\n",
       "3  510050.OF  50ETF  2005-01-21     0.988\n",
       "4  510050.OF  50ETF  2005-01-28     0.976"
      ]
     },
     "execution_count": 43,
     "metadata": {},
     "output_type": "execute_result"
    }
   ],
   "source": [
    "funds.head(5)"
   ]
  },
  {
   "cell_type": "code",
   "execution_count": 44,
   "metadata": {},
   "outputs": [
    {
     "name": "stdout",
     "output_type": "stream",
     "text": [
      "<class 'pandas.core.frame.DataFrame'>\n",
      "RangeIndex: 68838 entries, 0 to 68837\n",
      "Data columns (total 4 columns):\n",
      " #   Column    Non-Null Count  Dtype  \n",
      "---  ------    --------------  -----  \n",
      " 0   代码        68838 non-null  object \n",
      " 1   简称        68838 non-null  object \n",
      " 2   时间        68838 non-null  object \n",
      " 3   周单位净值(元)  68838 non-null  float64\n",
      "dtypes: float64(1), object(3)\n",
      "memory usage: 2.1+ MB\n"
     ]
    }
   ],
   "source": [
    "funds.info()"
   ]
  },
  {
   "cell_type": "code",
   "execution_count": 45,
   "metadata": {},
   "outputs": [],
   "source": [
    "# 基金回报率计算\n",
    "funds['单位净值(初)']=funds.groupby('代码')['周单位净值(元)'].shift(1)\n",
    "funds['净回报率'] = funds['周单位净值(元)']/funds['单位净值(初)'] - 1"
   ]
  },
  {
   "cell_type": "code",
   "execution_count": 46,
   "metadata": {},
   "outputs": [
    {
     "data": {
      "text/html": [
       "<div>\n",
       "<style scoped>\n",
       "    .dataframe tbody tr th:only-of-type {\n",
       "        vertical-align: middle;\n",
       "    }\n",
       "\n",
       "    .dataframe tbody tr th {\n",
       "        vertical-align: top;\n",
       "    }\n",
       "\n",
       "    .dataframe thead th {\n",
       "        text-align: right;\n",
       "    }\n",
       "</style>\n",
       "<table border=\"1\" class=\"dataframe\">\n",
       "  <thead>\n",
       "    <tr style=\"text-align: right;\">\n",
       "      <th></th>\n",
       "      <th>代码</th>\n",
       "      <th>简称</th>\n",
       "      <th>时间</th>\n",
       "      <th>周单位净值(元)</th>\n",
       "      <th>单位净值(初)</th>\n",
       "      <th>净回报率</th>\n",
       "    </tr>\n",
       "  </thead>\n",
       "  <tbody>\n",
       "    <tr>\n",
       "      <th>0</th>\n",
       "      <td>510050.OF</td>\n",
       "      <td>50ETF</td>\n",
       "      <td>2004-12-31</td>\n",
       "      <td>0.996</td>\n",
       "      <td>NaN</td>\n",
       "      <td>NaN</td>\n",
       "    </tr>\n",
       "    <tr>\n",
       "      <th>1</th>\n",
       "      <td>510050.OF</td>\n",
       "      <td>50ETF</td>\n",
       "      <td>2005-01-07</td>\n",
       "      <td>0.981</td>\n",
       "      <td>0.996</td>\n",
       "      <td>-0.015060</td>\n",
       "    </tr>\n",
       "    <tr>\n",
       "      <th>2</th>\n",
       "      <td>510050.OF</td>\n",
       "      <td>50ETF</td>\n",
       "      <td>2005-01-14</td>\n",
       "      <td>0.983</td>\n",
       "      <td>0.981</td>\n",
       "      <td>0.002039</td>\n",
       "    </tr>\n",
       "    <tr>\n",
       "      <th>3</th>\n",
       "      <td>510050.OF</td>\n",
       "      <td>50ETF</td>\n",
       "      <td>2005-01-21</td>\n",
       "      <td>0.988</td>\n",
       "      <td>0.983</td>\n",
       "      <td>0.005086</td>\n",
       "    </tr>\n",
       "    <tr>\n",
       "      <th>4</th>\n",
       "      <td>510050.OF</td>\n",
       "      <td>50ETF</td>\n",
       "      <td>2005-01-28</td>\n",
       "      <td>0.976</td>\n",
       "      <td>0.988</td>\n",
       "      <td>-0.012146</td>\n",
       "    </tr>\n",
       "    <tr>\n",
       "      <th>5</th>\n",
       "      <td>510050.OF</td>\n",
       "      <td>50ETF</td>\n",
       "      <td>2005-02-04</td>\n",
       "      <td>0.873</td>\n",
       "      <td>0.976</td>\n",
       "      <td>-0.105533</td>\n",
       "    </tr>\n",
       "    <tr>\n",
       "      <th>6</th>\n",
       "      <td>510050.OF</td>\n",
       "      <td>50ETF</td>\n",
       "      <td>2005-02-18</td>\n",
       "      <td>0.856</td>\n",
       "      <td>0.873</td>\n",
       "      <td>-0.019473</td>\n",
       "    </tr>\n",
       "    <tr>\n",
       "      <th>7</th>\n",
       "      <td>510050.OF</td>\n",
       "      <td>50ETF</td>\n",
       "      <td>2005-02-25</td>\n",
       "      <td>0.878</td>\n",
       "      <td>0.856</td>\n",
       "      <td>0.025701</td>\n",
       "    </tr>\n",
       "    <tr>\n",
       "      <th>8</th>\n",
       "      <td>510050.OF</td>\n",
       "      <td>50ETF</td>\n",
       "      <td>2005-03-04</td>\n",
       "      <td>0.859</td>\n",
       "      <td>0.878</td>\n",
       "      <td>-0.021640</td>\n",
       "    </tr>\n",
       "    <tr>\n",
       "      <th>9</th>\n",
       "      <td>510050.OF</td>\n",
       "      <td>50ETF</td>\n",
       "      <td>2005-03-11</td>\n",
       "      <td>0.854</td>\n",
       "      <td>0.859</td>\n",
       "      <td>-0.005821</td>\n",
       "    </tr>\n",
       "  </tbody>\n",
       "</table>\n",
       "</div>"
      ],
      "text/plain": [
       "          代码     简称          时间  周单位净值(元)  单位净值(初)      净回报率\n",
       "0  510050.OF  50ETF  2004-12-31     0.996      NaN       NaN\n",
       "1  510050.OF  50ETF  2005-01-07     0.981    0.996 -0.015060\n",
       "2  510050.OF  50ETF  2005-01-14     0.983    0.981  0.002039\n",
       "3  510050.OF  50ETF  2005-01-21     0.988    0.983  0.005086\n",
       "4  510050.OF  50ETF  2005-01-28     0.976    0.988 -0.012146\n",
       "5  510050.OF  50ETF  2005-02-04     0.873    0.976 -0.105533\n",
       "6  510050.OF  50ETF  2005-02-18     0.856    0.873 -0.019473\n",
       "7  510050.OF  50ETF  2005-02-25     0.878    0.856  0.025701\n",
       "8  510050.OF  50ETF  2005-03-04     0.859    0.878 -0.021640\n",
       "9  510050.OF  50ETF  2005-03-11     0.854    0.859 -0.005821"
      ]
     },
     "execution_count": 46,
     "metadata": {},
     "output_type": "execute_result"
    }
   ],
   "source": [
    "funds.head(10)"
   ]
  },
  {
   "cell_type": "code",
   "execution_count": 47,
   "metadata": {},
   "outputs": [],
   "source": [
    "# Cahart模型因子数据导入\n",
    "cahart = pd.read_csv('fivefactor_weekly.csv')"
   ]
  },
  {
   "cell_type": "code",
   "execution_count": 48,
   "metadata": {},
   "outputs": [
    {
     "data": {
      "text/plain": [
       "(1372, 13)"
      ]
     },
     "execution_count": 48,
     "metadata": {},
     "output_type": "execute_result"
    }
   ],
   "source": [
    "cahart.shape"
   ]
  },
  {
   "cell_type": "code",
   "execution_count": 49,
   "metadata": {},
   "outputs": [
    {
     "data": {
      "text/html": [
       "<div>\n",
       "<style scoped>\n",
       "    .dataframe tbody tr th:only-of-type {\n",
       "        vertical-align: middle;\n",
       "    }\n",
       "\n",
       "    .dataframe tbody tr th {\n",
       "        vertical-align: top;\n",
       "    }\n",
       "\n",
       "    .dataframe thead th {\n",
       "        text-align: right;\n",
       "    }\n",
       "</style>\n",
       "<table border=\"1\" class=\"dataframe\">\n",
       "  <thead>\n",
       "    <tr style=\"text-align: right;\">\n",
       "      <th></th>\n",
       "      <th>trdwk</th>\n",
       "      <th>mkt_rf</th>\n",
       "      <th>smb</th>\n",
       "      <th>hml</th>\n",
       "      <th>umd</th>\n",
       "      <th>rf</th>\n",
       "      <th>smb_equal</th>\n",
       "      <th>hml_equal</th>\n",
       "      <th>umd_equal</th>\n",
       "      <th>rmw</th>\n",
       "      <th>cma</th>\n",
       "      <th>rmw_equal</th>\n",
       "      <th>cma_equal</th>\n",
       "    </tr>\n",
       "  </thead>\n",
       "  <tbody>\n",
       "    <tr>\n",
       "      <th>0</th>\n",
       "      <td>1994-01-14</td>\n",
       "      <td>-0.049785</td>\n",
       "      <td>-0.010605</td>\n",
       "      <td>-0.001557</td>\n",
       "      <td>0.012826</td>\n",
       "      <td>0.002005</td>\n",
       "      <td>-0.006920</td>\n",
       "      <td>0.007555</td>\n",
       "      <td>0.010533</td>\n",
       "      <td>0.010301</td>\n",
       "      <td>-0.022515</td>\n",
       "      <td>0.001189</td>\n",
       "      <td>-0.019500</td>\n",
       "    </tr>\n",
       "    <tr>\n",
       "      <th>1</th>\n",
       "      <td>1994-01-21</td>\n",
       "      <td>-0.040166</td>\n",
       "      <td>0.024709</td>\n",
       "      <td>0.006786</td>\n",
       "      <td>0.034309</td>\n",
       "      <td>0.002005</td>\n",
       "      <td>0.018672</td>\n",
       "      <td>0.004249</td>\n",
       "      <td>0.023625</td>\n",
       "      <td>-0.023659</td>\n",
       "      <td>-0.015334</td>\n",
       "      <td>-0.023030</td>\n",
       "      <td>-0.000086</td>\n",
       "    </tr>\n",
       "    <tr>\n",
       "      <th>2</th>\n",
       "      <td>1994-01-28</td>\n",
       "      <td>-0.058775</td>\n",
       "      <td>0.023957</td>\n",
       "      <td>0.032066</td>\n",
       "      <td>-0.033173</td>\n",
       "      <td>0.002005</td>\n",
       "      <td>0.027413</td>\n",
       "      <td>0.025122</td>\n",
       "      <td>-0.024170</td>\n",
       "      <td>-0.031257</td>\n",
       "      <td>-0.035271</td>\n",
       "      <td>-0.024394</td>\n",
       "      <td>-0.017531</td>\n",
       "    </tr>\n",
       "    <tr>\n",
       "      <th>3</th>\n",
       "      <td>1994-02-04</td>\n",
       "      <td>0.063141</td>\n",
       "      <td>-0.030274</td>\n",
       "      <td>-0.053609</td>\n",
       "      <td>0.008469</td>\n",
       "      <td>0.002005</td>\n",
       "      <td>-0.037995</td>\n",
       "      <td>-0.052423</td>\n",
       "      <td>-0.003859</td>\n",
       "      <td>0.070407</td>\n",
       "      <td>0.031119</td>\n",
       "      <td>0.068059</td>\n",
       "      <td>0.005449</td>\n",
       "    </tr>\n",
       "    <tr>\n",
       "      <th>4</th>\n",
       "      <td>1994-02-18</td>\n",
       "      <td>-0.100108</td>\n",
       "      <td>0.034504</td>\n",
       "      <td>0.044310</td>\n",
       "      <td>0.002641</td>\n",
       "      <td>0.002005</td>\n",
       "      <td>0.033935</td>\n",
       "      <td>0.033539</td>\n",
       "      <td>0.008561</td>\n",
       "      <td>-0.074498</td>\n",
       "      <td>-0.036797</td>\n",
       "      <td>-0.051754</td>\n",
       "      <td>-0.007289</td>\n",
       "    </tr>\n",
       "  </tbody>\n",
       "</table>\n",
       "</div>"
      ],
      "text/plain": [
       "        trdwk    mkt_rf       smb       hml       umd        rf  smb_equal  \\\n",
       "0  1994-01-14 -0.049785 -0.010605 -0.001557  0.012826  0.002005  -0.006920   \n",
       "1  1994-01-21 -0.040166  0.024709  0.006786  0.034309  0.002005   0.018672   \n",
       "2  1994-01-28 -0.058775  0.023957  0.032066 -0.033173  0.002005   0.027413   \n",
       "3  1994-02-04  0.063141 -0.030274 -0.053609  0.008469  0.002005  -0.037995   \n",
       "4  1994-02-18 -0.100108  0.034504  0.044310  0.002641  0.002005   0.033935   \n",
       "\n",
       "   hml_equal  umd_equal       rmw       cma  rmw_equal  cma_equal  \n",
       "0   0.007555   0.010533  0.010301 -0.022515   0.001189  -0.019500  \n",
       "1   0.004249   0.023625 -0.023659 -0.015334  -0.023030  -0.000086  \n",
       "2   0.025122  -0.024170 -0.031257 -0.035271  -0.024394  -0.017531  \n",
       "3  -0.052423  -0.003859  0.070407  0.031119   0.068059   0.005449  \n",
       "4   0.033539   0.008561 -0.074498 -0.036797  -0.051754  -0.007289  "
      ]
     },
     "execution_count": 49,
     "metadata": {},
     "output_type": "execute_result"
    }
   ],
   "source": [
    "cahart.head(5)"
   ]
  },
  {
   "cell_type": "code",
   "execution_count": 50,
   "metadata": {},
   "outputs": [
    {
     "name": "stdout",
     "output_type": "stream",
     "text": [
      "<class 'pandas.core.frame.DataFrame'>\n",
      "RangeIndex: 1372 entries, 0 to 1371\n",
      "Data columns (total 13 columns):\n",
      " #   Column     Non-Null Count  Dtype  \n",
      "---  ------     --------------  -----  \n",
      " 0   trdwk      1372 non-null   object \n",
      " 1   mkt_rf     1372 non-null   float64\n",
      " 2   smb        1372 non-null   float64\n",
      " 3   hml        1372 non-null   float64\n",
      " 4   umd        1372 non-null   float64\n",
      " 5   rf         1372 non-null   float64\n",
      " 6   smb_equal  1372 non-null   float64\n",
      " 7   hml_equal  1372 non-null   float64\n",
      " 8   umd_equal  1372 non-null   float64\n",
      " 9   rmw        1372 non-null   float64\n",
      " 10  cma        1372 non-null   float64\n",
      " 11  rmw_equal  1372 non-null   float64\n",
      " 12  cma_equal  1372 non-null   float64\n",
      "dtypes: float64(12), object(1)\n",
      "memory usage: 139.5+ KB\n"
     ]
    }
   ],
   "source": [
    "cahart.info()"
   ]
  },
  {
   "cell_type": "code",
   "execution_count": 51,
   "metadata": {},
   "outputs": [],
   "source": [
    "# 时间类数据格式调整\n",
    "funds['时间'] = pd.to_datetime(funds['时间'], format='%Y-%m-%d')\n",
    "cahart['trdwk'] = pd.to_datetime(cahart['trdwk'], format='%Y-%m-%d')"
   ]
  },
  {
   "cell_type": "markdown",
   "metadata": {},
   "source": [
    "## Kosowaski模型（6.9 - 6.11）\n",
    "\n",
    "### 1、构建残差population\n",
    "\n",
    "按照Kosowaski模型，根据Cahart四因子模型构建各基金alpha, 周因子数据由国泰安数据库提供。\n",
    "\n",
    "##### 对齐四因子与基金周收益时间点\n",
    "取四因子及最长运营的基金周收益05/01/07 - 18/12/28数据进行right_join, 结果如下；"
   ]
  },
  {
   "attachments": {
    "image.png": {
     "image/png": "[encoded data removed]"
    }
   },
   "cell_type": "markdown",
   "metadata": {},
   "source": [
    "***观察结果***：周因子数据与单支基金周净值数据存在差值，周因子数据缺失2006/10/6、2007/10/5、2009/12/31、2013/12/31四周数据，为计算alpha、载荷及残差用缺失值上值进行填补。\n",
    "![image.png](attachment:image.png)"
   ]
  },
  {
   "cell_type": "markdown",
   "metadata": {},
   "source": [
    "#### 合并四因子与基金收益率"
   ]
  },
  {
   "cell_type": "code",
   "execution_count": 52,
   "metadata": {},
   "outputs": [],
   "source": [
    "# 取Cahart模型所需因子：市场风险因子（mkt_rf）、规模风险因子（smb）、账面市值比风险因子（hml）、惯性/动量因子（umd）及无风险利率（rf）\n",
    "c1 = cahart[(cahart['trdwk']>=\"2005-01-07\")&(cahart['trdwk']<=\"2018-12-28\")]\n",
    "c2 = c1[['trdwk','mkt_rf','smb','hml','umd','rf']]\n",
    "# 取基金净值有效时间段内数据\n",
    "f = funds[(funds['时间']>='2005-01-07')&(funds['时间']<='2018-12-28')]\n",
    "f = f.rename(columns = {'时间': 'trdwk'})\n",
    "# 合并因子与基金净值\n",
    "cmodel = pd.merge(f, c2, how='left', on='trdwk')"
   ]
  },
  {
   "cell_type": "code",
   "execution_count": 53,
   "metadata": {},
   "outputs": [],
   "source": [
    "# 处理缺失值： 用上一个非缺失值填补\n",
    "cmodel = cmodel.fillna(method='ffill')"
   ]
  },
  {
   "cell_type": "code",
   "execution_count": 161,
   "metadata": {},
   "outputs": [
    {
     "data": {
      "text/html": [
       "<div>\n",
       "<style scoped>\n",
       "    .dataframe tbody tr th:only-of-type {\n",
       "        vertical-align: middle;\n",
       "    }\n",
       "\n",
       "    .dataframe tbody tr th {\n",
       "        vertical-align: top;\n",
       "    }\n",
       "\n",
       "    .dataframe thead th {\n",
       "        text-align: right;\n",
       "    }\n",
       "</style>\n",
       "<table border=\"1\" class=\"dataframe\">\n",
       "  <thead>\n",
       "    <tr style=\"text-align: right;\">\n",
       "      <th></th>\n",
       "      <th>code</th>\n",
       "      <th>name</th>\n",
       "      <th>trdwk</th>\n",
       "      <th>ri</th>\n",
       "      <th>mkt_rf</th>\n",
       "      <th>smb</th>\n",
       "      <th>hml</th>\n",
       "      <th>umd</th>\n",
       "      <th>rf</th>\n",
       "    </tr>\n",
       "  </thead>\n",
       "  <tbody>\n",
       "    <tr>\n",
       "      <th>0</th>\n",
       "      <td>510050.OF</td>\n",
       "      <td>50ETF</td>\n",
       "      <td>2005-01-07</td>\n",
       "      <td>-0.015060</td>\n",
       "      <td>-0.009569</td>\n",
       "      <td>0.016692</td>\n",
       "      <td>-0.001600</td>\n",
       "      <td>-0.026043</td>\n",
       "      <td>0.000428</td>\n",
       "    </tr>\n",
       "    <tr>\n",
       "      <th>1</th>\n",
       "      <td>510050.OF</td>\n",
       "      <td>50ETF</td>\n",
       "      <td>2005-01-14</td>\n",
       "      <td>0.002039</td>\n",
       "      <td>0.002330</td>\n",
       "      <td>0.006033</td>\n",
       "      <td>0.002732</td>\n",
       "      <td>-0.003396</td>\n",
       "      <td>0.000428</td>\n",
       "    </tr>\n",
       "    <tr>\n",
       "      <th>2</th>\n",
       "      <td>510050.OF</td>\n",
       "      <td>50ETF</td>\n",
       "      <td>2005-01-21</td>\n",
       "      <td>0.005086</td>\n",
       "      <td>-0.008801</td>\n",
       "      <td>0.004323</td>\n",
       "      <td>0.002299</td>\n",
       "      <td>-0.018932</td>\n",
       "      <td>0.000428</td>\n",
       "    </tr>\n",
       "    <tr>\n",
       "      <th>3</th>\n",
       "      <td>510050.OF</td>\n",
       "      <td>50ETF</td>\n",
       "      <td>2005-01-28</td>\n",
       "      <td>-0.012146</td>\n",
       "      <td>-0.022081</td>\n",
       "      <td>-0.017804</td>\n",
       "      <td>-0.002866</td>\n",
       "      <td>0.034744</td>\n",
       "      <td>0.000428</td>\n",
       "    </tr>\n",
       "    <tr>\n",
       "      <th>4</th>\n",
       "      <td>510050.OF</td>\n",
       "      <td>50ETF</td>\n",
       "      <td>2005-02-04</td>\n",
       "      <td>-0.105533</td>\n",
       "      <td>0.027939</td>\n",
       "      <td>-0.046164</td>\n",
       "      <td>0.001879</td>\n",
       "      <td>0.039884</td>\n",
       "      <td>0.000428</td>\n",
       "    </tr>\n",
       "    <tr>\n",
       "      <th>...</th>\n",
       "      <td>...</td>\n",
       "      <td>...</td>\n",
       "      <td>...</td>\n",
       "      <td>...</td>\n",
       "      <td>...</td>\n",
       "      <td>...</td>\n",
       "      <td>...</td>\n",
       "      <td>...</td>\n",
       "      <td>...</td>\n",
       "    </tr>\n",
       "    <tr>\n",
       "      <th>68504</th>\n",
       "      <td>513100.OF</td>\n",
       "      <td>纳指ETF</td>\n",
       "      <td>2018-12-28</td>\n",
       "      <td>0.035256</td>\n",
       "      <td>-0.011328</td>\n",
       "      <td>-0.012620</td>\n",
       "      <td>-0.012730</td>\n",
       "      <td>0.024224</td>\n",
       "      <td>0.000286</td>\n",
       "    </tr>\n",
       "    <tr>\n",
       "      <th>68505</th>\n",
       "      <td>513500.OF</td>\n",
       "      <td>标普500</td>\n",
       "      <td>2018-12-28</td>\n",
       "      <td>0.024905</td>\n",
       "      <td>-0.011328</td>\n",
       "      <td>-0.012620</td>\n",
       "      <td>-0.012730</td>\n",
       "      <td>0.024224</td>\n",
       "      <td>0.000286</td>\n",
       "    </tr>\n",
       "    <tr>\n",
       "      <th>68506</th>\n",
       "      <td>513600.OF</td>\n",
       "      <td>恒指ETF</td>\n",
       "      <td>2018-12-28</td>\n",
       "      <td>-0.013003</td>\n",
       "      <td>-0.011328</td>\n",
       "      <td>-0.012620</td>\n",
       "      <td>-0.012730</td>\n",
       "      <td>0.024224</td>\n",
       "      <td>0.000286</td>\n",
       "    </tr>\n",
       "    <tr>\n",
       "      <th>68507</th>\n",
       "      <td>513680.OF</td>\n",
       "      <td>建信H股</td>\n",
       "      <td>2018-12-28</td>\n",
       "      <td>0.000600</td>\n",
       "      <td>-0.011328</td>\n",
       "      <td>-0.012620</td>\n",
       "      <td>-0.012730</td>\n",
       "      <td>0.024224</td>\n",
       "      <td>0.000286</td>\n",
       "    </tr>\n",
       "    <tr>\n",
       "      <th>68508</th>\n",
       "      <td>513900.OF</td>\n",
       "      <td>港股100</td>\n",
       "      <td>2018-12-28</td>\n",
       "      <td>-0.010172</td>\n",
       "      <td>-0.011328</td>\n",
       "      <td>-0.012620</td>\n",
       "      <td>-0.012730</td>\n",
       "      <td>0.024224</td>\n",
       "      <td>0.000286</td>\n",
       "    </tr>\n",
       "  </tbody>\n",
       "</table>\n",
       "<p>68509 rows × 9 columns</p>\n",
       "</div>"
      ],
      "text/plain": [
       "            code   name      trdwk        ri    mkt_rf       smb       hml  \\\n",
       "0      510050.OF  50ETF 2005-01-07 -0.015060 -0.009569  0.016692 -0.001600   \n",
       "1      510050.OF  50ETF 2005-01-14  0.002039  0.002330  0.006033  0.002732   \n",
       "2      510050.OF  50ETF 2005-01-21  0.005086 -0.008801  0.004323  0.002299   \n",
       "3      510050.OF  50ETF 2005-01-28 -0.012146 -0.022081 -0.017804 -0.002866   \n",
       "4      510050.OF  50ETF 2005-02-04 -0.105533  0.027939 -0.046164  0.001879   \n",
       "...          ...    ...        ...       ...       ...       ...       ...   \n",
       "68504  513100.OF  纳指ETF 2018-12-28  0.035256 -0.011328 -0.012620 -0.012730   \n",
       "68505  513500.OF  标普500 2018-12-28  0.024905 -0.011328 -0.012620 -0.012730   \n",
       "68506  513600.OF  恒指ETF 2018-12-28 -0.013003 -0.011328 -0.012620 -0.012730   \n",
       "68507  513680.OF   建信H股 2018-12-28  0.000600 -0.011328 -0.012620 -0.012730   \n",
       "68508  513900.OF  港股100 2018-12-28 -0.010172 -0.011328 -0.012620 -0.012730   \n",
       "\n",
       "            umd        rf  \n",
       "0     -0.026043  0.000428  \n",
       "1     -0.003396  0.000428  \n",
       "2     -0.018932  0.000428  \n",
       "3      0.034744  0.000428  \n",
       "4      0.039884  0.000428  \n",
       "...         ...       ...  \n",
       "68504  0.024224  0.000286  \n",
       "68505  0.024224  0.000286  \n",
       "68506  0.024224  0.000286  \n",
       "68507  0.024224  0.000286  \n",
       "68508  0.024224  0.000286  \n",
       "\n",
       "[68509 rows x 9 columns]"
      ]
     },
     "execution_count": 161,
     "metadata": {},
     "output_type": "execute_result"
    }
   ],
   "source": [
    "cmodel"
   ]
  },
  {
   "cell_type": "code",
   "execution_count": 54,
   "metadata": {},
   "outputs": [],
   "source": [
    "# 调整合并后数据列名\n",
    "cmodel = cmodel.drop(columns = ['周单位净值(元)', '单位净值(初)'])\n",
    "cmodel = cmodel.rename(columns = {'代码': 'code', '简称': 'name', '净回报率': 'ri'})"
   ]
  },
  {
   "cell_type": "code",
   "execution_count": 55,
   "metadata": {},
   "outputs": [
    {
     "data": {
      "text/plain": [
       "(68509, 9)"
      ]
     },
     "execution_count": 55,
     "metadata": {},
     "output_type": "execute_result"
    }
   ],
   "source": [
    "cmodel.shape"
   ]
  },
  {
   "cell_type": "code",
   "execution_count": 56,
   "metadata": {},
   "outputs": [
    {
     "data": {
      "text/html": [
       "<div>\n",
       "<style scoped>\n",
       "    .dataframe tbody tr th:only-of-type {\n",
       "        vertical-align: middle;\n",
       "    }\n",
       "\n",
       "    .dataframe tbody tr th {\n",
       "        vertical-align: top;\n",
       "    }\n",
       "\n",
       "    .dataframe thead th {\n",
       "        text-align: right;\n",
       "    }\n",
       "</style>\n",
       "<table border=\"1\" class=\"dataframe\">\n",
       "  <thead>\n",
       "    <tr style=\"text-align: right;\">\n",
       "      <th></th>\n",
       "      <th>code</th>\n",
       "      <th>name</th>\n",
       "      <th>trdwk</th>\n",
       "      <th>ri</th>\n",
       "      <th>mkt_rf</th>\n",
       "      <th>smb</th>\n",
       "      <th>hml</th>\n",
       "      <th>umd</th>\n",
       "      <th>rf</th>\n",
       "    </tr>\n",
       "  </thead>\n",
       "  <tbody>\n",
       "    <tr>\n",
       "      <th>0</th>\n",
       "      <td>510050.OF</td>\n",
       "      <td>50ETF</td>\n",
       "      <td>2005-01-07</td>\n",
       "      <td>-0.015060</td>\n",
       "      <td>-0.009569</td>\n",
       "      <td>0.016692</td>\n",
       "      <td>-0.001600</td>\n",
       "      <td>-0.026043</td>\n",
       "      <td>0.000428</td>\n",
       "    </tr>\n",
       "    <tr>\n",
       "      <th>1</th>\n",
       "      <td>510050.OF</td>\n",
       "      <td>50ETF</td>\n",
       "      <td>2005-01-14</td>\n",
       "      <td>0.002039</td>\n",
       "      <td>0.002330</td>\n",
       "      <td>0.006033</td>\n",
       "      <td>0.002732</td>\n",
       "      <td>-0.003396</td>\n",
       "      <td>0.000428</td>\n",
       "    </tr>\n",
       "    <tr>\n",
       "      <th>2</th>\n",
       "      <td>510050.OF</td>\n",
       "      <td>50ETF</td>\n",
       "      <td>2005-01-21</td>\n",
       "      <td>0.005086</td>\n",
       "      <td>-0.008801</td>\n",
       "      <td>0.004323</td>\n",
       "      <td>0.002299</td>\n",
       "      <td>-0.018932</td>\n",
       "      <td>0.000428</td>\n",
       "    </tr>\n",
       "    <tr>\n",
       "      <th>3</th>\n",
       "      <td>510050.OF</td>\n",
       "      <td>50ETF</td>\n",
       "      <td>2005-01-28</td>\n",
       "      <td>-0.012146</td>\n",
       "      <td>-0.022081</td>\n",
       "      <td>-0.017804</td>\n",
       "      <td>-0.002866</td>\n",
       "      <td>0.034744</td>\n",
       "      <td>0.000428</td>\n",
       "    </tr>\n",
       "    <tr>\n",
       "      <th>4</th>\n",
       "      <td>510050.OF</td>\n",
       "      <td>50ETF</td>\n",
       "      <td>2005-02-04</td>\n",
       "      <td>-0.105533</td>\n",
       "      <td>0.027939</td>\n",
       "      <td>-0.046164</td>\n",
       "      <td>0.001879</td>\n",
       "      <td>0.039884</td>\n",
       "      <td>0.000428</td>\n",
       "    </tr>\n",
       "  </tbody>\n",
       "</table>\n",
       "</div>"
      ],
      "text/plain": [
       "        code   name      trdwk        ri    mkt_rf       smb       hml  \\\n",
       "0  510050.OF  50ETF 2005-01-07 -0.015060 -0.009569  0.016692 -0.001600   \n",
       "1  510050.OF  50ETF 2005-01-14  0.002039  0.002330  0.006033  0.002732   \n",
       "2  510050.OF  50ETF 2005-01-21  0.005086 -0.008801  0.004323  0.002299   \n",
       "3  510050.OF  50ETF 2005-01-28 -0.012146 -0.022081 -0.017804 -0.002866   \n",
       "4  510050.OF  50ETF 2005-02-04 -0.105533  0.027939 -0.046164  0.001879   \n",
       "\n",
       "        umd        rf  \n",
       "0 -0.026043  0.000428  \n",
       "1 -0.003396  0.000428  \n",
       "2 -0.018932  0.000428  \n",
       "3  0.034744  0.000428  \n",
       "4  0.039884  0.000428  "
      ]
     },
     "execution_count": 56,
     "metadata": {},
     "output_type": "execute_result"
    }
   ],
   "source": [
    "cmodel.head(5)"
   ]
  },
  {
   "cell_type": "code",
   "execution_count": 57,
   "metadata": {},
   "outputs": [],
   "source": [
    "# 查看净值与四因子之间相关性\n",
    "corr_dt = cmodel[3:]"
   ]
  },
  {
   "cell_type": "code",
   "execution_count": 58,
   "metadata": {
    "scrolled": true
   },
   "outputs": [
    {
     "data": {
      "text/html": [
       "<div>\n",
       "<style scoped>\n",
       "    .dataframe tbody tr th:only-of-type {\n",
       "        vertical-align: middle;\n",
       "    }\n",
       "\n",
       "    .dataframe tbody tr th {\n",
       "        vertical-align: top;\n",
       "    }\n",
       "\n",
       "    .dataframe thead th {\n",
       "        text-align: right;\n",
       "    }\n",
       "</style>\n",
       "<table border=\"1\" class=\"dataframe\">\n",
       "  <thead>\n",
       "    <tr style=\"text-align: right;\">\n",
       "      <th></th>\n",
       "      <th>ri</th>\n",
       "      <th>mkt_rf</th>\n",
       "      <th>smb</th>\n",
       "      <th>hml</th>\n",
       "      <th>umd</th>\n",
       "      <th>rf</th>\n",
       "    </tr>\n",
       "  </thead>\n",
       "  <tbody>\n",
       "    <tr>\n",
       "      <th>ri</th>\n",
       "      <td>1.000000</td>\n",
       "      <td>0.304408</td>\n",
       "      <td>0.075035</td>\n",
       "      <td>-0.038966</td>\n",
       "      <td>-0.000128</td>\n",
       "      <td>0.020507</td>\n",
       "    </tr>\n",
       "    <tr>\n",
       "      <th>mkt_rf</th>\n",
       "      <td>0.304408</td>\n",
       "      <td>1.000000</td>\n",
       "      <td>0.393862</td>\n",
       "      <td>-0.195522</td>\n",
       "      <td>0.087409</td>\n",
       "      <td>0.056437</td>\n",
       "    </tr>\n",
       "    <tr>\n",
       "      <th>smb</th>\n",
       "      <td>0.075035</td>\n",
       "      <td>0.393862</td>\n",
       "      <td>1.000000</td>\n",
       "      <td>-0.525071</td>\n",
       "      <td>-0.106395</td>\n",
       "      <td>0.077798</td>\n",
       "    </tr>\n",
       "    <tr>\n",
       "      <th>hml</th>\n",
       "      <td>-0.038966</td>\n",
       "      <td>-0.195522</td>\n",
       "      <td>-0.525071</td>\n",
       "      <td>1.000000</td>\n",
       "      <td>-0.066269</td>\n",
       "      <td>-0.043882</td>\n",
       "    </tr>\n",
       "    <tr>\n",
       "      <th>umd</th>\n",
       "      <td>-0.000128</td>\n",
       "      <td>0.087409</td>\n",
       "      <td>-0.106395</td>\n",
       "      <td>-0.066269</td>\n",
       "      <td>1.000000</td>\n",
       "      <td>-0.011658</td>\n",
       "    </tr>\n",
       "    <tr>\n",
       "      <th>rf</th>\n",
       "      <td>0.020507</td>\n",
       "      <td>0.056437</td>\n",
       "      <td>0.077798</td>\n",
       "      <td>-0.043882</td>\n",
       "      <td>-0.011658</td>\n",
       "      <td>1.000000</td>\n",
       "    </tr>\n",
       "  </tbody>\n",
       "</table>\n",
       "</div>"
      ],
      "text/plain": [
       "              ri    mkt_rf       smb       hml       umd        rf\n",
       "ri      1.000000  0.304408  0.075035 -0.038966 -0.000128  0.020507\n",
       "mkt_rf  0.304408  1.000000  0.393862 -0.195522  0.087409  0.056437\n",
       "smb     0.075035  0.393862  1.000000 -0.525071 -0.106395  0.077798\n",
       "hml    -0.038966 -0.195522 -0.525071  1.000000 -0.066269 -0.043882\n",
       "umd    -0.000128  0.087409 -0.106395 -0.066269  1.000000 -0.011658\n",
       "rf      0.020507  0.056437  0.077798 -0.043882 -0.011658  1.000000"
      ]
     },
     "execution_count": 58,
     "metadata": {},
     "output_type": "execute_result"
    }
   ],
   "source": [
    "corr_dt.corr()"
   ]
  },
  {
   "cell_type": "markdown",
   "metadata": {},
   "source": [
    "#### 建立OLS回归模型\n",
    "\n",
    "根据论文描述，Kosowaski模型是对单支基金先OLS回归得到残差，再对单支基金的残差pop进行bootstrap抽样，一次bootstrap抽样能得到一组残差样本，在计算出一组伪净值数据，根据一组伪净值数据用OLS回归计算出一个伪alpha。\n",
    "\n",
    "bootstrap对单支基金抽样b次能得到b个伪alpha，抽样n个基金能构成一个n乘以b的alpha分布。"
   ]
  },
  {
   "cell_type": "code",
   "execution_count": 59,
   "metadata": {},
   "outputs": [],
   "source": [
    "funds_list = cmodel.code.unique() # 基金清单"
   ]
  },
  {
   "cell_type": "code",
   "execution_count": 60,
   "metadata": {},
   "outputs": [],
   "source": [
    "# 多基金残差计算\n",
    "def res_caculator(f):\n",
    "    Y = f['ri']-f['rf']\n",
    "    result = sm.OLS(Y, sm.add_constant(f.loc[:, ['mkt_rf', 'smb', 'hml', 'umd']])).fit() # 净值根据Cahart四因子做线性回归\n",
    "    y_dot = result.fittedvalues # 线性方程拟合后计算净值预测值\n",
    "    res = Y - y_dot # 净值与净值预测值相减形成残差\n",
    "    \n",
    "    # 记录回归方程中各参数取值\n",
    "    coef = {}\n",
    "    coef.update(alpha_dot = result.params[0], mkt_b = result.params[1], smb_b = result.params[2], hml_b = result.params[3],  umd_b = result.params[4])\n",
    "    \n",
    "    # 返回res计算后的单支基金数据及对应的四因子回归方程系数\n",
    "    return (res, coef) "
   ]
  },
  {
   "cell_type": "markdown",
   "metadata": {},
   "source": [
    "cmodel.groupby('code').apply(lambda x:)"
   ]
  },
  {
   "cell_type": "code",
   "execution_count": 61,
   "metadata": {},
   "outputs": [],
   "source": [
    "########## TEST ###########\n",
    "funds1 = cmodel[cmodel['code'] == funds_list[0]].reset_index(drop=True) # 使用基金清单中第一支基金测试以上残差计算函数\n",
    "plt1 = res_caculator(funds1)[0]\n",
    "coefs = res_caculator(funds1)[1]"
   ]
  },
  {
   "cell_type": "code",
   "execution_count": 62,
   "metadata": {},
   "outputs": [
    {
     "data": {
      "text/plain": [
       "{'alpha_dot': 0.0007632565614886969,\n",
       " 'mkt_b': 0.8237490201811966,\n",
       " 'smb_b': -0.7486937847555779,\n",
       " 'hml_b': 0.2894550245224568,\n",
       " 'umd_b': -0.13584626759849072}"
      ]
     },
     "execution_count": 62,
     "metadata": {},
     "output_type": "execute_result"
    }
   ],
   "source": [
    "coefs"
   ]
  },
  {
   "cell_type": "code",
   "execution_count": 63,
   "metadata": {},
   "outputs": [
    {
     "data": {
      "text/plain": [
       "[<matplotlib.lines.Line2D at 0x125d98160>]"
      ]
     },
     "execution_count": 63,
     "metadata": {},
     "output_type": "execute_result"
    },
    {
     "data": {
      "image/png": "[encoded data removed]",
      "text/plain": [
       "<Figure size 432x288 with 1 Axes>"
      ]
     },
     "metadata": {
      "needs_background": "light"
     },
     "output_type": "display_data"
    }
   ],
   "source": [
    "########## TEST ###########\n",
    "fig = plt.figure()  # 残差计算结果，表现出四因子估计值与基金真是净值时序之间的关系 \n",
    "ax = fig.add_subplot(111)\n",
    "funds1.loc[:,'res'] = plt1\n",
    "ax.plot(funds1.trdwk, funds1.res) # 残差分布在[-0.1, 0.1]之间"
   ]
  },
  {
   "attachments": {
    "image.png": {
     "image/png": "[encoded data removed]"
    }
   },
   "cell_type": "markdown",
   "metadata": {},
   "source": [
    "### 2. 构建基金回报率伪时间序列、伪Alpha计算方程 （6.15）\n",
    "\n",
    "Kosowski模型创造基金回报率伪时间序列的方式是首先对残差数列进行有放回抽样，使用抽样残差数列，配合以下公式计算基金回报率伪时间序列：\n",
    "![image.png](attachment:image.png)\n",
    "\n",
    "#### 残差抽样方程"
   ]
  },
  {
   "cell_type": "code",
   "execution_count": 64,
   "metadata": {},
   "outputs": [],
   "source": [
    "# kosowski模型针对残差的Bootstrap抽样（******* 抽样部分之后要加入最优时序分块和家族分块步骤 ********）\n",
    "def k_sampling(res):\n",
    "    # 残余抽样\n",
    "    n = len(res)\n",
    "    spl_res = resample(res, n_samples = n, replace = 1)\n",
    "    \n",
    "    return spl_res"
   ]
  },
  {
   "cell_type": "code",
   "execution_count": 65,
   "metadata": {},
   "outputs": [],
   "source": [
    "def k_sampling1(res):\n",
    "    # 最优时序分块采样\n",
    "    #tseries = importr('tseries')\n",
    "    tseries = importr('tseries')\n",
    "    #tsbootstrap = robjects.r['tsbootstrap']()\n",
    "    spl_res = tseries.tsbootstrap(res, nb = 1, m = 1)\n",
    "#     spl_res = pd.Series(np.array(spl_res))\n",
    "\n",
    "    return spl_res\n",
    "\n",
    "# def k_sampling1(res):\n",
    "#     # 最优时序分块采样\n",
    "#     #tseries = importr('tseries')\n",
    "#     tseries = importr('tseries')\n",
    "#     #tsbootstrap = robjects.r['tsbootstrap']()\n",
    "#     spl_res = tseries.tsbootstrap(res, nb = 1000, m = 1)\n",
    "#     spl_res = np.array(spl_res)\n",
    "\n",
    "#     return spl_res"
   ]
  },
  {
   "cell_type": "code",
   "execution_count": 66,
   "metadata": {
    "scrolled": true
   },
   "outputs": [
    {
     "data": {
      "text/plain": [
       "(715,)"
      ]
     },
     "execution_count": 66,
     "metadata": {},
     "output_type": "execute_result"
    }
   ],
   "source": [
    "########## TEST ###########\n",
    "plt1_k_sample = k_sampling(plt1)\n",
    "plt1_k_sample.shape"
   ]
  },
  {
   "cell_type": "markdown",
   "metadata": {},
   "source": [
    "k_sampling1(plt1)"
   ]
  },
  {
   "cell_type": "markdown",
   "metadata": {},
   "source": [
    "#### 伪Alpha计算方程\n",
    "得到回报率伪时间序列后，再通过CahartOLS再次回归，得到该基金伪Alpha"
   ]
  },
  {
   "cell_type": "code",
   "execution_count": 67,
   "metadata": {},
   "outputs": [],
   "source": [
    "# kosowski模型抽样残差进行伪回报及伪alpha计算\n",
    "def k_fake_alpha_calculator(res, coef, cahart_factors):\n",
    "    res = res.reset_index(drop=True)\n",
    "    \n",
    "    # 通过残差抽样计算伪回报率\n",
    "    fake_y = cahart_factors['mkt_rf']*coef.get('mkt_b') + cahart_factors['smb']*coef.get('smb_b') + \\\n",
    "                   cahart_factors['hml']*coef.get('hml_b') + cahart_factors['umd']*coef.get('umd_b') + res\n",
    "    \n",
    "    # 得到伪回报率，通过伪回报率Cahart OLS回归得到基金伪Alpha.\n",
    "    fake_result = sm.OLS(fake_y, sm.add_constant(cahart_factors.loc[:, 'mkt_rf':'umd'])).fit()\n",
    "    fake_alpha = fake_result.params[0]\n",
    "    fake_ta = fake_result.tvalues[0]\n",
    "    \n",
    "    return (fake_alpha, fake_ta)"
   ]
  },
  {
   "cell_type": "code",
   "execution_count": 68,
   "metadata": {},
   "outputs": [
    {
     "data": {
      "text/plain": [
       "(-0.0002874563183637162, -0.4628407447030116)"
      ]
     },
     "execution_count": 68,
     "metadata": {},
     "output_type": "execute_result"
    }
   ],
   "source": [
    "########## TEST ###########\n",
    "k_fake_alpha_calculator(plt1_k_sample, coefs, funds1)"
   ]
  },
  {
   "cell_type": "code",
   "execution_count": 69,
   "metadata": {},
   "outputs": [
    {
     "name": "stdout",
     "output_type": "stream",
     "text": [
      "322   -0.005078\n",
      "366    0.006046\n",
      "651   -0.009208\n",
      "699    0.000496\n",
      "590   -0.000343\n",
      "         ...   \n",
      "3     -0.002928\n",
      "573    0.010782\n",
      "560    0.012859\n",
      "672   -0.019102\n",
      "87     0.017132\n",
      "Length: 715, dtype: float64\n"
     ]
    },
    {
     "data": {
      "text/plain": [
       "pandas.core.series.Series"
      ]
     },
     "execution_count": 69,
     "metadata": {},
     "output_type": "execute_result"
    }
   ],
   "source": [
    "plt1_k_sample.shape\n",
    "print(plt1_k_sample)\n",
    "type(plt1_k_sample)"
   ]
  },
  {
   "cell_type": "markdown",
   "metadata": {},
   "source": [
    "### 3. 计算运气Alpha分布 （6.15 - 6.17）\n",
    "\n",
    "！**目前思路**\n",
    "1. 计算所有基金真实alpha【alpha】及其alpha的t-test值【ta】，对真实alpha进行排序；\n",
    "2. 计算一次所有基金伪alpha【fk_alpha】及其对应的t-test值，并对fk_alpha排序，记为Series1；\n",
    "3. 重复1000次伪alpha序列计算，得到1000个Series.\n",
    "4. 计算1000个Series每个rank(length：328)上的t-test平均数【mean_tfa】\n",
    "5. 在每个rank上，计算【alpha】在1000个【fk_alpha】构成的【运气alpha分布】上小于其的百分比，记为【%<Act】"
   ]
  },
  {
   "cell_type": "code",
   "execution_count": 70,
   "metadata": {},
   "outputs": [
    {
     "data": {
      "text/html": [
       "<div>\n",
       "<style scoped>\n",
       "    .dataframe tbody tr th:only-of-type {\n",
       "        vertical-align: middle;\n",
       "    }\n",
       "\n",
       "    .dataframe tbody tr th {\n",
       "        vertical-align: top;\n",
       "    }\n",
       "\n",
       "    .dataframe thead th {\n",
       "        text-align: right;\n",
       "    }\n",
       "</style>\n",
       "<table border=\"1\" class=\"dataframe\">\n",
       "  <thead>\n",
       "    <tr style=\"text-align: right;\">\n",
       "      <th></th>\n",
       "      <th>code</th>\n",
       "      <th>name</th>\n",
       "      <th>trdwk</th>\n",
       "      <th>ri</th>\n",
       "      <th>mkt_rf</th>\n",
       "      <th>smb</th>\n",
       "      <th>hml</th>\n",
       "      <th>umd</th>\n",
       "      <th>rf</th>\n",
       "    </tr>\n",
       "  </thead>\n",
       "  <tbody>\n",
       "    <tr>\n",
       "      <th>0</th>\n",
       "      <td>510050.OF</td>\n",
       "      <td>50ETF</td>\n",
       "      <td>2005-01-07</td>\n",
       "      <td>-0.015060</td>\n",
       "      <td>-0.009569</td>\n",
       "      <td>0.016692</td>\n",
       "      <td>-0.001600</td>\n",
       "      <td>-0.026043</td>\n",
       "      <td>0.000428</td>\n",
       "    </tr>\n",
       "    <tr>\n",
       "      <th>1</th>\n",
       "      <td>510050.OF</td>\n",
       "      <td>50ETF</td>\n",
       "      <td>2005-01-14</td>\n",
       "      <td>0.002039</td>\n",
       "      <td>0.002330</td>\n",
       "      <td>0.006033</td>\n",
       "      <td>0.002732</td>\n",
       "      <td>-0.003396</td>\n",
       "      <td>0.000428</td>\n",
       "    </tr>\n",
       "    <tr>\n",
       "      <th>2</th>\n",
       "      <td>510050.OF</td>\n",
       "      <td>50ETF</td>\n",
       "      <td>2005-01-21</td>\n",
       "      <td>0.005086</td>\n",
       "      <td>-0.008801</td>\n",
       "      <td>0.004323</td>\n",
       "      <td>0.002299</td>\n",
       "      <td>-0.018932</td>\n",
       "      <td>0.000428</td>\n",
       "    </tr>\n",
       "    <tr>\n",
       "      <th>3</th>\n",
       "      <td>510050.OF</td>\n",
       "      <td>50ETF</td>\n",
       "      <td>2005-01-28</td>\n",
       "      <td>-0.012146</td>\n",
       "      <td>-0.022081</td>\n",
       "      <td>-0.017804</td>\n",
       "      <td>-0.002866</td>\n",
       "      <td>0.034744</td>\n",
       "      <td>0.000428</td>\n",
       "    </tr>\n",
       "    <tr>\n",
       "      <th>4</th>\n",
       "      <td>510050.OF</td>\n",
       "      <td>50ETF</td>\n",
       "      <td>2005-02-04</td>\n",
       "      <td>-0.105533</td>\n",
       "      <td>0.027939</td>\n",
       "      <td>-0.046164</td>\n",
       "      <td>0.001879</td>\n",
       "      <td>0.039884</td>\n",
       "      <td>0.000428</td>\n",
       "    </tr>\n",
       "    <tr>\n",
       "      <th>5</th>\n",
       "      <td>510050.OF</td>\n",
       "      <td>50ETF</td>\n",
       "      <td>2005-02-18</td>\n",
       "      <td>-0.019473</td>\n",
       "      <td>-0.003800</td>\n",
       "      <td>0.015662</td>\n",
       "      <td>0.002797</td>\n",
       "      <td>-0.023485</td>\n",
       "      <td>0.000428</td>\n",
       "    </tr>\n",
       "    <tr>\n",
       "      <th>6</th>\n",
       "      <td>510050.OF</td>\n",
       "      <td>50ETF</td>\n",
       "      <td>2005-02-25</td>\n",
       "      <td>0.025701</td>\n",
       "      <td>0.048254</td>\n",
       "      <td>0.018829</td>\n",
       "      <td>-0.004707</td>\n",
       "      <td>-0.026505</td>\n",
       "      <td>0.000428</td>\n",
       "    </tr>\n",
       "    <tr>\n",
       "      <th>7</th>\n",
       "      <td>510050.OF</td>\n",
       "      <td>50ETF</td>\n",
       "      <td>2005-03-04</td>\n",
       "      <td>-0.021640</td>\n",
       "      <td>-0.019270</td>\n",
       "      <td>0.003282</td>\n",
       "      <td>0.001065</td>\n",
       "      <td>0.005858</td>\n",
       "      <td>0.000428</td>\n",
       "    </tr>\n",
       "    <tr>\n",
       "      <th>8</th>\n",
       "      <td>510050.OF</td>\n",
       "      <td>50ETF</td>\n",
       "      <td>2005-03-11</td>\n",
       "      <td>-0.005821</td>\n",
       "      <td>0.005934</td>\n",
       "      <td>0.001145</td>\n",
       "      <td>-0.007179</td>\n",
       "      <td>0.021298</td>\n",
       "      <td>0.000428</td>\n",
       "    </tr>\n",
       "    <tr>\n",
       "      <th>9</th>\n",
       "      <td>510050.OF</td>\n",
       "      <td>50ETF</td>\n",
       "      <td>2005-03-18</td>\n",
       "      <td>-0.038642</td>\n",
       "      <td>-0.053441</td>\n",
       "      <td>-0.012729</td>\n",
       "      <td>0.008282</td>\n",
       "      <td>0.034170</td>\n",
       "      <td>0.000428</td>\n",
       "    </tr>\n",
       "  </tbody>\n",
       "</table>\n",
       "</div>"
      ],
      "text/plain": [
       "        code   name      trdwk        ri    mkt_rf       smb       hml  \\\n",
       "0  510050.OF  50ETF 2005-01-07 -0.015060 -0.009569  0.016692 -0.001600   \n",
       "1  510050.OF  50ETF 2005-01-14  0.002039  0.002330  0.006033  0.002732   \n",
       "2  510050.OF  50ETF 2005-01-21  0.005086 -0.008801  0.004323  0.002299   \n",
       "3  510050.OF  50ETF 2005-01-28 -0.012146 -0.022081 -0.017804 -0.002866   \n",
       "4  510050.OF  50ETF 2005-02-04 -0.105533  0.027939 -0.046164  0.001879   \n",
       "5  510050.OF  50ETF 2005-02-18 -0.019473 -0.003800  0.015662  0.002797   \n",
       "6  510050.OF  50ETF 2005-02-25  0.025701  0.048254  0.018829 -0.004707   \n",
       "7  510050.OF  50ETF 2005-03-04 -0.021640 -0.019270  0.003282  0.001065   \n",
       "8  510050.OF  50ETF 2005-03-11 -0.005821  0.005934  0.001145 -0.007179   \n",
       "9  510050.OF  50ETF 2005-03-18 -0.038642 -0.053441 -0.012729  0.008282   \n",
       "\n",
       "        umd        rf  \n",
       "0 -0.026043  0.000428  \n",
       "1 -0.003396  0.000428  \n",
       "2 -0.018932  0.000428  \n",
       "3  0.034744  0.000428  \n",
       "4  0.039884  0.000428  \n",
       "5 -0.023485  0.000428  \n",
       "6 -0.026505  0.000428  \n",
       "7  0.005858  0.000428  \n",
       "8  0.021298  0.000428  \n",
       "9  0.034170  0.000428  "
      ]
     },
     "execution_count": 70,
     "metadata": {},
     "output_type": "execute_result"
    }
   ],
   "source": [
    "cmodel.head(10)"
   ]
  },
  {
   "cell_type": "code",
   "execution_count": 71,
   "metadata": {},
   "outputs": [],
   "source": [
    "# 第一步：计算所有基金真实Alpha并排序 #\n",
    "alpha = []\n",
    "ta = []\n",
    "\n",
    "for fund in funds_list:\n",
    "    tmp_f = cmodel[cmodel['code'] == fund].reset_index(drop=True)\n",
    "    X = tmp_f.loc[:, 'mkt_rf':'umd']\n",
    "    Y = tmp_f.ri - tmp_f.rf\n",
    "    \n",
    "    true_ols = sm.OLS(Y, sm.add_constant(X)).fit()\n",
    "    alpha_i = true_ols.params[0]\n",
    "    ta_i = true_ols.tvalues[0]\n",
    "    \n",
    "    alpha.append(alpha_i)\n",
    "    ta.append(ta_i) "
   ]
  },
  {
   "cell_type": "code",
   "execution_count": 72,
   "metadata": {},
   "outputs": [],
   "source": [
    "# alpha及其t-value数列的排序及整理方程\n",
    "def series_manipulator(alpha, ta):\n",
    "    # 将两个List合并到一起，按alpha排序\n",
    "    alpha = np.array(alpha).reshape(len(alpha),1)\n",
    "    ta = np.array(ta).reshape(len(ta),1)\n",
    "\n",
    "    one_fund_array = np.hstack([alpha, ta])\n",
    "    one_fund_array = one_fund_array[np.argsort(one_fund_array[:,0]),:]\n",
    "    \n",
    "    # 将排好序的alpha和其t-value分开，变成两个二维数组\n",
    "    one_fund_list = np.hsplit(one_fund_array,2)\n",
    "    \n",
    "    return one_fund_list"
   ]
  },
  {
   "cell_type": "code",
   "execution_count": 73,
   "metadata": {},
   "outputs": [],
   "source": [
    "# 排序\n",
    "true_alpha_series = series_manipulator(alpha, ta)"
   ]
  },
  {
   "cell_type": "code",
   "execution_count": 74,
   "metadata": {},
   "outputs": [
    {
     "data": {
      "text/plain": [
       "array([[-0.03364046],\n",
       "       [-0.01393063],\n",
       "       [-0.01209918],\n",
       "       [-0.00752969],\n",
       "       [-0.00392933]])"
      ]
     },
     "execution_count": 74,
     "metadata": {},
     "output_type": "execute_result"
    }
   ],
   "source": [
    "true_alpha_series[0][:5]"
   ]
  },
  {
   "cell_type": "markdown",
   "metadata": {},
   "source": [
    "# ! **算力不足问题**\n",
    "目前伪Alpha计算并排序的步骤循环5次大约需要1分钟，20次大约需要4分半，预计如需循环计算1000次需要3~4个小时"
   ]
  },
  {
   "cell_type": "code",
   "execution_count": 75,
   "metadata": {},
   "outputs": [],
   "source": [
    "# 第三步：重复计算所有基金伪Alpha series并排序 #\n",
    "myalphalist = []\n",
    "mytalist = []\n",
    "\n",
    "for b in range(20):\n",
    "    fk_alpha = []\n",
    "    fk_ta = [] \n",
    "    \n",
    "    # 第二步：计算所有基金伪Alpha并排序，记为Series1 #\n",
    "    for fund in funds_list:\n",
    "        tmp_f = cmodel[cmodel['code'] == fund].reset_index(drop=True)\n",
    "        tmp_cahart = tmp_f.loc[:, 'mkt_rf':'umd']   # 当前基金对应的Cahart四因子数据\n",
    "        \n",
    "        tmp_res = res_caculator(tmp_f) # 计算单支基金四因子回归模型的残余\n",
    "        coef = tmp_res[1] # 当前基金Cahart OLS回归后各因子参数\n",
    "\n",
    "        #  当前基金残余Bootstrap抽样\n",
    "        bootstrap_res = k_sampling(tmp_res[0])\n",
    "        \n",
    "        #  计算单次抽样res产生的伪净值序列\n",
    "        fk_data = k_fake_alpha_calculator(bootstrap_res, coef, tmp_cahart) \n",
    "        fk_alpha_i = fk_data[0]\n",
    "        fk_ta_i = fk_data[1]\n",
    "    \n",
    "        fk_alpha.append(fk_alpha_i)\n",
    "        fk_ta.append(fk_ta_i)\n",
    "   \n",
    "    one_fund_list = series_manipulator(fk_alpha, fk_ta)\n",
    "    alpha_series_i = one_fund_list[0]\n",
    "    ta_series_i = one_fund_list[1]\n",
    "    \n",
    "    myalphalist.append(alpha_series_i)\n",
    "    mytalist.append(ta_series_i)"
   ]
  },
  {
   "cell_type": "code",
   "execution_count": 76,
   "metadata": {},
   "outputs": [
    {
     "data": {
      "text/plain": [
       "(20, 328, 1)"
      ]
     },
     "execution_count": 76,
     "metadata": {},
     "output_type": "execute_result"
    }
   ],
   "source": [
    "mat = np.array(myalphalist)\n",
    "mat.shape"
   ]
  },
  {
   "cell_type": "code",
   "execution_count": 77,
   "metadata": {},
   "outputs": [
    {
     "data": {
      "text/plain": [
       "array([[-0.13249053],\n",
       "       [-0.03682334],\n",
       "       [-0.01255771],\n",
       "       [-0.01161965],\n",
       "       [-0.00930303]])"
      ]
     },
     "execution_count": 77,
     "metadata": {},
     "output_type": "execute_result"
    }
   ],
   "source": [
    "mat[19,:5,:5]"
   ]
  },
  {
   "attachments": {
    "image.png": {
     "image/png": "[encoded data removed]"
    }
   },
   "cell_type": "markdown",
   "metadata": {},
   "source": [
    "## Fama&French模型（6.18 - 6.24）\n",
    "\n",
    "Fama&French模拟回报率伪时间序列的方式与Kosowsk模型略有不同，主要步骤如下；\n",
    "1. 计算所有基金真实alpha的估计值 (之前已计算)\n",
    "2. 使用F&F公式计算单支基金的伪回报率；\n",
    "![image.png](attachment:image.png)\n",
    "3. 对基金按月份分组，Bootstrap月数据，模拟伪回报率的时间序列，这种方法保留了周数据中基金组的截面数据\n",
    "4. 对单支基金伪回报率的伪时间序列做Cahart OLS回归，得到单支基金伪alpha\n",
    "5. 排序所有基金的伪alpha"
   ]
  },
  {
   "cell_type": "code",
   "execution_count": 78,
   "metadata": {},
   "outputs": [],
   "source": [
    "# 第一步：计算真实Alpha的估计值\n",
    "funds_list\n",
    "alpha = np.array(alpha).reshape(328,)\n",
    "ta = np.array(ta).reshape(328,)"
   ]
  },
  {
   "cell_type": "code",
   "execution_count": null,
   "metadata": {},
   "outputs": [],
   "source": [
    "df ={'code':funds_list, 'alpha':alpha, 'ta':ta }\n",
    "df = pd.DataFrame(df)"
   ]
  },
  {
   "cell_type": "code",
   "execution_count": 80,
   "metadata": {},
   "outputs": [],
   "source": [
    "fmodel = pd.merge(cmodel, df, on='code')"
   ]
  },
  {
   "cell_type": "code",
   "execution_count": 81,
   "metadata": {},
   "outputs": [
    {
     "data": {
      "text/html": [
       "<div>\n",
       "<style scoped>\n",
       "    .dataframe tbody tr th:only-of-type {\n",
       "        vertical-align: middle;\n",
       "    }\n",
       "\n",
       "    .dataframe tbody tr th {\n",
       "        vertical-align: top;\n",
       "    }\n",
       "\n",
       "    .dataframe thead th {\n",
       "        text-align: right;\n",
       "    }\n",
       "</style>\n",
       "<table border=\"1\" class=\"dataframe\">\n",
       "  <thead>\n",
       "    <tr style=\"text-align: right;\">\n",
       "      <th></th>\n",
       "      <th>code</th>\n",
       "      <th>name</th>\n",
       "      <th>trdwk</th>\n",
       "      <th>ri</th>\n",
       "      <th>mkt_rf</th>\n",
       "      <th>smb</th>\n",
       "      <th>hml</th>\n",
       "      <th>umd</th>\n",
       "      <th>rf</th>\n",
       "      <th>alpha</th>\n",
       "      <th>ta</th>\n",
       "      <th>fk_r</th>\n",
       "    </tr>\n",
       "  </thead>\n",
       "  <tbody>\n",
       "    <tr>\n",
       "      <th>0</th>\n",
       "      <td>510050.OF</td>\n",
       "      <td>50ETF</td>\n",
       "      <td>2005-01-07</td>\n",
       "      <td>-0.015060</td>\n",
       "      <td>-0.009569</td>\n",
       "      <td>0.016692</td>\n",
       "      <td>-0.001600</td>\n",
       "      <td>-0.026043</td>\n",
       "      <td>0.000428</td>\n",
       "      <td>0.000763</td>\n",
       "      <td>1.205157</td>\n",
       "      <td>-0.015823</td>\n",
       "    </tr>\n",
       "    <tr>\n",
       "      <th>1</th>\n",
       "      <td>510050.OF</td>\n",
       "      <td>50ETF</td>\n",
       "      <td>2005-01-14</td>\n",
       "      <td>0.002039</td>\n",
       "      <td>0.002330</td>\n",
       "      <td>0.006033</td>\n",
       "      <td>0.002732</td>\n",
       "      <td>-0.003396</td>\n",
       "      <td>0.000428</td>\n",
       "      <td>0.000763</td>\n",
       "      <td>1.205157</td>\n",
       "      <td>0.001275</td>\n",
       "    </tr>\n",
       "    <tr>\n",
       "      <th>2</th>\n",
       "      <td>510050.OF</td>\n",
       "      <td>50ETF</td>\n",
       "      <td>2005-01-21</td>\n",
       "      <td>0.005086</td>\n",
       "      <td>-0.008801</td>\n",
       "      <td>0.004323</td>\n",
       "      <td>0.002299</td>\n",
       "      <td>-0.018932</td>\n",
       "      <td>0.000428</td>\n",
       "      <td>0.000763</td>\n",
       "      <td>1.205157</td>\n",
       "      <td>0.004323</td>\n",
       "    </tr>\n",
       "    <tr>\n",
       "      <th>3</th>\n",
       "      <td>510050.OF</td>\n",
       "      <td>50ETF</td>\n",
       "      <td>2005-01-28</td>\n",
       "      <td>-0.012146</td>\n",
       "      <td>-0.022081</td>\n",
       "      <td>-0.017804</td>\n",
       "      <td>-0.002866</td>\n",
       "      <td>0.034744</td>\n",
       "      <td>0.000428</td>\n",
       "      <td>0.000763</td>\n",
       "      <td>1.205157</td>\n",
       "      <td>-0.012909</td>\n",
       "    </tr>\n",
       "    <tr>\n",
       "      <th>4</th>\n",
       "      <td>510050.OF</td>\n",
       "      <td>50ETF</td>\n",
       "      <td>2005-02-04</td>\n",
       "      <td>-0.105533</td>\n",
       "      <td>0.027939</td>\n",
       "      <td>-0.046164</td>\n",
       "      <td>0.001879</td>\n",
       "      <td>0.039884</td>\n",
       "      <td>0.000428</td>\n",
       "      <td>0.000763</td>\n",
       "      <td>1.205157</td>\n",
       "      <td>-0.106296</td>\n",
       "    </tr>\n",
       "  </tbody>\n",
       "</table>\n",
       "</div>"
      ],
      "text/plain": [
       "        code   name      trdwk        ri    mkt_rf       smb       hml  \\\n",
       "0  510050.OF  50ETF 2005-01-07 -0.015060 -0.009569  0.016692 -0.001600   \n",
       "1  510050.OF  50ETF 2005-01-14  0.002039  0.002330  0.006033  0.002732   \n",
       "2  510050.OF  50ETF 2005-01-21  0.005086 -0.008801  0.004323  0.002299   \n",
       "3  510050.OF  50ETF 2005-01-28 -0.012146 -0.022081 -0.017804 -0.002866   \n",
       "4  510050.OF  50ETF 2005-02-04 -0.105533  0.027939 -0.046164  0.001879   \n",
       "\n",
       "        umd        rf     alpha        ta      fk_r  \n",
       "0 -0.026043  0.000428  0.000763  1.205157 -0.015823  \n",
       "1 -0.003396  0.000428  0.000763  1.205157  0.001275  \n",
       "2 -0.018932  0.000428  0.000763  1.205157  0.004323  \n",
       "3  0.034744  0.000428  0.000763  1.205157 -0.012909  \n",
       "4  0.039884  0.000428  0.000763  1.205157 -0.106296  "
      ]
     },
     "execution_count": 81,
     "metadata": {},
     "output_type": "execute_result"
    }
   ],
   "source": [
    "# 第二步：计算基金伪回报率\n",
    "fmodel['fk_r'] = fmodel['ri'] - fmodel['alpha']\n",
    "fmodel.head(5)"
   ]
  },
  {
   "cell_type": "code",
   "execution_count": 82,
   "metadata": {},
   "outputs": [],
   "source": [
    "# 第三步：按时间截面进行Bootstrap Sampling\n",
    "# 按月份对每支基金回报率进行整理\n",
    "fmodel_1 = fmodel[['trdwk','code','fk_r']]"
   ]
  },
  {
   "cell_type": "code",
   "execution_count": 83,
   "metadata": {},
   "outputs": [],
   "source": [
    "def f_sampling(fk_r_df, c_factors):\n",
    "    time = pd.DataFrame(fk_r_df['trdwk'].unique()).sort_values(by=0).reset_index(drop=True) # 保留原始时序标签\n",
    "    \n",
    "    # 窄表变宽表\n",
    "    f_spl = fk_r_df.pivot_table(index='trdwk',\n",
    "                                columns = 'code',\n",
    "                                values = 'fk_r') # 行-时间，列-所有基金，单元格表示一只基金在一个时间点的伪回报率（回报减去alpha）\n",
    "    # 去掉宽表中的多层索引\n",
    "    f_spl1 = np.array(f_spl)\n",
    "    columns = f_spl.columns.values\n",
    "    f_spl_df = pd.DataFrame(f_spl1, columns = columns).fillna(0) # 补足某些基金在早期时间点上的NaN\n",
    "    \n",
    "    # 按时间进行抽样\n",
    "    n = len(f_spl_df)\n",
    "    f_spl_df_b = f_spl_df.iloc[np.random.randint(n, size=n)].reset_index(drop=True) # 抽样完成后将打乱顺序的伪时间序列重新排序\n",
    "    \n",
    "    # 宽表变窄表\n",
    "    f_spl_df_b_wide = pd.merge(f_spl_df_b,time,left_index = True,right_index=True).rename(columns = {0:'trdwk'})\n",
    "    f_spl_df_b_long = f_spl_df_b_wide.set_index('trdwk').stack().reset_index()\n",
    "    f_spl_df_b_long.columns = ['trdwk', 'code', 'fk_ri']\n",
    "    \n",
    "    # 抽样完成后与真实时间轴上的Cahart四因子按按时间索引进行合并\n",
    "    c_factors.reset_index(drop=True)\n",
    "    f_spl_df1 = pd.merge(f_spl_df_b_long, c_factors, how='left', on='trdwk').fillna(method='ffill')\n",
    "    \n",
    "    return f_spl_df1"
   ]
  },
  {
   "cell_type": "code",
   "execution_count": 84,
   "metadata": {},
   "outputs": [
    {
     "data": {
      "text/html": [
       "<div>\n",
       "<style scoped>\n",
       "    .dataframe tbody tr th:only-of-type {\n",
       "        vertical-align: middle;\n",
       "    }\n",
       "\n",
       "    .dataframe tbody tr th {\n",
       "        vertical-align: top;\n",
       "    }\n",
       "\n",
       "    .dataframe thead th {\n",
       "        text-align: right;\n",
       "    }\n",
       "</style>\n",
       "<table border=\"1\" class=\"dataframe\">\n",
       "  <thead>\n",
       "    <tr style=\"text-align: right;\">\n",
       "      <th></th>\n",
       "      <th>trdwk</th>\n",
       "      <th>code</th>\n",
       "      <th>fk_ri</th>\n",
       "      <th>mkt_rf</th>\n",
       "      <th>smb</th>\n",
       "      <th>hml</th>\n",
       "      <th>umd</th>\n",
       "      <th>rf</th>\n",
       "    </tr>\n",
       "  </thead>\n",
       "  <tbody>\n",
       "    <tr>\n",
       "      <th>0</th>\n",
       "      <td>2005-01-07</td>\n",
       "      <td>159901.OF</td>\n",
       "      <td>-0.049795</td>\n",
       "      <td>-0.009569</td>\n",
       "      <td>0.016692</td>\n",
       "      <td>-0.0016</td>\n",
       "      <td>-0.026043</td>\n",
       "      <td>0.000428</td>\n",
       "    </tr>\n",
       "    <tr>\n",
       "      <th>1</th>\n",
       "      <td>2005-01-07</td>\n",
       "      <td>159902.OF</td>\n",
       "      <td>-0.036811</td>\n",
       "      <td>-0.009569</td>\n",
       "      <td>0.016692</td>\n",
       "      <td>-0.0016</td>\n",
       "      <td>-0.026043</td>\n",
       "      <td>0.000428</td>\n",
       "    </tr>\n",
       "    <tr>\n",
       "      <th>2</th>\n",
       "      <td>2005-01-07</td>\n",
       "      <td>159903.OF</td>\n",
       "      <td>-0.039048</td>\n",
       "      <td>-0.009569</td>\n",
       "      <td>0.016692</td>\n",
       "      <td>-0.0016</td>\n",
       "      <td>-0.026043</td>\n",
       "      <td>0.000428</td>\n",
       "    </tr>\n",
       "    <tr>\n",
       "      <th>3</th>\n",
       "      <td>2005-01-07</td>\n",
       "      <td>159905.OF</td>\n",
       "      <td>-0.043839</td>\n",
       "      <td>-0.009569</td>\n",
       "      <td>0.016692</td>\n",
       "      <td>-0.0016</td>\n",
       "      <td>-0.026043</td>\n",
       "      <td>0.000428</td>\n",
       "    </tr>\n",
       "    <tr>\n",
       "      <th>4</th>\n",
       "      <td>2005-01-07</td>\n",
       "      <td>159906.OF</td>\n",
       "      <td>-0.038639</td>\n",
       "      <td>-0.009569</td>\n",
       "      <td>0.016692</td>\n",
       "      <td>-0.0016</td>\n",
       "      <td>-0.026043</td>\n",
       "      <td>0.000428</td>\n",
       "    </tr>\n",
       "  </tbody>\n",
       "</table>\n",
       "</div>"
      ],
      "text/plain": [
       "       trdwk       code     fk_ri    mkt_rf       smb     hml       umd  \\\n",
       "0 2005-01-07  159901.OF -0.049795 -0.009569  0.016692 -0.0016 -0.026043   \n",
       "1 2005-01-07  159902.OF -0.036811 -0.009569  0.016692 -0.0016 -0.026043   \n",
       "2 2005-01-07  159903.OF -0.039048 -0.009569  0.016692 -0.0016 -0.026043   \n",
       "3 2005-01-07  159905.OF -0.043839 -0.009569  0.016692 -0.0016 -0.026043   \n",
       "4 2005-01-07  159906.OF -0.038639 -0.009569  0.016692 -0.0016 -0.026043   \n",
       "\n",
       "         rf  \n",
       "0  0.000428  \n",
       "1  0.000428  \n",
       "2  0.000428  \n",
       "3  0.000428  \n",
       "4  0.000428  "
      ]
     },
     "execution_count": 84,
     "metadata": {},
     "output_type": "execute_result"
    }
   ],
   "source": [
    "f = f_sampling(fmodel_1,c2)\n",
    "f.head(5)"
   ]
  },
  {
   "cell_type": "code",
   "execution_count": 85,
   "metadata": {},
   "outputs": [],
   "source": [
    "f_fk_alpha = []\n",
    "f_fk_ta = []\n",
    "for f in funds_list:\n",
    "    tmp_f = f_sampling(fmodel_1, c2)\n",
    "    Y=tmp_f['fk_ri'] - tmp_f['rf']\n",
    "    X=tmp_f.loc[:, 'mkt_rf':'umd']\n",
    "    fake_result = sm.OLS(Y, sm.add_constant(X)).fit()\n",
    "    fk_alpha_i = fake_result.params[0]\n",
    "    fk_ta_i = fake_result.tvalues[0]\n",
    "    \n",
    "    f_fk_alpha.append(fk_alpha_i)\n",
    "    f_fk_ta.append(fk_ta_i)\n",
    "    \n",
    "f_list = series_manipulator(f_fk_alpha, f_fk_ta)    "
   ]
  },
  {
   "cell_type": "markdown",
   "metadata": {},
   "source": [
    "# NumPy Test Zone"
   ]
  },
  {
   "cell_type": "code",
   "execution_count": 87,
   "metadata": {},
   "outputs": [],
   "source": [
    "fk_alpha1 = [7,5,10,2]\n",
    "fk_ta1 = [3,1,4,9]\n",
    "fk_alpha2 = [6,19,3,13]\n",
    "fk_ta2 = [5,6,2,8]"
   ]
  },
  {
   "cell_type": "code",
   "execution_count": 88,
   "metadata": {},
   "outputs": [],
   "source": [
    "myallalpha = []\n",
    "myallta = []"
   ]
  },
  {
   "cell_type": "code",
   "execution_count": 89,
   "metadata": {},
   "outputs": [],
   "source": [
    "myallalpha.append(fk_alpha1)\n",
    "myallalpha.append(fk_alpha2)\n",
    "myallta.append(fk_ta1)\n",
    "myallta.append(fk_ta2)"
   ]
  },
  {
   "cell_type": "code",
   "execution_count": 90,
   "metadata": {},
   "outputs": [
    {
     "data": {
      "text/plain": [
       "[[3, 1, 4, 9], [5, 6, 2, 8]]"
      ]
     },
     "execution_count": 90,
     "metadata": {},
     "output_type": "execute_result"
    }
   ],
   "source": [
    "myallta"
   ]
  },
  {
   "cell_type": "code",
   "execution_count": 91,
   "metadata": {},
   "outputs": [
    {
     "data": {
      "text/plain": [
       "[[7, 5, 10, 2], [6, 19, 3, 13]]"
      ]
     },
     "execution_count": 91,
     "metadata": {},
     "output_type": "execute_result"
    }
   ],
   "source": [
    "myallalpha"
   ]
  },
  {
   "cell_type": "code",
   "execution_count": 92,
   "metadata": {},
   "outputs": [],
   "source": [
    "myalphaarray = np.array(myallalpha)\n",
    "mytaarray = np.array(myallta)"
   ]
  },
  {
   "cell_type": "code",
   "execution_count": 93,
   "metadata": {},
   "outputs": [
    {
     "data": {
      "text/plain": [
       "(2, 4)"
      ]
     },
     "execution_count": 93,
     "metadata": {},
     "output_type": "execute_result"
    }
   ],
   "source": [
    "myalphaarray.shape"
   ]
  },
  {
   "cell_type": "code",
   "execution_count": 94,
   "metadata": {},
   "outputs": [
    {
     "data": {
      "text/plain": [
       "(2, 4)"
      ]
     },
     "execution_count": 94,
     "metadata": {},
     "output_type": "execute_result"
    }
   ],
   "source": [
    "mytaarray.shape"
   ]
  },
  {
   "cell_type": "code",
   "execution_count": 95,
   "metadata": {},
   "outputs": [
    {
     "data": {
      "text/plain": [
       "array([[ 7,  5, 10,  2],\n",
       "       [ 6, 19,  3, 13]])"
      ]
     },
     "execution_count": 95,
     "metadata": {},
     "output_type": "execute_result"
    }
   ],
   "source": [
    "myalphaarray"
   ]
  },
  {
   "cell_type": "code",
   "execution_count": 96,
   "metadata": {},
   "outputs": [
    {
     "data": {
      "text/plain": [
       "array([[ 7,  6],\n",
       "       [ 5, 19],\n",
       "       [10,  3],\n",
       "       [ 2, 13]])"
      ]
     },
     "execution_count": 96,
     "metadata": {},
     "output_type": "execute_result"
    }
   ],
   "source": [
    "at = myalphaarray.T\n",
    "at"
   ]
  },
  {
   "cell_type": "code",
   "execution_count": 97,
   "metadata": {},
   "outputs": [
    {
     "data": {
      "text/plain": [
       "array([[3, 5],\n",
       "       [1, 6],\n",
       "       [4, 2],\n",
       "       [9, 8]])"
      ]
     },
     "execution_count": 97,
     "metadata": {},
     "output_type": "execute_result"
    }
   ],
   "source": [
    "tat = mytaarray.T\n",
    "tat"
   ]
  },
  {
   "cell_type": "code",
   "execution_count": 98,
   "metadata": {},
   "outputs": [
    {
     "data": {
      "text/plain": [
       "array([[3, 1, 4, 9],\n",
       "       [5, 6, 2, 8]])"
      ]
     },
     "execution_count": 98,
     "metadata": {},
     "output_type": "execute_result"
    }
   ],
   "source": [
    "mytaarray"
   ]
  },
  {
   "cell_type": "code",
   "execution_count": 100,
   "metadata": {},
   "outputs": [
    {
     "name": "stdout",
     "output_type": "stream",
     "text": [
      "[7 6]\n",
      "[ 5 19]\n",
      "[10  3]\n",
      "[ 2 13]\n"
     ]
    }
   ],
   "source": [
    "for a in at:\n",
    "    print(a)"
   ]
  },
  {
   "cell_type": "code",
   "execution_count": 101,
   "metadata": {},
   "outputs": [
    {
     "name": "stdout",
     "output_type": "stream",
     "text": [
      "[3 5]\n",
      "[1 6]\n",
      "[4 2]\n",
      "[9 8]\n"
     ]
    }
   ],
   "source": [
    "for t in tat:\n",
    "    print(t)"
   ]
  },
  {
   "cell_type": "code",
   "execution_count": 102,
   "metadata": {},
   "outputs": [
    {
     "name": "stdout",
     "output_type": "stream",
     "text": [
      "[[7 6]\n",
      " [3 5]]\n",
      "[[ 5 19]\n",
      " [ 1  6]]\n",
      "[[10  3]\n",
      " [ 4  2]]\n",
      "[[ 2 13]\n",
      " [ 9  8]]\n"
     ]
    }
   ],
   "source": [
    "for a,ta in zip(at,tat):\n",
    "    one_series_array = np.vstack((a,ta))\n",
    "    print(one_series_array)"
   ]
  },
  {
   "cell_type": "code",
   "execution_count": 157,
   "metadata": {},
   "outputs": [],
   "source": [
    "all_alpha_series = []\n",
    "all_ta_series = []\n",
    "for a,ta in zip(at,tat):\n",
    "    one_series_array = np.vstack((a,ta))\n",
    "    one_series_array1 = one_series_array.T\n",
    "    one_series_df = pd.DataFrame(one_series_array1)\n",
    "    one_series_df = one_series_df.sort_values(by = 0)\n",
    "    \n",
    "    alpha_series_i = one_series_df[0]\n",
    "    ta_series_i = one_series_df[1]\n",
    "    all_alpha_series.append(np.array(alpha_series_i))\n",
    "    all_ta_series.append(np.array(ta_series_i))\n",
    "    \n",
    "ta_series_matrix = np.vstack(all_ta_series).T\n",
    "sim_ta_series = ta_series_matrix.mean(axis = 1)"
   ]
  },
  {
   "cell_type": "code",
   "execution_count": 149,
   "metadata": {},
   "outputs": [
    {
     "name": "stdout",
     "output_type": "stream",
     "text": [
      "[array([6, 7]), array([ 5, 19]), array([ 3, 10]), array([ 2, 13])]\n",
      "[array([5, 3]), array([1, 6]), array([2, 4]), array([9, 8])]\n"
     ]
    }
   ],
   "source": [
    "print(all_alpha_series)\n",
    "print(all_ta_series)"
   ]
  },
  {
   "cell_type": "code",
   "execution_count": 155,
   "metadata": {},
   "outputs": [
    {
     "data": {
      "text/plain": [
       "array([4.25, 5.25])"
      ]
     },
     "execution_count": 155,
     "metadata": {},
     "output_type": "execute_result"
    }
   ],
   "source": [
    "ta_series_matrix.mean(axis = 1)"
   ]
  },
  {
   "cell_type": "code",
   "execution_count": null,
   "metadata": {},
   "outputs": [],
   "source": []
  }
 ],
 "metadata": {
  "kernelspec": {
   "display_name": "Python 3",
   "language": "python",
   "name": "python3"
  },
  "language_info": {
   "codemirror_mode": {
    "name": "ipython",
    "version": 3
   },
   "file_extension": ".py",
   "mimetype": "text/x-python",
   "name": "python",
   "nbconvert_exporter": "python",
   "pygments_lexer": "ipython3",
   "version": "3.8.8"
  }
 },
 "nbformat": 4,
 "nbformat_minor": 4
}
