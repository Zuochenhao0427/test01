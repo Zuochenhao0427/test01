{
 "cells": [
  {
   "cell_type": "markdown",
   "metadata": {},
   "source": [
    "# 股票数据整理（6.7）"
   ]
  },
  {
   "cell_type": "code",
   "execution_count": 1,
   "metadata": {},
   "outputs": [],
   "source": [
    "import pandas as pd\n",
    "import numpy as np\n",
    "import statsmodels.api as sm\n",
    "import matplotlib.pyplot as plt\n",
    "from sklearn.utils import resample"
   ]
  },
  {
   "cell_type": "markdown",
   "metadata": {},
   "source": [
    "dt1 = pd.read_csv('股票数据/行情序列2001年周数据.csv')\n",
    "dt2 = pd.read_csv('股票数据/行情序列2002年周数据.csv')\n",
    "dt3 = pd.read_csv('股票数据/行情序列2003年周数据.csv')\n",
    "dt4 = pd.read_csv('股票数据/行情序列2004-5年周数据.csv')\n",
    "dt5 = pd.read_csv('股票数据/行情序列2006-2009年周数据.csv')\n",
    "dt6 = pd.read_csv('股票数据/行情序列2010-2013年周数据.csv')\n",
    "dt7 = pd.read_csv('股票数据/行情序列2014-2018年周数据.csv')"
   ]
  },
  {
   "cell_type": "markdown",
   "metadata": {},
   "source": [
    "dt = pd.concat([dt1,dt2,dt3,dt4,dt5,dt6,dt7], axis = 0, ignore_index = True)"
   ]
  },
  {
   "cell_type": "markdown",
   "metadata": {},
   "source": [
    "dt_na = dt.dropna()"
   ]
  },
  {
   "cell_type": "markdown",
   "metadata": {},
   "source": [
    "dt_na"
   ]
  },
  {
   "cell_type": "markdown",
   "metadata": {},
   "source": [
    "dt.shape"
   ]
  },
  {
   "cell_type": "markdown",
   "metadata": {},
   "source": [
    "dt_na.shape"
   ]
  },
  {
   "cell_type": "markdown",
   "metadata": {},
   "source": [
    "dt_na.to_csv('数据已合并.csv', index = False, encoding='utf_8_sig')"
   ]
  },
  {
   "cell_type": "markdown",
   "metadata": {},
   "source": [
    "# 数据初步描述分析（6.8）\n",
    "\n",
    "见【data description script.R】文件\n",
    "\n",
    "***描述性分析结果*** \n",
    "1. 一共截取328只基金的累积净值数据，运营时间最长的基金从周2005/1/7 - 周2018/12/28，包含715个数据点，有85%的基金单支拥有50 ~ 400个数据点, 其中有25.8%的基金单支拥有200~250个数据点。\n",
    "2. 由04年至18年，每年数据点数量由最初的1个（仅2004/12/31, 上证500ETF一支）至15674个逐年增多。\n",
    "3. 由04年至18年，基金数量由最初的1支至328支逐年增多，13年基金数量超过100支，14年后基金数量猛增。\n"
   ]
  },
  {
   "cell_type": "markdown",
   "metadata": {},
   "source": [
    "# 数据在模型Kosowski、Fama&French的抽样试验（6.9 - 6.15）"
   ]
  },
  {
   "cell_type": "code",
   "execution_count": 2,
   "metadata": {},
   "outputs": [],
   "source": [
    "# 基金数据导入\n",
    "funds = pd.read_csv('funds_data.csv')"
   ]
  },
  {
   "cell_type": "code",
   "execution_count": 3,
   "metadata": {},
   "outputs": [
    {
     "data": {
      "text/plain": [
       "(68838, 4)"
      ]
     },
     "execution_count": 3,
     "metadata": {},
     "output_type": "execute_result"
    }
   ],
   "source": [
    "funds.shape"
   ]
  },
  {
   "cell_type": "code",
   "execution_count": 4,
   "metadata": {},
   "outputs": [
    {
     "data": {
      "text/html": [
       "<div>\n",
       "<style scoped>\n",
       "    .dataframe tbody tr th:only-of-type {\n",
       "        vertical-align: middle;\n",
       "    }\n",
       "\n",
       "    .dataframe tbody tr th {\n",
       "        vertical-align: top;\n",
       "    }\n",
       "\n",
       "    .dataframe thead th {\n",
       "        text-align: right;\n",
       "    }\n",
       "</style>\n",
       "<table border=\"1\" class=\"dataframe\">\n",
       "  <thead>\n",
       "    <tr style=\"text-align: right;\">\n",
       "      <th></th>\n",
       "      <th>代码</th>\n",
       "      <th>简称</th>\n",
       "      <th>时间</th>\n",
       "      <th>周单位净值(元)</th>\n",
       "    </tr>\n",
       "  </thead>\n",
       "  <tbody>\n",
       "    <tr>\n",
       "      <th>0</th>\n",
       "      <td>160706.OF</td>\n",
       "      <td>嘉实300</td>\n",
       "      <td>2005-09-02</td>\n",
       "      <td>1.007</td>\n",
       "    </tr>\n",
       "    <tr>\n",
       "      <th>1</th>\n",
       "      <td>160706.OF</td>\n",
       "      <td>嘉实300</td>\n",
       "      <td>2005-09-09</td>\n",
       "      <td>1.007</td>\n",
       "    </tr>\n",
       "    <tr>\n",
       "      <th>2</th>\n",
       "      <td>160706.OF</td>\n",
       "      <td>嘉实300</td>\n",
       "      <td>2005-09-16</td>\n",
       "      <td>1.023</td>\n",
       "    </tr>\n",
       "    <tr>\n",
       "      <th>3</th>\n",
       "      <td>160706.OF</td>\n",
       "      <td>嘉实300</td>\n",
       "      <td>2005-09-23</td>\n",
       "      <td>0.971</td>\n",
       "    </tr>\n",
       "    <tr>\n",
       "      <th>4</th>\n",
       "      <td>160706.OF</td>\n",
       "      <td>嘉实300</td>\n",
       "      <td>2005-09-30</td>\n",
       "      <td>0.971</td>\n",
       "    </tr>\n",
       "  </tbody>\n",
       "</table>\n",
       "</div>"
      ],
      "text/plain": [
       "          代码     简称          时间  周单位净值(元)\n",
       "0  160706.OF  嘉实300  2005-09-02     1.007\n",
       "1  160706.OF  嘉实300  2005-09-09     1.007\n",
       "2  160706.OF  嘉实300  2005-09-16     1.023\n",
       "3  160706.OF  嘉实300  2005-09-23     0.971\n",
       "4  160706.OF  嘉实300  2005-09-30     0.971"
      ]
     },
     "execution_count": 4,
     "metadata": {},
     "output_type": "execute_result"
    }
   ],
   "source": [
    "funds.head(5)"
   ]
  },
  {
   "cell_type": "code",
   "execution_count": 5,
   "metadata": {},
   "outputs": [
    {
     "name": "stdout",
     "output_type": "stream",
     "text": [
      "<class 'pandas.core.frame.DataFrame'>\n",
      "RangeIndex: 68838 entries, 0 to 68837\n",
      "Data columns (total 4 columns):\n",
      "代码          68838 non-null object\n",
      "简称          68838 non-null object\n",
      "时间          68838 non-null object\n",
      "周单位净值(元)    68838 non-null float64\n",
      "dtypes: float64(1), object(3)\n",
      "memory usage: 2.1+ MB\n"
     ]
    }
   ],
   "source": [
    "funds.info()"
   ]
  },
  {
   "cell_type": "code",
   "execution_count": 6,
   "metadata": {},
   "outputs": [
    {
     "ename": "TypeError",
     "evalue": "'generator' object is not callable",
     "output_type": "error",
     "traceback": [
      "\u001b[0;31m---------------------------------------------------------------------------\u001b[0m",
      "\u001b[0;31mTypeError\u001b[0m                                 Traceback (most recent call last)",
      "\u001b[0;32m~/anaconda3/lib/python3.7/site-packages/pandas/core/groupby/groupby.py\u001b[0m in \u001b[0;36mapply\u001b[0;34m(self, func, *args, **kwargs)\u001b[0m\n\u001b[1;32m    688\u001b[0m             \u001b[0;32mtry\u001b[0m\u001b[0;34m:\u001b[0m\u001b[0;34m\u001b[0m\u001b[0;34m\u001b[0m\u001b[0m\n\u001b[0;32m--> 689\u001b[0;31m                 \u001b[0mresult\u001b[0m \u001b[0;34m=\u001b[0m \u001b[0mself\u001b[0m\u001b[0;34m.\u001b[0m\u001b[0m_python_apply_general\u001b[0m\u001b[0;34m(\u001b[0m\u001b[0mf\u001b[0m\u001b[0;34m)\u001b[0m\u001b[0;34m\u001b[0m\u001b[0;34m\u001b[0m\u001b[0m\n\u001b[0m\u001b[1;32m    690\u001b[0m             \u001b[0;32mexcept\u001b[0m \u001b[0mException\u001b[0m\u001b[0;34m:\u001b[0m\u001b[0;34m\u001b[0m\u001b[0;34m\u001b[0m\u001b[0m\n",
      "\u001b[0;32m~/anaconda3/lib/python3.7/site-packages/pandas/core/groupby/groupby.py\u001b[0m in \u001b[0;36m_python_apply_general\u001b[0;34m(self, f)\u001b[0m\n\u001b[1;32m    706\u001b[0m         keys, values, mutated = self.grouper.apply(f, self._selected_obj,\n\u001b[0;32m--> 707\u001b[0;31m                                                    self.axis)\n\u001b[0m\u001b[1;32m    708\u001b[0m \u001b[0;34m\u001b[0m\u001b[0m\n",
      "\u001b[0;32m~/anaconda3/lib/python3.7/site-packages/pandas/core/groupby/ops.py\u001b[0m in \u001b[0;36mapply\u001b[0;34m(self, f, data, axis)\u001b[0m\n\u001b[1;32m    189\u001b[0m             \u001b[0mgroup_axes\u001b[0m \u001b[0;34m=\u001b[0m \u001b[0m_get_axes\u001b[0m\u001b[0;34m(\u001b[0m\u001b[0mgroup\u001b[0m\u001b[0;34m)\u001b[0m\u001b[0;34m\u001b[0m\u001b[0;34m\u001b[0m\u001b[0m\n\u001b[0;32m--> 190\u001b[0;31m             \u001b[0mres\u001b[0m \u001b[0;34m=\u001b[0m \u001b[0mf\u001b[0m\u001b[0;34m(\u001b[0m\u001b[0mgroup\u001b[0m\u001b[0;34m)\u001b[0m\u001b[0;34m\u001b[0m\u001b[0;34m\u001b[0m\u001b[0m\n\u001b[0m\u001b[1;32m    191\u001b[0m             \u001b[0;32mif\u001b[0m \u001b[0;32mnot\u001b[0m \u001b[0m_is_indexed_like\u001b[0m\u001b[0;34m(\u001b[0m\u001b[0mres\u001b[0m\u001b[0;34m,\u001b[0m \u001b[0mgroup_axes\u001b[0m\u001b[0;34m)\u001b[0m\u001b[0;34m:\u001b[0m\u001b[0;34m\u001b[0m\u001b[0;34m\u001b[0m\u001b[0m\n",
      "\u001b[0;31mTypeError\u001b[0m: 'generator' object is not callable",
      "\nDuring handling of the above exception, another exception occurred:\n",
      "\u001b[0;31mTypeError\u001b[0m                                 Traceback (most recent call last)",
      "\u001b[0;32m<ipython-input-6-24087732c039>\u001b[0m in \u001b[0;36m<module>\u001b[0;34m\u001b[0m\n\u001b[1;32m      1\u001b[0m \u001b[0;31m# 基金回报率计算\u001b[0m\u001b[0;34m\u001b[0m\u001b[0;34m\u001b[0m\u001b[0;34m\u001b[0m\u001b[0m\n\u001b[0;32m----> 2\u001b[0;31m \u001b[0mfunds\u001b[0m\u001b[0;34m.\u001b[0m\u001b[0mgroupby\u001b[0m\u001b[0;34m(\u001b[0m\u001b[0;34m'代码'\u001b[0m\u001b[0;34m)\u001b[0m\u001b[0;34m.\u001b[0m\u001b[0mapply\u001b[0m\u001b[0;34m(\u001b[0m\u001b[0;32mlambda\u001b[0m \u001b[0mx\u001b[0m\u001b[0;34m:\u001b[0m \u001b[0mx\u001b[0m\u001b[0;34m[\u001b[0m\u001b[0mi\u001b[0m\u001b[0;34m]\u001b[0m\u001b[0;34m/\u001b[0m\u001b[0mx\u001b[0m\u001b[0;34m[\u001b[0m\u001b[0mi\u001b[0m\u001b[0;34m-\u001b[0m\u001b[0;36m1\u001b[0m\u001b[0;34m]\u001b[0m\u001b[0;34m-\u001b[0m\u001b[0;36m1\u001b[0m \u001b[0;32mfor\u001b[0m \u001b[0mx\u001b[0m \u001b[0;32min\u001b[0m \u001b[0;34m'周单位净值(元)'\u001b[0m\u001b[0;34m)\u001b[0m\u001b[0;34m\u001b[0m\u001b[0;34m\u001b[0m\u001b[0m\n\u001b[0m",
      "\u001b[0;32m~/anaconda3/lib/python3.7/site-packages/pandas/core/groupby/groupby.py\u001b[0m in \u001b[0;36mapply\u001b[0;34m(self, func, *args, **kwargs)\u001b[0m\n\u001b[1;32m    699\u001b[0m \u001b[0;34m\u001b[0m\u001b[0m\n\u001b[1;32m    700\u001b[0m                 \u001b[0;32mwith\u001b[0m \u001b[0m_group_selection_context\u001b[0m\u001b[0;34m(\u001b[0m\u001b[0mself\u001b[0m\u001b[0;34m)\u001b[0m\u001b[0;34m:\u001b[0m\u001b[0;34m\u001b[0m\u001b[0;34m\u001b[0m\u001b[0m\n\u001b[0;32m--> 701\u001b[0;31m                     \u001b[0;32mreturn\u001b[0m \u001b[0mself\u001b[0m\u001b[0;34m.\u001b[0m\u001b[0m_python_apply_general\u001b[0m\u001b[0;34m(\u001b[0m\u001b[0mf\u001b[0m\u001b[0;34m)\u001b[0m\u001b[0;34m\u001b[0m\u001b[0;34m\u001b[0m\u001b[0m\n\u001b[0m\u001b[1;32m    702\u001b[0m \u001b[0;34m\u001b[0m\u001b[0m\n\u001b[1;32m    703\u001b[0m         \u001b[0;32mreturn\u001b[0m \u001b[0mresult\u001b[0m\u001b[0;34m\u001b[0m\u001b[0;34m\u001b[0m\u001b[0m\n",
      "\u001b[0;32m~/anaconda3/lib/python3.7/site-packages/pandas/core/groupby/groupby.py\u001b[0m in \u001b[0;36m_python_apply_general\u001b[0;34m(self, f)\u001b[0m\n\u001b[1;32m    705\u001b[0m     \u001b[0;32mdef\u001b[0m \u001b[0m_python_apply_general\u001b[0m\u001b[0;34m(\u001b[0m\u001b[0mself\u001b[0m\u001b[0;34m,\u001b[0m \u001b[0mf\u001b[0m\u001b[0;34m)\u001b[0m\u001b[0;34m:\u001b[0m\u001b[0;34m\u001b[0m\u001b[0;34m\u001b[0m\u001b[0m\n\u001b[1;32m    706\u001b[0m         keys, values, mutated = self.grouper.apply(f, self._selected_obj,\n\u001b[0;32m--> 707\u001b[0;31m                                                    self.axis)\n\u001b[0m\u001b[1;32m    708\u001b[0m \u001b[0;34m\u001b[0m\u001b[0m\n\u001b[1;32m    709\u001b[0m         return self._wrap_applied_output(\n",
      "\u001b[0;32m~/anaconda3/lib/python3.7/site-packages/pandas/core/groupby/ops.py\u001b[0m in \u001b[0;36mapply\u001b[0;34m(self, f, data, axis)\u001b[0m\n\u001b[1;32m    188\u001b[0m             \u001b[0;31m# group might be modified\u001b[0m\u001b[0;34m\u001b[0m\u001b[0;34m\u001b[0m\u001b[0;34m\u001b[0m\u001b[0m\n\u001b[1;32m    189\u001b[0m             \u001b[0mgroup_axes\u001b[0m \u001b[0;34m=\u001b[0m \u001b[0m_get_axes\u001b[0m\u001b[0;34m(\u001b[0m\u001b[0mgroup\u001b[0m\u001b[0;34m)\u001b[0m\u001b[0;34m\u001b[0m\u001b[0;34m\u001b[0m\u001b[0m\n\u001b[0;32m--> 190\u001b[0;31m             \u001b[0mres\u001b[0m \u001b[0;34m=\u001b[0m \u001b[0mf\u001b[0m\u001b[0;34m(\u001b[0m\u001b[0mgroup\u001b[0m\u001b[0;34m)\u001b[0m\u001b[0;34m\u001b[0m\u001b[0;34m\u001b[0m\u001b[0m\n\u001b[0m\u001b[1;32m    191\u001b[0m             \u001b[0;32mif\u001b[0m \u001b[0;32mnot\u001b[0m \u001b[0m_is_indexed_like\u001b[0m\u001b[0;34m(\u001b[0m\u001b[0mres\u001b[0m\u001b[0;34m,\u001b[0m \u001b[0mgroup_axes\u001b[0m\u001b[0;34m)\u001b[0m\u001b[0;34m:\u001b[0m\u001b[0;34m\u001b[0m\u001b[0;34m\u001b[0m\u001b[0m\n\u001b[1;32m    192\u001b[0m                 \u001b[0mmutated\u001b[0m \u001b[0;34m=\u001b[0m \u001b[0;32mTrue\u001b[0m\u001b[0;34m\u001b[0m\u001b[0;34m\u001b[0m\u001b[0m\n",
      "\u001b[0;31mTypeError\u001b[0m: 'generator' object is not callable"
     ]
    }
   ],
   "source": [
    "# 基金回报率计算\n",
    "funds['净回报率'] = funds.groupby('代码')"
   ]
  },
  {
   "cell_type": "code",
   "execution_count": 6,
   "metadata": {},
   "outputs": [],
   "source": [
    "# Cahart模型因子数据导入\n",
    "cahart = pd.read_csv('fivefactor_weekly.csv')"
   ]
  },
  {
   "cell_type": "code",
   "execution_count": 7,
   "metadata": {},
   "outputs": [
    {
     "data": {
      "text/plain": [
       "(1372, 13)"
      ]
     },
     "execution_count": 7,
     "metadata": {},
     "output_type": "execute_result"
    }
   ],
   "source": [
    "cahart.shape"
   ]
  },
  {
   "cell_type": "code",
   "execution_count": 8,
   "metadata": {},
   "outputs": [
    {
     "data": {
      "text/html": [
       "<div>\n",
       "<style scoped>\n",
       "    .dataframe tbody tr th:only-of-type {\n",
       "        vertical-align: middle;\n",
       "    }\n",
       "\n",
       "    .dataframe tbody tr th {\n",
       "        vertical-align: top;\n",
       "    }\n",
       "\n",
       "    .dataframe thead th {\n",
       "        text-align: right;\n",
       "    }\n",
       "</style>\n",
       "<table border=\"1\" class=\"dataframe\">\n",
       "  <thead>\n",
       "    <tr style=\"text-align: right;\">\n",
       "      <th></th>\n",
       "      <th>trdwk</th>\n",
       "      <th>mkt_rf</th>\n",
       "      <th>smb</th>\n",
       "      <th>hml</th>\n",
       "      <th>umd</th>\n",
       "      <th>rf</th>\n",
       "      <th>smb_equal</th>\n",
       "      <th>hml_equal</th>\n",
       "      <th>umd_equal</th>\n",
       "      <th>rmw</th>\n",
       "      <th>cma</th>\n",
       "      <th>rmw_equal</th>\n",
       "      <th>cma_equal</th>\n",
       "    </tr>\n",
       "  </thead>\n",
       "  <tbody>\n",
       "    <tr>\n",
       "      <th>0</th>\n",
       "      <td>1994-01-14</td>\n",
       "      <td>-0.049785</td>\n",
       "      <td>-0.010605</td>\n",
       "      <td>-0.001557</td>\n",
       "      <td>0.012826</td>\n",
       "      <td>0.002005</td>\n",
       "      <td>-0.006920</td>\n",
       "      <td>0.007555</td>\n",
       "      <td>0.010533</td>\n",
       "      <td>0.010301</td>\n",
       "      <td>-0.022515</td>\n",
       "      <td>0.001189</td>\n",
       "      <td>-0.019500</td>\n",
       "    </tr>\n",
       "    <tr>\n",
       "      <th>1</th>\n",
       "      <td>1994-01-21</td>\n",
       "      <td>-0.040166</td>\n",
       "      <td>0.024709</td>\n",
       "      <td>0.006786</td>\n",
       "      <td>0.034309</td>\n",
       "      <td>0.002005</td>\n",
       "      <td>0.018672</td>\n",
       "      <td>0.004249</td>\n",
       "      <td>0.023625</td>\n",
       "      <td>-0.023659</td>\n",
       "      <td>-0.015334</td>\n",
       "      <td>-0.023030</td>\n",
       "      <td>-0.000086</td>\n",
       "    </tr>\n",
       "    <tr>\n",
       "      <th>2</th>\n",
       "      <td>1994-01-28</td>\n",
       "      <td>-0.058775</td>\n",
       "      <td>0.023957</td>\n",
       "      <td>0.032066</td>\n",
       "      <td>-0.033173</td>\n",
       "      <td>0.002005</td>\n",
       "      <td>0.027413</td>\n",
       "      <td>0.025122</td>\n",
       "      <td>-0.024170</td>\n",
       "      <td>-0.031257</td>\n",
       "      <td>-0.035271</td>\n",
       "      <td>-0.024394</td>\n",
       "      <td>-0.017531</td>\n",
       "    </tr>\n",
       "    <tr>\n",
       "      <th>3</th>\n",
       "      <td>1994-02-04</td>\n",
       "      <td>0.063141</td>\n",
       "      <td>-0.030274</td>\n",
       "      <td>-0.053609</td>\n",
       "      <td>0.008469</td>\n",
       "      <td>0.002005</td>\n",
       "      <td>-0.037995</td>\n",
       "      <td>-0.052423</td>\n",
       "      <td>-0.003859</td>\n",
       "      <td>0.070407</td>\n",
       "      <td>0.031119</td>\n",
       "      <td>0.068059</td>\n",
       "      <td>0.005449</td>\n",
       "    </tr>\n",
       "    <tr>\n",
       "      <th>4</th>\n",
       "      <td>1994-02-18</td>\n",
       "      <td>-0.100108</td>\n",
       "      <td>0.034504</td>\n",
       "      <td>0.044310</td>\n",
       "      <td>0.002641</td>\n",
       "      <td>0.002005</td>\n",
       "      <td>0.033935</td>\n",
       "      <td>0.033539</td>\n",
       "      <td>0.008561</td>\n",
       "      <td>-0.074498</td>\n",
       "      <td>-0.036797</td>\n",
       "      <td>-0.051754</td>\n",
       "      <td>-0.007289</td>\n",
       "    </tr>\n",
       "  </tbody>\n",
       "</table>\n",
       "</div>"
      ],
      "text/plain": [
       "        trdwk    mkt_rf       smb       hml       umd        rf  smb_equal  \\\n",
       "0  1994-01-14 -0.049785 -0.010605 -0.001557  0.012826  0.002005  -0.006920   \n",
       "1  1994-01-21 -0.040166  0.024709  0.006786  0.034309  0.002005   0.018672   \n",
       "2  1994-01-28 -0.058775  0.023957  0.032066 -0.033173  0.002005   0.027413   \n",
       "3  1994-02-04  0.063141 -0.030274 -0.053609  0.008469  0.002005  -0.037995   \n",
       "4  1994-02-18 -0.100108  0.034504  0.044310  0.002641  0.002005   0.033935   \n",
       "\n",
       "   hml_equal  umd_equal       rmw       cma  rmw_equal  cma_equal  \n",
       "0   0.007555   0.010533  0.010301 -0.022515   0.001189  -0.019500  \n",
       "1   0.004249   0.023625 -0.023659 -0.015334  -0.023030  -0.000086  \n",
       "2   0.025122  -0.024170 -0.031257 -0.035271  -0.024394  -0.017531  \n",
       "3  -0.052423  -0.003859  0.070407  0.031119   0.068059   0.005449  \n",
       "4   0.033539   0.008561 -0.074498 -0.036797  -0.051754  -0.007289  "
      ]
     },
     "execution_count": 8,
     "metadata": {},
     "output_type": "execute_result"
    }
   ],
   "source": [
    "cahart.head(5)"
   ]
  },
  {
   "cell_type": "code",
   "execution_count": 9,
   "metadata": {},
   "outputs": [
    {
     "name": "stdout",
     "output_type": "stream",
     "text": [
      "<class 'pandas.core.frame.DataFrame'>\n",
      "RangeIndex: 1372 entries, 0 to 1371\n",
      "Data columns (total 13 columns):\n",
      "trdwk        1372 non-null object\n",
      "mkt_rf       1372 non-null float64\n",
      "smb          1372 non-null float64\n",
      "hml          1372 non-null float64\n",
      "umd          1372 non-null float64\n",
      "rf           1372 non-null float64\n",
      "smb_equal    1372 non-null float64\n",
      "hml_equal    1372 non-null float64\n",
      "umd_equal    1372 non-null float64\n",
      "rmw          1372 non-null float64\n",
      "cma          1372 non-null float64\n",
      "rmw_equal    1372 non-null float64\n",
      "cma_equal    1372 non-null float64\n",
      "dtypes: float64(12), object(1)\n",
      "memory usage: 139.4+ KB\n"
     ]
    }
   ],
   "source": [
    "cahart.info()"
   ]
  },
  {
   "cell_type": "code",
   "execution_count": 10,
   "metadata": {},
   "outputs": [],
   "source": [
    "# 时间类数据格式调整\n",
    "funds['时间'] = pd.to_datetime(funds['时间'], format='%Y-%m-%d')\n",
    "cahart['trdwk'] = pd.to_datetime(cahart['trdwk'], format='%Y-%m-%d')"
   ]
  },
  {
   "cell_type": "markdown",
   "metadata": {},
   "source": [
    "## Kosowaski模型（6.9 - 6.11）\n",
    "\n",
    "### 1、构建残差population\n",
    "\n",
    "按照Kosowaski模型，根据Cahart四因子模型构建各基金alpha, 周因子数据由国泰安数据库提供。\n",
    "\n",
    "##### 对齐四因子与基金周收益时间点\n",
    "取四因子及最长运营的基金周收益05/01/07 - 18/12/28数据进行right_join, 结果如下；"
   ]
  },
  {
   "attachments": {
    "image.png": {
     "image/png": "[encoded data removed]"
    }
   },
   "cell_type": "markdown",
   "metadata": {},
   "source": [
    "***观察结果***：周因子数据与单支基金周净值数据存在差值，周因子数据缺失2006/10/6、2007/10/5、2009/12/31、2013/12/31四周数据，为计算alpha、载荷及残差用缺失值上值进行填补。\n",
    "![image.png](attachment:image.png)"
   ]
  },
  {
   "cell_type": "markdown",
   "metadata": {},
   "source": [
    "#### 合并四因子与基金收益率"
   ]
  },
  {
   "cell_type": "code",
   "execution_count": 11,
   "metadata": {},
   "outputs": [],
   "source": [
    "# 取Cahart模型所需因子：市场风险因子（mkt_rf）、规模风险因子（smb）、账面市值比风险因子（hml）、惯性/动量因子（umd）及无风险利率（rf）\n",
    "c1 = cahart[(cahart['trdwk']>=\"2005-01-07\")&(cahart['trdwk']<=\"2018-12-28\")]\n",
    "c2 = c1[['trdwk','mkt_rf','smb','hml','umd','rf']]\n",
    "# 取基金净值有效时间段内数据\n",
    "f = funds[(funds['时间']>='2005-01-07')&(funds['时间']<='2018-12-28')]\n",
    "f = f.rename(columns = {'时间': 'trdwk'})\n",
    "# 合并因子与基金净值\n",
    "cmodel = pd.merge(f, c2, how='left', on='trdwk')"
   ]
  },
  {
   "cell_type": "code",
   "execution_count": 12,
   "metadata": {},
   "outputs": [],
   "source": [
    "# 处理缺失值： 用上一个非缺失值填补\n",
    "cmodel = cmodel.fillna(method='ffill')"
   ]
  },
  {
   "cell_type": "code",
   "execution_count": 13,
   "metadata": {},
   "outputs": [],
   "source": [
    "# 调整合并后数据列名\n",
    "cmodel = cmodel.rename(columns = {'代码': 'code', '简称': 'name', '周累计净值(元)': 'netvalue'})"
   ]
  },
  {
   "cell_type": "code",
   "execution_count": 14,
   "metadata": {},
   "outputs": [
    {
     "data": {
      "text/plain": [
       "(68509, 9)"
      ]
     },
     "execution_count": 14,
     "metadata": {},
     "output_type": "execute_result"
    }
   ],
   "source": [
    "cmodel.shape"
   ]
  },
  {
   "cell_type": "code",
   "execution_count": 15,
   "metadata": {},
   "outputs": [
    {
     "data": {
      "text/html": [
       "<div>\n",
       "<style scoped>\n",
       "    .dataframe tbody tr th:only-of-type {\n",
       "        vertical-align: middle;\n",
       "    }\n",
       "\n",
       "    .dataframe tbody tr th {\n",
       "        vertical-align: top;\n",
       "    }\n",
       "\n",
       "    .dataframe thead th {\n",
       "        text-align: right;\n",
       "    }\n",
       "</style>\n",
       "<table border=\"1\" class=\"dataframe\">\n",
       "  <thead>\n",
       "    <tr style=\"text-align: right;\">\n",
       "      <th></th>\n",
       "      <th>code</th>\n",
       "      <th>name</th>\n",
       "      <th>trdwk</th>\n",
       "      <th>netvalue</th>\n",
       "      <th>mkt_rf</th>\n",
       "      <th>smb</th>\n",
       "      <th>hml</th>\n",
       "      <th>umd</th>\n",
       "      <th>rf</th>\n",
       "    </tr>\n",
       "  </thead>\n",
       "  <tbody>\n",
       "    <tr>\n",
       "      <th>0</th>\n",
       "      <td>510050.OF</td>\n",
       "      <td>50ETF</td>\n",
       "      <td>2005-01-07</td>\n",
       "      <td>0.981</td>\n",
       "      <td>-0.009569</td>\n",
       "      <td>0.016692</td>\n",
       "      <td>-0.001600</td>\n",
       "      <td>-0.026043</td>\n",
       "      <td>0.000428</td>\n",
       "    </tr>\n",
       "    <tr>\n",
       "      <th>1</th>\n",
       "      <td>510050.OF</td>\n",
       "      <td>50ETF</td>\n",
       "      <td>2005-01-14</td>\n",
       "      <td>0.983</td>\n",
       "      <td>0.002330</td>\n",
       "      <td>0.006033</td>\n",
       "      <td>0.002732</td>\n",
       "      <td>-0.003396</td>\n",
       "      <td>0.000428</td>\n",
       "    </tr>\n",
       "    <tr>\n",
       "      <th>2</th>\n",
       "      <td>510050.OF</td>\n",
       "      <td>50ETF</td>\n",
       "      <td>2005-01-21</td>\n",
       "      <td>0.988</td>\n",
       "      <td>-0.008801</td>\n",
       "      <td>0.004323</td>\n",
       "      <td>0.002299</td>\n",
       "      <td>-0.018932</td>\n",
       "      <td>0.000428</td>\n",
       "    </tr>\n",
       "    <tr>\n",
       "      <th>3</th>\n",
       "      <td>510050.OF</td>\n",
       "      <td>50ETF</td>\n",
       "      <td>2005-01-28</td>\n",
       "      <td>0.976</td>\n",
       "      <td>-0.022081</td>\n",
       "      <td>-0.017804</td>\n",
       "      <td>-0.002866</td>\n",
       "      <td>0.034744</td>\n",
       "      <td>0.000428</td>\n",
       "    </tr>\n",
       "    <tr>\n",
       "      <th>4</th>\n",
       "      <td>510050.OF</td>\n",
       "      <td>50ETF</td>\n",
       "      <td>2005-02-04</td>\n",
       "      <td>0.873</td>\n",
       "      <td>0.027939</td>\n",
       "      <td>-0.046164</td>\n",
       "      <td>0.001879</td>\n",
       "      <td>0.039884</td>\n",
       "      <td>0.000428</td>\n",
       "    </tr>\n",
       "  </tbody>\n",
       "</table>\n",
       "</div>"
      ],
      "text/plain": [
       "        code   name      trdwk  netvalue    mkt_rf       smb       hml  \\\n",
       "0  510050.OF  50ETF 2005-01-07     0.981 -0.009569  0.016692 -0.001600   \n",
       "1  510050.OF  50ETF 2005-01-14     0.983  0.002330  0.006033  0.002732   \n",
       "2  510050.OF  50ETF 2005-01-21     0.988 -0.008801  0.004323  0.002299   \n",
       "3  510050.OF  50ETF 2005-01-28     0.976 -0.022081 -0.017804 -0.002866   \n",
       "4  510050.OF  50ETF 2005-02-04     0.873  0.027939 -0.046164  0.001879   \n",
       "\n",
       "        umd        rf  \n",
       "0 -0.026043  0.000428  \n",
       "1 -0.003396  0.000428  \n",
       "2 -0.018932  0.000428  \n",
       "3  0.034744  0.000428  \n",
       "4  0.039884  0.000428  "
      ]
     },
     "execution_count": 15,
     "metadata": {},
     "output_type": "execute_result"
    }
   ],
   "source": [
    "cmodel.head(5)"
   ]
  },
  {
   "cell_type": "code",
   "execution_count": 16,
   "metadata": {},
   "outputs": [],
   "source": [
    "# 查看净值与四因子之间相关性\n",
    "corr_dt = cmodel[3:]"
   ]
  },
  {
   "cell_type": "code",
   "execution_count": 17,
   "metadata": {
    "scrolled": true
   },
   "outputs": [
    {
     "data": {
      "text/html": [
       "<div>\n",
       "<style scoped>\n",
       "    .dataframe tbody tr th:only-of-type {\n",
       "        vertical-align: middle;\n",
       "    }\n",
       "\n",
       "    .dataframe tbody tr th {\n",
       "        vertical-align: top;\n",
       "    }\n",
       "\n",
       "    .dataframe thead th {\n",
       "        text-align: right;\n",
       "    }\n",
       "</style>\n",
       "<table border=\"1\" class=\"dataframe\">\n",
       "  <thead>\n",
       "    <tr style=\"text-align: right;\">\n",
       "      <th></th>\n",
       "      <th>netvalue</th>\n",
       "      <th>mkt_rf</th>\n",
       "      <th>smb</th>\n",
       "      <th>hml</th>\n",
       "      <th>umd</th>\n",
       "      <th>rf</th>\n",
       "    </tr>\n",
       "  </thead>\n",
       "  <tbody>\n",
       "    <tr>\n",
       "      <th>netvalue</th>\n",
       "      <td>1.000000</td>\n",
       "      <td>0.051949</td>\n",
       "      <td>0.015082</td>\n",
       "      <td>-0.010440</td>\n",
       "      <td>-0.009268</td>\n",
       "      <td>-0.026572</td>\n",
       "    </tr>\n",
       "    <tr>\n",
       "      <th>mkt_rf</th>\n",
       "      <td>0.051949</td>\n",
       "      <td>1.000000</td>\n",
       "      <td>0.393862</td>\n",
       "      <td>-0.195522</td>\n",
       "      <td>0.087409</td>\n",
       "      <td>0.056437</td>\n",
       "    </tr>\n",
       "    <tr>\n",
       "      <th>smb</th>\n",
       "      <td>0.015082</td>\n",
       "      <td>0.393862</td>\n",
       "      <td>1.000000</td>\n",
       "      <td>-0.525071</td>\n",
       "      <td>-0.106395</td>\n",
       "      <td>0.077798</td>\n",
       "    </tr>\n",
       "    <tr>\n",
       "      <th>hml</th>\n",
       "      <td>-0.010440</td>\n",
       "      <td>-0.195522</td>\n",
       "      <td>-0.525071</td>\n",
       "      <td>1.000000</td>\n",
       "      <td>-0.066269</td>\n",
       "      <td>-0.043882</td>\n",
       "    </tr>\n",
       "    <tr>\n",
       "      <th>umd</th>\n",
       "      <td>-0.009268</td>\n",
       "      <td>0.087409</td>\n",
       "      <td>-0.106395</td>\n",
       "      <td>-0.066269</td>\n",
       "      <td>1.000000</td>\n",
       "      <td>-0.011658</td>\n",
       "    </tr>\n",
       "    <tr>\n",
       "      <th>rf</th>\n",
       "      <td>-0.026572</td>\n",
       "      <td>0.056437</td>\n",
       "      <td>0.077798</td>\n",
       "      <td>-0.043882</td>\n",
       "      <td>-0.011658</td>\n",
       "      <td>1.000000</td>\n",
       "    </tr>\n",
       "  </tbody>\n",
       "</table>\n",
       "</div>"
      ],
      "text/plain": [
       "          netvalue    mkt_rf       smb       hml       umd        rf\n",
       "netvalue  1.000000  0.051949  0.015082 -0.010440 -0.009268 -0.026572\n",
       "mkt_rf    0.051949  1.000000  0.393862 -0.195522  0.087409  0.056437\n",
       "smb       0.015082  0.393862  1.000000 -0.525071 -0.106395  0.077798\n",
       "hml      -0.010440 -0.195522 -0.525071  1.000000 -0.066269 -0.043882\n",
       "umd      -0.009268  0.087409 -0.106395 -0.066269  1.000000 -0.011658\n",
       "rf       -0.026572  0.056437  0.077798 -0.043882 -0.011658  1.000000"
      ]
     },
     "execution_count": 17,
     "metadata": {},
     "output_type": "execute_result"
    }
   ],
   "source": [
    "corr_dt.corr()"
   ]
  },
  {
   "cell_type": "markdown",
   "metadata": {},
   "source": [
    "#### 建立OLS回归模型\n",
    "\n",
    "根据论文描述，Kosowaski模型是对单支基金先OLS回归得到残差，再对单支基金的残差pop进行bootstrap抽样，一次bootstrap抽样能得到一组残差样本，在计算出一组伪净值数据，根据一组伪净值数据用OLS回归计算出一个伪alpha。\n",
    "\n",
    "bootstrap对单支基金抽样b次能得到b个伪alpha，抽样n个基金能构成一个n乘以b的alpha分布。"
   ]
  },
  {
   "cell_type": "code",
   "execution_count": 18,
   "metadata": {},
   "outputs": [],
   "source": [
    "funds_list = cmodel.code.unique() # 基金清单"
   ]
  },
  {
   "cell_type": "code",
   "execution_count": 19,
   "metadata": {},
   "outputs": [],
   "source": [
    "# 多基金残差计算\n",
    "def res_caculator(f):\n",
    "    result = sm.OLS(f['netvalue'], sm.add_constant(f.loc[:, ['mkt_rf', 'smb', 'hml', 'umd']])).fit() # 净值根据Cahart四因子做线性回归\n",
    "    nv_dot = result.fittedvalues # 线性方程拟合后计算净值预测值\n",
    "    res = f.netvalue - nv_dot # 净值与净值预测值相减形成残差\n",
    "    \n",
    "    # 记录回归方程中各参数取值\n",
    "    coef = {}\n",
    "    coef.update(alpha_dot = result.params[0], mkt_b = result.params[1], smb_b = result.params[2], hml_b = result.params[3],  umd_b = result.params[4])\n",
    "    \n",
    "    # 返回res计算后的单支基金数据及对应的四因子回归方程系数\n",
    "    return (res, coef) "
   ]
  },
  {
   "cell_type": "code",
   "execution_count": 72,
   "metadata": {},
   "outputs": [],
   "source": [
    "funds1 = cmodel[cmodel['code'] == funds_list[0]].reset_index(drop=True) # 使用基金清单中第一支基金测试以上残差计算函数\n",
    "plt1 = res_caculator(funds1)[0]\n",
    "coefs = res_caculator(funds1)[1]"
   ]
  },
  {
   "cell_type": "code",
   "execution_count": 73,
   "metadata": {
    "scrolled": true
   },
   "outputs": [
    {
     "data": {
      "text/plain": [
       "(715,)"
      ]
     },
     "execution_count": 73,
     "metadata": {},
     "output_type": "execute_result"
    }
   ],
   "source": [
    "plt1_k_sample = k_sampling(plt1)\n",
    "plt1_k_sample.shape"
   ]
  },
  {
   "cell_type": "code",
   "execution_count": 22,
   "metadata": {},
   "outputs": [
    {
     "name": "stderr",
     "output_type": "stream",
     "text": [
      "/Users/xurui/anaconda3/lib/python3.7/site-packages/pandas/plotting/_converter.py:129: FutureWarning: Using an implicitly registered datetime converter for a matplotlib plotting method. The converter was registered by pandas on import. Future versions of pandas will require you to explicitly register matplotlib converters.\n",
      "\n",
      "To register the converters:\n",
      "\t>>> from pandas.plotting import register_matplotlib_converters\n",
      "\t>>> register_matplotlib_converters()\n",
      "  warnings.warn(msg, FutureWarning)\n"
     ]
    },
    {
     "data": {
      "text/plain": [
       "[<matplotlib.lines.Line2D at 0x1c21d5da58>]"
      ]
     },
     "execution_count": 22,
     "metadata": {},
     "output_type": "execute_result"
    },
    {
     "data": {
      "image/png": "[encoded data removed]",
      "text/plain": [
       "<Figure size 432x288 with 1 Axes>"
      ]
     },
     "metadata": {
      "needs_background": "light"
     },
     "output_type": "display_data"
    }
   ],
   "source": [
    "fig = plt.figure()  # 残差计算结果，表现出四因子估计值与基金真是净值时序之间的关系 \n",
    "ax = fig.add_subplot(111)\n",
    "funds1.loc[:,'res'] = plt1\n",
    "ax.plot(funds1.trdwk, funds1.res)\n",
    "\n",
    "# **** 残差广泛分布在[-2, 3]之间，整体对0的偏离程度较大，说明线性回归的效果不太好 **** #"
   ]
  },
  {
   "cell_type": "markdown",
   "metadata": {},
   "source": [
    "### 2. 构建残差抽样模型\n",
    "\n",
    "对残差数列进行有放回抽样"
   ]
  },
  {
   "cell_type": "code",
   "execution_count": 23,
   "metadata": {},
   "outputs": [],
   "source": [
    "# kosowski模型针对残差的Bootstrap抽样（******* 抽样部分之后要加入最优时序分块和家族分块步骤 ********）\n",
    "def k_sampling(res):\n",
    "    # 残余抽样\n",
    "    n = len(res)\n",
    "    spl_res = resample(res, n_samples = n, replace = 1)\n",
    "    \n",
    "    return spl_res"
   ]
  },
  {
   "cell_type": "markdown",
   "metadata": {},
   "source": [
    "### 3. 计算运气Alpha分布 （6.15）\n",
    "\n",
    "根据单次残差抽样样本可得到单次伪回报序列，对单次伪回报序列做OLS回归可得到单次alpha值\n",
    "\n",
    "#### 构建伪Alpha计算方程"
   ]
  },
  {
   "cell_type": "code",
   "execution_count": 151,
   "metadata": {},
   "outputs": [],
   "source": [
    "# kosowski模型抽样残差进行伪回报及伪alpha计算\n",
    "def k_fake_alpha_calculator(res, coef, cahart_fact   ors):\n",
    "    res = res.reset_index(drop=True)\n",
    "    \n",
    "    fake_nv = cahart_factors['mkt_rf']*coef.get('mkt_b') + cahart_factors['smb']*coef.get('smb_b') + \\\n",
    "                   cahart_factors['hml']*coef.get('hml_b') + cahart_factors['umd']*coef.get('umd_b') + res\n",
    "    \n",
    "    fake_result = sm.OLS(fake_nv, sm.add_constant(cahart_factors.loc[:, 'mkt_rf':'umd'])).fit()\n",
    "    fake_alpha = fake_result.params[0]\n",
    "    \n",
    "    return fake_alpha"
   ]
  },
  {
   "cell_type": "code",
   "execution_count": 153,
   "metadata": {},
   "outputs": [
    {
     "data": {
      "text/plain": [
       "0.021324047693391905"
      ]
     },
     "execution_count": 153,
     "metadata": {},
     "output_type": "execute_result"
    }
   ],
   "source": [
    "k_fake_alpha_calculator(plt1_k_sample, coefs, funds1)"
   ]
  },
  {
   "cell_type": "markdown",
   "metadata": {},
   "source": [
    "#### 遍历基金计算运气alpha，得到运气alpha分布 *** 算力不足 该部分目前耗时30 - 40min ***\n",
    "\n",
    "！***之后不一定遍历所有基金 思路待清晰***"
   ]
  },
  {
   "cell_type": "code",
   "execution_count": 170,
   "metadata": {
    "scrolled": false
   },
   "outputs": [],
   "source": [
    "fake_alpha_onefirm = []\n",
    "for fund in funds_list: # 遍历基金库中所有基金\n",
    "    \n",
    "    tmp_f = cmodel[cmodel['code'] == fund].reset_index(drop=True)\n",
    "    tmp_res = res_caculator(tmp_f) # 计算单支基金四因子回归模型的残余\n",
    "    \n",
    "    tmp_cahart = tmp_f.loc[:, 'mkt_rf':'umd']   # 当前基金对应的Cahart四因子数据\n",
    "    coef = tmp_res[1] # 当前基金Cahart OLS回归后各因子参数\n",
    "    \n",
    "    for b in range(1000): # 重复Bootstrap抽样1000次\n",
    "\n",
    "        bootstrap_res = k_sampling(tmp_res[0]) #  当前基金残余Bootstrap抽样\n",
    "        fk_alpha = k_fake_alpha_calculator(bootstrap_res, coef, tmp_cahart) #  计算单次抽样res产生的伪净值序列\n",
    "    \n",
    "        fake_alpha_onefirm.append(fk_alpha)"
   ]
  },
  {
   "cell_type": "code",
   "execution_count": 173,
   "metadata": {},
   "outputs": [
    {
     "name": "stdout",
     "output_type": "stream",
     "text": [
      "328000\n"
     ]
    },
    {
     "data": {
      "text/plain": [
       "[-0.013140322366647278,\n",
       " 0.05420911516577731,\n",
       " -0.06360524128133935,\n",
       " 0.05456302606986957,\n",
       " 0.012352930995006482]"
      ]
     },
     "execution_count": 173,
     "metadata": {},
     "output_type": "execute_result"
    }
   ],
   "source": [
    "print(len(fake_alpha_onefirm))\n",
    "fake_alpha_onefirm[:5]"
   ]
  },
  {
   "cell_type": "code",
   "execution_count": 174,
   "metadata": {
    "scrolled": false
   },
   "outputs": [
    {
     "data": {
      "text/plain": [
       "(array([2.20000e+01, 1.45000e+02, 1.42700e+03, 1.78250e+04, 2.10293e+05,\n",
       "        9.12240e+04, 6.31200e+03, 6.54000e+02, 8.80000e+01, 1.00000e+01]),\n",
       " array([-0.12029401, -0.0952312 , -0.0701684 , -0.04510559, -0.02004278,\n",
       "         0.00502002,  0.03008283,  0.05514564,  0.08020844,  0.10527125,\n",
       "         0.13033405]),\n",
       " <a list of 10 Patch objects>)"
      ]
     },
     "execution_count": 174,
     "metadata": {},
     "output_type": "execute_result"
    },
    {
     "data": {
      "image/png": "[encoded data removed]",
      "text/plain": [
       "<Figure size 432x288 with 1 Axes>"
      ]
     },
     "metadata": {
      "needs_background": "light"
     },
     "output_type": "display_data"
    }
   ],
   "source": [
    "fig = plt.figure()  \n",
    "ax = fig.add_subplot(111)\n",
    "ax.hist(fake_alpha_onefirm)"
   ]
  },
  {
   "cell_type": "markdown",
   "metadata": {},
   "source": [
    "## Fama&French模型 （6.15）"
   ]
  },
  {
   "cell_type": "code",
   "execution_count": null,
   "metadata": {},
   "outputs": [],
   "source": []
  }
 ],
 "metadata": {
  "kernelspec": {
   "display_name": "Python 3",
   "language": "python",
   "name": "python3"
  },
  "language_info": {
   "codemirror_mode": {
    "name": "ipython",
    "version": 3
   },
   "file_extension": ".py",
   "mimetype": "text/x-python",
   "name": "python",
   "nbconvert_exporter": "python",
   "pygments_lexer": "ipython3",
   "version": "3.7.3"
  }
 },
 "nbformat": 4,
 "nbformat_minor": 2
}
