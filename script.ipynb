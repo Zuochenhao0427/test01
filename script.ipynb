{
 "cells": [
  {
   "cell_type": "markdown",
   "metadata": {},
   "source": [
    "# 股票数据整理（6.7）"
   ]
  },
  {
   "cell_type": "code",
   "execution_count": 456,
   "metadata": {},
   "outputs": [
    {
     "name": "stdout",
     "output_type": "stream",
     "text": [
      "Collecting package metadata (current_repodata.json): done\n",
      "Solving environment: failed with initial frozen solve. Retrying with flexible solve.\n",
      "Solving environment: failed with repodata from current_repodata.json, will retry with next repodata source.\n",
      "Collecting package metadata (repodata.json): done\n",
      "Solving environment: failed with initial frozen solve. Retrying with flexible solve.\n",
      "Solving environment: / \n",
      "Found conflicts! Looking for incompatible packages.\n",
      "This can take several minutes.  Press CTRL-C to abort.\n",
      "                                                                               failed\n",
      "\n",
      "UnsatisfiableError: The following specifications were found\n",
      "to be incompatible with the existing python installation in your environment:\n",
      "\n",
      "Specifications:\n",
      "\n",
      "  - rpy2 -> python[version='2.7.*|3.5.*|3.6.*|>=2.7,<2.8.0a0|>=3.5,<3.6.0a0|>=3.6,<3.7.0a0|>=3.7,<3.8.0a0|3.4.*|3.3.*']\n",
      "\n",
      "Your python: python=3.8\n",
      "\n",
      "If python is on the left-most side of the chain, that's the version you've asked for.\n",
      "When python appears to the right, that indicates that the thing on the left is somehow\n",
      "not available for the python version you are constrained to. Note that conda will not\n",
      "change your python version to a different minor version unless you explicitly specify\n",
      "that.\n",
      "\n",
      "\n",
      "\n",
      "\n",
      "Note: you may need to restart the kernel to use updated packages.\n"
     ]
    }
   ],
   "source": [
    "conda install rpy2"
   ]
  },
  {
   "cell_type": "code",
   "execution_count": 457,
   "metadata": {},
   "outputs": [
    {
     "ename": "ModuleNotFoundError",
     "evalue": "No module named 'rpy2'",
     "output_type": "error",
     "traceback": [
      "\u001b[0;31m---------------------------------------------------------------------------\u001b[0m",
      "\u001b[0;31mModuleNotFoundError\u001b[0m                       Traceback (most recent call last)",
      "\u001b[0;32m<ipython-input-457-4e4b4fe3c1cf>\u001b[0m in \u001b[0;36m<module>\u001b[0;34m\u001b[0m\n\u001b[0;32m----> 1\u001b[0;31m \u001b[0;32mimport\u001b[0m \u001b[0mrpy2\u001b[0m\u001b[0;34m\u001b[0m\u001b[0;34m\u001b[0m\u001b[0m\n\u001b[0m\u001b[1;32m      2\u001b[0m \u001b[0;32mimport\u001b[0m \u001b[0mrpy2\u001b[0m\u001b[0;34m.\u001b[0m\u001b[0mrobjects\u001b[0m \u001b[0;32mas\u001b[0m \u001b[0mrobjects\u001b[0m\u001b[0;34m\u001b[0m\u001b[0;34m\u001b[0m\u001b[0m\n\u001b[1;32m      3\u001b[0m \u001b[0;32mfrom\u001b[0m \u001b[0mrpy2\u001b[0m\u001b[0;34m.\u001b[0m\u001b[0mrobjects\u001b[0m\u001b[0;34m.\u001b[0m\u001b[0mpackages\u001b[0m \u001b[0;32mimport\u001b[0m \u001b[0mimportr\u001b[0m\u001b[0;34m\u001b[0m\u001b[0;34m\u001b[0m\u001b[0m\n\u001b[1;32m      4\u001b[0m \u001b[0;32mfrom\u001b[0m \u001b[0mrpy2\u001b[0m\u001b[0;34m.\u001b[0m\u001b[0mrobjects\u001b[0m \u001b[0;32mimport\u001b[0m \u001b[0mr\u001b[0m\u001b[0;34m\u001b[0m\u001b[0;34m\u001b[0m\u001b[0m\n\u001b[1;32m      5\u001b[0m \u001b[0;32mfrom\u001b[0m \u001b[0mrpy2\u001b[0m\u001b[0;34m.\u001b[0m\u001b[0mrobjects\u001b[0m \u001b[0;32mimport\u001b[0m \u001b[0mpandas2ri\u001b[0m\u001b[0;34m\u001b[0m\u001b[0;34m\u001b[0m\u001b[0m\n",
      "\u001b[0;31mModuleNotFoundError\u001b[0m: No module named 'rpy2'"
     ]
    }
   ],
   "source": [
    "import rpy2\n",
    "import rpy2.robjects as robjects\n",
    "from rpy2.robjects.packages import importr\n",
    "from rpy2.robjects import r\n",
    "from rpy2.robjects import pandas2ri"
   ]
  },
  {
   "cell_type": "code",
   "execution_count": null,
   "metadata": {},
   "outputs": [],
   "source": [
    "import pandas as pd\n",
    "import numpy as np\n",
    "import statsmodels.api as sm\n",
    "import matplotlib.pyplot as plt\n",
    "from sklearn.utils import resample\n",
    "import datetime\n",
    "from datetime import datetime"
   ]
  },
  {
   "cell_type": "markdown",
   "metadata": {},
   "source": [
    "dt1 = pd.read_csv('股票数据/行情序列2001年周数据.csv')\n",
    "dt2 = pd.read_csv('股票数据/行情序列2002年周数据.csv')\n",
    "dt3 = pd.read_csv('股票数据/行情序列2003年周数据.csv')\n",
    "dt4 = pd.read_csv('股票数据/行情序列2004-5年周数据.csv')\n",
    "dt5 = pd.read_csv('股票数据/行情序列2006-2009年周数据.csv')\n",
    "dt6 = pd.read_csv('股票数据/行情序列2010-2013年周数据.csv')\n",
    "dt7 = pd.read_csv('股票数据/行情序列2014-2018年周数据.csv')"
   ]
  },
  {
   "cell_type": "markdown",
   "metadata": {},
   "source": [
    "dt = pd.concat([dt1,dt2,dt3,dt4,dt5,dt6,dt7], axis = 0, ignore_index = True)"
   ]
  },
  {
   "cell_type": "markdown",
   "metadata": {},
   "source": [
    "dt_na = dt.dropna()"
   ]
  },
  {
   "cell_type": "markdown",
   "metadata": {},
   "source": [
    "dt_na"
   ]
  },
  {
   "cell_type": "markdown",
   "metadata": {},
   "source": [
    "dt.shape"
   ]
  },
  {
   "cell_type": "markdown",
   "metadata": {},
   "source": [
    "dt_na.shape"
   ]
  },
  {
   "cell_type": "markdown",
   "metadata": {},
   "source": [
    "dt_na.to_csv('数据已合并.csv', index = False, encoding='utf_8_sig')"
   ]
  },
  {
   "cell_type": "markdown",
   "metadata": {},
   "source": [
    "# 数据初步描述分析（6.8）\n",
    "\n",
    "见【data description script.R】文件\n",
    "\n",
    "***描述性分析结果*** \n",
    "1. 一共截取328只基金的累积净值数据，运营时间最长的基金从周2005/1/7 - 周2018/12/28，包含715个数据点，有85%的基金单支拥有50 ~ 400个数据点, 其中有25.8%的基金单支拥有200~250个数据点。\n",
    "2. 由04年至18年，每年数据点数量由最初的1个（仅2004/12/31, 上证500ETF一支）至15674个逐年增多。\n",
    "3. 由04年至18年，基金数量由最初的1支至328支逐年增多，13年基金数量超过100支，14年后基金数量猛增。\n"
   ]
  },
  {
   "cell_type": "markdown",
   "metadata": {},
   "source": [
    "# 数据在模型Kosowski、Fama&French的抽样试验（6.9 - 6.15）"
   ]
  },
  {
   "cell_type": "code",
   "execution_count": null,
   "metadata": {},
   "outputs": [],
   "source": [
    "# 基金数据导入\n",
    "funds = pd.read_csv('funds_data.csv')"
   ]
  },
  {
   "cell_type": "code",
   "execution_count": null,
   "metadata": {},
   "outputs": [],
   "source": [
    "funds.shape"
   ]
  },
  {
   "cell_type": "code",
   "execution_count": null,
   "metadata": {},
   "outputs": [],
   "source": [
    "funds.head(5)"
   ]
  },
  {
   "cell_type": "code",
   "execution_count": null,
   "metadata": {},
   "outputs": [],
   "source": [
    "funds.info()"
   ]
  },
  {
   "cell_type": "code",
   "execution_count": null,
   "metadata": {},
   "outputs": [],
   "source": [
    "# 基金回报率计算\n",
    "funds['单位净值(初)']=funds.groupby('代码')['周单位净值(元)'].shift(1)\n",
    "funds['净回报率'] = funds['周单位净值(元)']/funds['单位净值(初)'] - 1"
   ]
  },
  {
   "cell_type": "code",
   "execution_count": null,
   "metadata": {},
   "outputs": [],
   "source": [
    "funds.head(10)"
   ]
  },
  {
   "cell_type": "code",
   "execution_count": null,
   "metadata": {},
   "outputs": [],
   "source": [
    "# Cahart模型因子数据导入\n",
    "cahart = pd.read_csv('fivefactor_weekly.csv')"
   ]
  },
  {
   "cell_type": "code",
   "execution_count": null,
   "metadata": {},
   "outputs": [],
   "source": [
    "cahart.shape"
   ]
  },
  {
   "cell_type": "code",
   "execution_count": null,
   "metadata": {},
   "outputs": [],
   "source": [
    "cahart.head(5)"
   ]
  },
  {
   "cell_type": "code",
   "execution_count": null,
   "metadata": {},
   "outputs": [],
   "source": [
    "cahart.info()"
   ]
  },
  {
   "cell_type": "code",
   "execution_count": null,
   "metadata": {},
   "outputs": [],
   "source": [
    "# 时间类数据格式调整\n",
    "funds['时间'] = pd.to_datetime(funds['时间'], format='%Y-%m-%d')\n",
    "cahart['trdwk'] = pd.to_datetime(cahart['trdwk'], format='%Y-%m-%d')"
   ]
  },
  {
   "cell_type": "markdown",
   "metadata": {},
   "source": [
    "## Kosowaski模型（6.9 - 6.11）\n",
    "\n",
    "### 1、构建残差population\n",
    "\n",
    "按照Kosowaski模型，根据Cahart四因子模型构建各基金alpha, 周因子数据由国泰安数据库提供。\n",
    "\n",
    "##### 对齐四因子与基金周收益时间点\n",
    "取四因子及最长运营的基金周收益05/01/07 - 18/12/28数据进行right_join, 结果如下；"
   ]
  },
  {
   "attachments": {
    "image.png": {
     "image/png": "[encoded data removed]"
    }
   },
   "cell_type": "markdown",
   "metadata": {},
   "source": [
    "***观察结果***：周因子数据与单支基金周净值数据存在差值，周因子数据缺失2006/10/6、2007/10/5、2009/12/31、2013/12/31四周数据，为计算alpha、载荷及残差用缺失值上值进行填补。\n",
    "![image.png](attachment:image.png)"
   ]
  },
  {
   "cell_type": "markdown",
   "metadata": {},
   "source": [
    "#### 合并四因子与基金收益率"
   ]
  },
  {
   "cell_type": "code",
   "execution_count": null,
   "metadata": {},
   "outputs": [],
   "source": [
    "# 取Cahart模型所需因子：市场风险因子（mkt_rf）、规模风险因子（smb）、账面市值比风险因子（hml）、惯性/动量因子（umd）及无风险利率（rf）\n",
    "c1 = cahart[(cahart['trdwk']>=\"2005-01-07\")&(cahart['trdwk']<=\"2018-12-28\")]\n",
    "c2 = c1[['trdwk','mkt_rf','smb','hml','umd','rf']]\n",
    "# 取基金净值有效时间段内数据\n",
    "f = funds[(funds['时间']>='2005-01-07')&(funds['时间']<='2018-12-28')]\n",
    "f = f.rename(columns = {'时间': 'trdwk'})\n",
    "# 合并因子与基金净值\n",
    "cmodel = pd.merge(f, c2, how='left', on='trdwk')"
   ]
  },
  {
   "cell_type": "code",
   "execution_count": null,
   "metadata": {},
   "outputs": [],
   "source": [
    "# 处理缺失值： 用上一个非缺失值填补\n",
    "cmodel = cmodel.fillna(method='ffill')"
   ]
  },
  {
   "cell_type": "code",
   "execution_count": null,
   "metadata": {},
   "outputs": [],
   "source": [
    "# 调整合并后数据列名\n",
    "cmodel = cmodel.drop(columns = ['周单位净值(元)', '单位净值(初)'])\n",
    "cmodel = cmodel.rename(columns = {'代码': 'code', '简称': 'name', '净回报率': 'ri'})"
   ]
  },
  {
   "cell_type": "code",
   "execution_count": null,
   "metadata": {},
   "outputs": [],
   "source": [
    "cmodel.shape"
   ]
  },
  {
   "cell_type": "code",
   "execution_count": null,
   "metadata": {},
   "outputs": [],
   "source": [
    "cmodel.head(5)"
   ]
  },
  {
   "cell_type": "code",
   "execution_count": null,
   "metadata": {},
   "outputs": [],
   "source": [
    "# 查看净值与四因子之间相关性\n",
    "corr_dt = cmodel[3:]"
   ]
  },
  {
   "cell_type": "code",
   "execution_count": null,
   "metadata": {
    "scrolled": true
   },
   "outputs": [],
   "source": [
    "corr_dt.corr()"
   ]
  },
  {
   "cell_type": "markdown",
   "metadata": {},
   "source": [
    "#### 建立OLS回归模型\n",
    "\n",
    "根据论文描述，Kosowaski模型是对单支基金先OLS回归得到残差，再对单支基金的残差pop进行bootstrap抽样，一次bootstrap抽样能得到一组残差样本，在计算出一组伪净值数据，根据一组伪净值数据用OLS回归计算出一个伪alpha。\n",
    "\n",
    "bootstrap对单支基金抽样b次能得到b个伪alpha，抽样n个基金能构成一个n乘以b的alpha分布。"
   ]
  },
  {
   "cell_type": "code",
   "execution_count": null,
   "metadata": {},
   "outputs": [],
   "source": [
    "funds_list = cmodel.code.unique() # 基金清单"
   ]
  },
  {
   "cell_type": "code",
   "execution_count": null,
   "metadata": {},
   "outputs": [],
   "source": [
    "# 多基金残差计算\n",
    "def res_caculator(f):\n",
    "    Y = f['ri']-f['rf']\n",
    "    result = sm.OLS(Y, sm.add_constant(f.loc[:, ['mkt_rf', 'smb', 'hml', 'umd']])).fit() # 净值根据Cahart四因子做线性回归\n",
    "    y_dot = result.fittedvalues # 线性方程拟合后计算净值预测值\n",
    "    res = Y - y_dot # 净值与净值预测值相减形成残差\n",
    "    \n",
    "    # 记录回归方程中各参数取值\n",
    "    coef = {}\n",
    "    coef.update(alpha_dot = result.params[0], mkt_b = result.params[1], smb_b = result.params[2], hml_b = result.params[3],  umd_b = result.params[4])\n",
    "    \n",
    "    # 返回res计算后的单支基金数据及对应的四因子回归方程系数\n",
    "    return (res, coef) "
   ]
  },
  {
   "cell_type": "markdown",
   "metadata": {},
   "source": [
    "cmodel.groupby('code').apply(lambda x:)"
   ]
  },
  {
   "cell_type": "code",
   "execution_count": null,
   "metadata": {},
   "outputs": [],
   "source": [
    "########## TEST ###########\n",
    "funds1 = cmodel[cmodel['code'] == funds_list[0]].reset_index(drop=True) # 使用基金清单中第一支基金测试以上残差计算函数\n",
    "plt1 = res_caculator(funds1)[0]\n",
    "coefs = res_caculator(funds1)[1]"
   ]
  },
  {
   "cell_type": "code",
   "execution_count": 511,
   "metadata": {},
   "outputs": [
    {
     "data": {
      "text/plain": [
       "{'alpha_dot': 0.0007632565614886969,\n",
       " 'mkt_b': 0.8237490201811966,\n",
       " 'smb_b': -0.7486937847555779,\n",
       " 'hml_b': 0.2894550245224568,\n",
       " 'umd_b': -0.13584626759849072}"
      ]
     },
     "execution_count": 511,
     "metadata": {},
     "output_type": "execute_result"
    }
   ],
   "source": [
    "coefs"
   ]
  },
  {
   "cell_type": "code",
   "execution_count": null,
   "metadata": {},
   "outputs": [],
   "source": [
    "########## TEST ###########\n",
    "fig = plt.figure()  # 残差计算结果，表现出四因子估计值与基金真是净值时序之间的关系 \n",
    "ax = fig.add_subplot(111)\n",
    "funds1.loc[:,'res'] = plt1\n",
    "ax.plot(funds1.trdwk, funds1.res) # 残差分布在[-0.1, 0.1]之间"
   ]
  },
  {
   "attachments": {
    "image.png": {
     "image/png": "[encoded data removed]"
    }
   },
   "cell_type": "markdown",
   "metadata": {},
   "source": [
    "### 2. 构建基金回报率伪时间序列、伪Alpha计算方程 （6.15）\n",
    "\n",
    "Kosowski模型创造基金回报率伪时间序列的方式是首先对残差数列进行有放回抽样，使用抽样残差数列，配合以下公式计算基金回报率伪时间序列：\n",
    "![image.png](attachment:image.png)\n",
    "\n",
    "#### 残差抽样方程"
   ]
  },
  {
   "cell_type": "code",
   "execution_count": null,
   "metadata": {},
   "outputs": [],
   "source": [
    "# kosowski模型针对残差的Bootstrap抽样（******* 抽样部分之后要加入最优时序分块和家族分块步骤 ********）\n",
    "def k_sampling(res):\n",
    "    # 残余抽样\n",
    "    n = len(res)\n",
    "    spl_res = resample(res, n_samples = n, replace = 1)\n",
    "    \n",
    "    return spl_res"
   ]
  },
  {
   "cell_type": "code",
   "execution_count": null,
   "metadata": {},
   "outputs": [],
   "source": [
    "def k_sampling1(res):\n",
    "    # 最优时序分块采样\n",
    "    #tseries = importr('tseries')\n",
    "    tseries = importr('tseries')\n",
    "    #tsbootstrap = robjects.r['tsbootstrap']()\n",
    "    spl_res = tseries.tsbootstrap(res, nb = 1, m = 1)\n",
    "#     spl_res = pd.Series(np.array(spl_res))\n",
    "\n",
    "    return spl_res\n",
    "\n",
    "# def k_sampling1(res):\n",
    "#     # 最优时序分块采样\n",
    "#     #tseries = importr('tseries')\n",
    "#     tseries = importr('tseries')\n",
    "#     #tsbootstrap = robjects.r['tsbootstrap']()\n",
    "#     spl_res = tseries.tsbootstrap(res, nb = 1000, m = 1)\n",
    "#     spl_res = np.array(spl_res)\n",
    "\n",
    "#     return spl_res"
   ]
  },
  {
   "cell_type": "code",
   "execution_count": null,
   "metadata": {
    "scrolled": true
   },
   "outputs": [],
   "source": [
    "########## TEST ###########\n",
    "plt1_k_sample = k_sampling(plt1)\n",
    "plt1_k_sample.shape"
   ]
  },
  {
   "cell_type": "markdown",
   "metadata": {},
   "source": [
    "k_sampling1(plt1)"
   ]
  },
  {
   "cell_type": "markdown",
   "metadata": {},
   "source": [
    "#### 伪Alpha计算方程\n",
    "得到回报率伪时间序列后，再通过CahartOLS再次回归，得到该基金伪Alpha"
   ]
  },
  {
   "cell_type": "code",
   "execution_count": 540,
   "metadata": {},
   "outputs": [],
   "source": [
    "# kosowski模型抽样残差进行伪回报及伪alpha计算\n",
    "def k_fake_alpha_calculator(res, coef, cahart_factors):\n",
    "    res = res.reset_index(drop=True)\n",
    "    \n",
    "    # 通过残差抽样计算伪回报率\n",
    "    fake_y = cahart_factors['mkt_rf']*coef.get('mkt_b') + cahart_factors['smb']*coef.get('smb_b') + \\\n",
    "                   cahart_factors['hml']*coef.get('hml_b') + cahart_factors['umd']*coef.get('umd_b') + res\n",
    "    \n",
    "    # 得到伪回报率，通过伪回报率Cahart OLS回归得到基金伪Alpha.\n",
    "    fake_result = sm.OLS(fake_y, sm.add_constant(cahart_factors.loc[:, 'mkt_rf':'umd'])).fit()\n",
    "    fake_alpha = fake_result.params[0]\n",
    "    fake_ta = fake_result.tvalues[0]\n",
    "    \n",
    "    return (fake_alpha, fake_ta)"
   ]
  },
  {
   "cell_type": "code",
   "execution_count": 541,
   "metadata": {},
   "outputs": [
    {
     "data": {
      "text/plain": [
       "(0.0006067399005216181, 1.027799056113884)"
      ]
     },
     "execution_count": 541,
     "metadata": {},
     "output_type": "execute_result"
    }
   ],
   "source": [
    "########## TEST ###########\n",
    "k_fake_alpha_calculator(plt1_k_sample, coefs, funds1)"
   ]
  },
  {
   "cell_type": "code",
   "execution_count": 524,
   "metadata": {},
   "outputs": [
    {
     "name": "stdout",
     "output_type": "stream",
     "text": [
      "222    0.040617\n",
      "472    0.022038\n",
      "413    0.033138\n",
      "133   -0.016940\n",
      "485   -0.005781\n",
      "         ...   \n",
      "637    0.008614\n",
      "626   -0.015289\n",
      "689   -0.012302\n",
      "616   -0.004205\n",
      "564   -0.007916\n",
      "Length: 715, dtype: float64\n"
     ]
    },
    {
     "data": {
      "text/plain": [
       "pandas.core.series.Series"
      ]
     },
     "execution_count": 524,
     "metadata": {},
     "output_type": "execute_result"
    }
   ],
   "source": [
    "plt1_k_sample.shape\n",
    "print(plt1_k_sample)\n",
    "type(plt1_k_sample)"
   ]
  },
  {
   "cell_type": "markdown",
   "metadata": {},
   "source": [
    "### 3. 计算运气Alpha分布 （6.15 - 6.17）\n",
    "\n",
    "！**目前思路**\n",
    "1. 计算所有基金真实alpha【alpha】及其alpha的t-test值【ta】，对真实alpha进行排序；\n",
    "2. 计算一次所有基金伪alpha【fk_alpha】及其对应的t-test值，并对fk_alpha排序，记为Series1；\n",
    "3. 重复1000次伪alpha序列计算，得到1000个Series.\n",
    "4. 计算1000个Series每个rank(length：328)上的t-test平均数【mean_tfa】\n",
    "5. 在每个rank上，计算【alpha】在1000个【fk_alpha】构成的【运气alpha分布】上小于其的百分比，记为【%<Act】"
   ]
  },
  {
   "cell_type": "code",
   "execution_count": null,
   "metadata": {},
   "outputs": [],
   "source": [
    "cmodel.head(10)"
   ]
  },
  {
   "cell_type": "code",
   "execution_count": null,
   "metadata": {},
   "outputs": [],
   "source": [
    "# 第一步：计算所有基金真实Alpha并排序 #\n",
    "alpha = []\n",
    "ta = []f\n",
    "\n",
    "for fund in funds_list:\n",
    "    tmp_f = cmodel[cmodel['code'] == fund].reset_index(drop=True)\n",
    "    X = tmp_f.loc[:, 'mkt_rf':'umd']\n",
    "    Y = tmp_f.ri - tmp_f.rf\n",
    "    \n",
    "    true_ols = sm.OLS(Y, sm.add_constant(X)).fit()\n",
    "    alpha_i = true_ols.params[0]\n",
    "    ta_i = true_ols.tvalues[0]\n",
    "    \n",
    "    alpha.append(alpha_i)\n",
    "    ta.append(ta_i) "
   ]
  },
  {
   "cell_type": "code",
   "execution_count": null,
   "metadata": {},
   "outputs": [],
   "source": [
    "# alpha及其t-value数列的排序及整理方程\n",
    "def series_manipulator(alpha, ta):\n",
    "    # 将两个List合并到一起，按alpha排序\n",
    "    alpha = np.array(alpha).reshape(len(alpha),1)\n",
    "    ta = np.array(ta).reshape(len(ta),1)\n",
    "\n",
    "    one_fund_array = np.hstack([alpha, ta])\n",
    "    one_fund_array = one_fund_array[np.argsort(one_fund_array[:,0]),:]\n",
    "    \n",
    "    # 将排好序的alpha和其t-value分开，变成两个二维数组\n",
    "    one_fund_list = np.hsplit(one_fund_array,2)\n",
    "    \n",
    "    return one_fund_list"
   ]
  },
  {
   "cell_type": "code",
   "execution_count": null,
   "metadata": {},
   "outputs": [],
   "source": [
    "# 排序\n",
    "true_alpha_series = series_manipulator(alpha, ta)"
   ]
  },
  {
   "cell_type": "code",
   "execution_count": null,
   "metadata": {},
   "outputs": [],
   "source": [
    "true_alpha_series[0][:5]"
   ]
  },
  {
   "cell_type": "markdown",
   "metadata": {},
   "source": [
    "# ! **算力不足问题**\n",
    "目前伪Alpha计算并排序的步骤循环5次大约需要1分钟，20次大约需要4分半，预计如需循环计算1000次需要3~4个小时"
   ]
  },
  {
   "cell_type": "code",
   "execution_count": null,
   "metadata": {},
   "outputs": [],
   "source": [
    "# 第三步：重复计算所有基金伪Alpha series并排序 #\n",
    "myalphalist = []\n",
    "mytalist = []\n",
    "\n",
    "for b in range(20):\n",
    "    fk_alpha = []\n",
    "    fk_ta = [] \n",
    "    \n",
    "    # 第二步：计算所有基金伪Alpha并排序，记为Series1 #\n",
    "    for fund in funds_list:\n",
    "        tmp_f = cmodel[cmodel['code'] == fund].reset_index(drop=True)\n",
    "        tmp_cahart = tmp_f.loc[:, 'mkt_rf':'umd']   # 当前基金对应的Cahart四因子数据\n",
    "        \n",
    "        tmp_res = res_caculator(tmp_f) # 计算单支基金四因子回归模型的残余\n",
    "        coef = tmp_res[1] # 当前基金Cahart OLS回归后各因子参数\n",
    "\n",
    "        #  当前基金残余Bootstrap抽样\n",
    "        bootstrap_res = k_sampling(tmp_res[0])\n",
    "        \n",
    "        #  计算单次抽样res产生的伪净值序列\n",
    "        fk_data = k_fake_alpha_calculator(bootstrap_res, coef, tmp_cahart) \n",
    "        fk_alpha_i = fk_data[0]\n",
    "        fk_ta_i = fk_data[1]\n",
    "    \n",
    "        fk_alpha.append(fk_alpha_i)\n",
    "        fk_ta.append(fk_ta_i)\n",
    "   \n",
    "    one_fund_list = series_manipulator(fk_alpha, fk_ta)\n",
    "    alpha_series_i = one_fund_list[0]\n",
    "    ta_series_i = one_fund_list[1]\n",
    "    \n",
    "    myalphalist.append(alpha_series_i)\n",
    "    mytalist.append(ta_series_i)"
   ]
  },
  {
   "cell_type": "code",
   "execution_count": null,
   "metadata": {},
   "outputs": [],
   "source": [
    "mat = np.array(myalphalist)\n",
    "mat.shape"
   ]
  },
  {
   "cell_type": "code",
   "execution_count": null,
   "metadata": {},
   "outputs": [],
   "source": [
    "mat[19,:5,:5]"
   ]
  },
  {
   "attachments": {
    "image.png": {
     "image/png": "[encoded data removed]"
    }
   },
   "cell_type": "markdown",
   "metadata": {},
   "source": [
    "## Fama&French模型（6.18 - 6.24）\n",
    "\n",
    "Fama&French模拟回报率伪时间序列的方式与Kosowsk模型略有不同，主要步骤如下；\n",
    "1. 计算所有基金真实alpha的估计值 (之前已计算)\n",
    "2. 使用F&F公式计算单支基金的伪回报率；\n",
    "![image.png](attachment:image.png)\n",
    "3. 对基金按月份分组，Bootstrap月数据，模拟伪回报率的时间序列，这种方法保留了周数据中基金组的截面数据\n",
    "4. 对单支基金伪回报率的伪时间序列做Cahart OLS回归，得到单支基金伪alpha\n",
    "5. 排序所有基金的伪alpha"
   ]
  },
  {
   "cell_type": "code",
   "execution_count": null,
   "metadata": {},
   "outputs": [],
   "source": [
    "# 第一步：计算真实Alpha的估计值\n",
    "funds_list\n",
    "alpha = np.array(alpha).reshape(328,)\n",
    "ta = np.array(ta).reshape(328,)"
   ]
  },
  {
   "cell_type": "code",
   "execution_count": null,
   "metadata": {},
   "outputs": [],
   "source": [
    "df ={'code':funds_list, 'alpha':alpha, 'ta':ta }\n",
    "df = pd.DataFrame(df)"
   ]
  },
  {
   "cell_type": "code",
   "execution_count": null,
   "metadata": {},
   "outputs": [],
   "source": [
    "fmodel = pd.merge(cmodel, df, on='code')"
   ]
  },
  {
   "cell_type": "code",
   "execution_count": null,
   "metadata": {},
   "outputs": [],
   "source": [
    "# 第二步：计算基金伪回报率\n",
    "fmodel['fk_r'] = fmodel['ri'] - fmodel['alpha']\n",
    "fmodel.head(5)"
   ]
  },
  {
   "cell_type": "code",
   "execution_count": null,
   "metadata": {},
   "outputs": [],
   "source": [
    "# 第三步：按时间截面进行Bootstrap Sampling\n",
    "# 按月份对每支基金回报率进行整理\n",
    "fmodel_1 = fmodel[['trdwk','code','fk_r']]"
   ]
  },
  {
   "cell_type": "code",
   "execution_count": 532,
   "metadata": {},
   "outputs": [],
   "source": [
    "def f_sampling(fk_r_df, c_factors):\n",
    "    time = pd.DataFrame(fk_r_df['trdwk'].unique()).sort_values(by=0) # 保留原始时序标签\n",
    "    \n",
    "    # 窄表变宽表\n",
    "    f_spl = fk_r_df.pivot_table(index='trdwk',\n",
    "                                columns = 'code',\n",
    "                                values = 'fk_r') # 行-时间，列-所有基金，单元格表示一只基金在一个时间点的伪回报率（回报减去alpha）\n",
    "    # 去掉宽表中的多层索引\n",
    "    f_spl1 = np.array(f_spl)\n",
    "    columns = f_spl.columns.values\n",
    "    f_spl_df = pd.DataFrame(f_spl1, columns = columns).fillna(0) # 补足某些基金在早期时间点上的NaN\n",
    "    \n",
    "    # 按时间进行抽样\n",
    "    n = len(f_spl_df)\n",
    "    f_spl_df_b = f_spl_df.iloc[np.random.randint(n, size=n)].reset_index(drop=True) # 抽样完成后将打乱顺序的伪时间序列重新排序\n",
    "    \n",
    "    # 宽表变窄表\n",
    "    f_spl_df_b_wide = pd.merge(f_spl_df_b,trdwk,left_index = True,right_index=True).rename(columns = {0:'trdwk'})\n",
    "    f_spl_df_b_long = f_spl_df_b_wide.set_index('trdwk').stack().reset_index()\n",
    "    f_spl_df_b_long.columns = ['trdwk', 'code', 'fk_ri']\n",
    "    \n",
    "    # 抽样完成后与真实时间轴上的Cahart四因子按按时间索引进行合并\n",
    "    c_factors.reset_index(drop=True)\n",
    "    f_spl_df1 = pd.merge(f_spl_df_b_long, c_factors, how='left', on='trdwk').fillna(method='ffill')\n",
    "    \n",
    "    return f_spl_df1"
   ]
  },
  {
   "cell_type": "code",
   "execution_count": 535,
   "metadata": {},
   "outputs": [
    {
     "data": {
      "text/html": [
       "<div>\n",
       "<style scoped>\n",
       "    .dataframe tbody tr th:only-of-type {\n",
       "        vertical-align: middle;\n",
       "    }\n",
       "\n",
       "    .dataframe tbody tr th {\n",
       "        vertical-align: top;\n",
       "    }\n",
       "\n",
       "    .dataframe thead th {\n",
       "        text-align: right;\n",
       "    }\n",
       "</style>\n",
       "<table border=\"1\" class=\"dataframe\">\n",
       "  <thead>\n",
       "    <tr style=\"text-align: right;\">\n",
       "      <th></th>\n",
       "      <th>trdwk</th>\n",
       "      <th>code</th>\n",
       "      <th>fk_ri</th>\n",
       "      <th>mkt_rf</th>\n",
       "      <th>smb</th>\n",
       "      <th>hml</th>\n",
       "      <th>umd</th>\n",
       "      <th>rf</th>\n",
       "    </tr>\n",
       "  </thead>\n",
       "  <tbody>\n",
       "    <tr>\n",
       "      <th>0</th>\n",
       "      <td>2005-01-07</td>\n",
       "      <td>159901.OF</td>\n",
       "      <td>-0.010997</td>\n",
       "      <td>-0.009569</td>\n",
       "      <td>0.016692</td>\n",
       "      <td>-0.0016</td>\n",
       "      <td>-0.026043</td>\n",
       "      <td>0.000428</td>\n",
       "    </tr>\n",
       "    <tr>\n",
       "      <th>1</th>\n",
       "      <td>2005-01-07</td>\n",
       "      <td>159902.OF</td>\n",
       "      <td>-0.006850</td>\n",
       "      <td>-0.009569</td>\n",
       "      <td>0.016692</td>\n",
       "      <td>-0.0016</td>\n",
       "      <td>-0.026043</td>\n",
       "      <td>0.000428</td>\n",
       "    </tr>\n",
       "    <tr>\n",
       "      <th>2</th>\n",
       "      <td>2005-01-07</td>\n",
       "      <td>159903.OF</td>\n",
       "      <td>-0.003010</td>\n",
       "      <td>-0.009569</td>\n",
       "      <td>0.016692</td>\n",
       "      <td>-0.0016</td>\n",
       "      <td>-0.026043</td>\n",
       "      <td>0.000428</td>\n",
       "    </tr>\n",
       "    <tr>\n",
       "      <th>3</th>\n",
       "      <td>2005-01-07</td>\n",
       "      <td>159905.OF</td>\n",
       "      <td>-0.008626</td>\n",
       "      <td>-0.009569</td>\n",
       "      <td>0.016692</td>\n",
       "      <td>-0.0016</td>\n",
       "      <td>-0.026043</td>\n",
       "      <td>0.000428</td>\n",
       "    </tr>\n",
       "    <tr>\n",
       "      <th>4</th>\n",
       "      <td>2005-01-07</td>\n",
       "      <td>159906.OF</td>\n",
       "      <td>-0.008655</td>\n",
       "      <td>-0.009569</td>\n",
       "      <td>0.016692</td>\n",
       "      <td>-0.0016</td>\n",
       "      <td>-0.026043</td>\n",
       "      <td>0.000428</td>\n",
       "    </tr>\n",
       "  </tbody>\n",
       "</table>\n",
       "</div>"
      ],
      "text/plain": [
       "       trdwk       code     fk_ri    mkt_rf       smb     hml       umd  \\\n",
       "0 2005-01-07  159901.OF -0.010997 -0.009569  0.016692 -0.0016 -0.026043   \n",
       "1 2005-01-07  159902.OF -0.006850 -0.009569  0.016692 -0.0016 -0.026043   \n",
       "2 2005-01-07  159903.OF -0.003010 -0.009569  0.016692 -0.0016 -0.026043   \n",
       "3 2005-01-07  159905.OF -0.008626 -0.009569  0.016692 -0.0016 -0.026043   \n",
       "4 2005-01-07  159906.OF -0.008655 -0.009569  0.016692 -0.0016 -0.026043   \n",
       "\n",
       "         rf  \n",
       "0  0.000428  \n",
       "1  0.000428  \n",
       "2  0.000428  \n",
       "3  0.000428  \n",
       "4  0.000428  "
      ]
     },
     "execution_count": 535,
     "metadata": {},
     "output_type": "execute_result"
    }
   ],
   "source": [
    "f = f_sampling(fmodel_1,c2)\n",
    "f.head(5)"
   ]
  },
  {
   "cell_type": "code",
   "execution_count": 536,
   "metadata": {},
   "outputs": [],
   "source": [
    "f_fk_alpha = []\n",
    "f_fk_ta = []\n",
    "for f in funds_list:\n",
    "    tmp_f = f_sampling(fmodel_1, c2)\n",
    "    Y=tmp_f['fk_ri'] - tmp_f['rf']\n",
    "    X=tmp_f.loc[:, 'mkt_rf':'umd']\n",
    "    fake_result = sm.OLS(Y, sm.add_constant(X)).fit()\n",
    "    fk_alpha_i = fake_result.params[0]\n",
    "    fk_ta_i = fake_result.tvalues[0]\n",
    "    \n",
    "    f_fk_alpha.append(fk_alpha_i)\n",
    "    f_fk_ta.append(fk_ta_i)\n",
    "    \n",
    "f_list = series_manipulator(f_fk_alpha, f_fk_ta)    "
   ]
  },
  {
   "cell_type": "code",
   "execution_count": 551,
   "metadata": {},
   "outputs": [
    {
     "data": {
      "text/plain": [
       "[array([[-1.99698314e-03],\n",
       "        [-1.67269916e-03],\n",
       "        [-1.60670586e-03],\n",
       "        [-1.60213366e-03],\n",
       "        [-1.54267560e-03],\n",
       "        [-1.51411306e-03],\n",
       "        [-1.46290078e-03],\n",
       "        [-1.38579200e-03],\n",
       "        [-1.35012582e-03],\n",
       "        [-1.31621059e-03],\n",
       "        [-1.31465048e-03],\n",
       "        [-1.30921193e-03],\n",
       "        [-1.29392749e-03],\n",
       "        [-1.28814399e-03],\n",
       "        [-1.26950333e-03],\n",
       "        [-1.26826258e-03],\n",
       "        [-1.24286165e-03],\n",
       "        [-1.23979402e-03],\n",
       "        [-1.23397886e-03],\n",
       "        [-1.23000373e-03],\n",
       "        [-1.22337564e-03],\n",
       "        [-1.21275958e-03],\n",
       "        [-1.20016168e-03],\n",
       "        [-1.19941766e-03],\n",
       "        [-1.18199048e-03],\n",
       "        [-1.18098117e-03],\n",
       "        [-1.17798108e-03],\n",
       "        [-1.17232059e-03],\n",
       "        [-1.16398760e-03],\n",
       "        [-1.15785237e-03],\n",
       "        [-1.14866694e-03],\n",
       "        [-1.14333301e-03],\n",
       "        [-1.14154588e-03],\n",
       "        [-1.13669426e-03],\n",
       "        [-1.13610710e-03],\n",
       "        [-1.10126088e-03],\n",
       "        [-1.09736574e-03],\n",
       "        [-1.09611138e-03],\n",
       "        [-1.09162635e-03],\n",
       "        [-1.08908780e-03],\n",
       "        [-1.08830779e-03],\n",
       "        [-1.08225293e-03],\n",
       "        [-1.08193749e-03],\n",
       "        [-1.07668145e-03],\n",
       "        [-1.07507410e-03],\n",
       "        [-1.07265800e-03],\n",
       "        [-1.06917976e-03],\n",
       "        [-1.06455780e-03],\n",
       "        [-1.06449725e-03],\n",
       "        [-1.05704181e-03],\n",
       "        [-1.05214386e-03],\n",
       "        [-1.04885602e-03],\n",
       "        [-1.04052983e-03],\n",
       "        [-1.03980141e-03],\n",
       "        [-1.03286004e-03],\n",
       "        [-1.02612748e-03],\n",
       "        [-1.02561414e-03],\n",
       "        [-1.00629441e-03],\n",
       "        [-9.89833970e-04],\n",
       "        [-9.77176197e-04],\n",
       "        [-9.74302084e-04],\n",
       "        [-9.68169267e-04],\n",
       "        [-9.39714368e-04],\n",
       "        [-9.29969239e-04],\n",
       "        [-9.27598829e-04],\n",
       "        [-9.26204838e-04],\n",
       "        [-9.26001076e-04],\n",
       "        [-9.19857914e-04],\n",
       "        [-9.14450539e-04],\n",
       "        [-9.13694860e-04],\n",
       "        [-9.03252389e-04],\n",
       "        [-8.97224854e-04],\n",
       "        [-8.95744806e-04],\n",
       "        [-8.92198192e-04],\n",
       "        [-8.79684283e-04],\n",
       "        [-8.77553382e-04],\n",
       "        [-8.77324714e-04],\n",
       "        [-8.76227223e-04],\n",
       "        [-8.69219526e-04],\n",
       "        [-8.67949477e-04],\n",
       "        [-8.65206854e-04],\n",
       "        [-8.59168401e-04],\n",
       "        [-8.55950990e-04],\n",
       "        [-8.54624423e-04],\n",
       "        [-8.54223903e-04],\n",
       "        [-8.41983305e-04],\n",
       "        [-8.30900894e-04],\n",
       "        [-8.26234845e-04],\n",
       "        [-8.13730463e-04],\n",
       "        [-8.11903492e-04],\n",
       "        [-7.97435143e-04],\n",
       "        [-7.88490283e-04],\n",
       "        [-7.86699929e-04],\n",
       "        [-7.81560456e-04],\n",
       "        [-7.80452518e-04],\n",
       "        [-7.66307132e-04],\n",
       "        [-7.64805657e-04],\n",
       "        [-7.63746797e-04],\n",
       "        [-7.56604428e-04],\n",
       "        [-7.54882973e-04],\n",
       "        [-7.52656032e-04],\n",
       "        [-7.51982751e-04],\n",
       "        [-7.51256861e-04],\n",
       "        [-7.46258867e-04],\n",
       "        [-7.38633732e-04],\n",
       "        [-7.38113097e-04],\n",
       "        [-7.35047598e-04],\n",
       "        [-7.32735205e-04],\n",
       "        [-7.31896375e-04],\n",
       "        [-7.28041468e-04],\n",
       "        [-7.26360458e-04],\n",
       "        [-7.21019252e-04],\n",
       "        [-7.20326389e-04],\n",
       "        [-7.18743042e-04],\n",
       "        [-7.06565892e-04],\n",
       "        [-6.98691339e-04],\n",
       "        [-6.98628423e-04],\n",
       "        [-6.98016815e-04],\n",
       "        [-6.97052719e-04],\n",
       "        [-6.86666018e-04],\n",
       "        [-6.81811260e-04],\n",
       "        [-6.79636131e-04],\n",
       "        [-6.78977055e-04],\n",
       "        [-6.72825291e-04],\n",
       "        [-6.72542647e-04],\n",
       "        [-6.71921714e-04],\n",
       "        [-6.68249374e-04],\n",
       "        [-6.57614490e-04],\n",
       "        [-6.57512544e-04],\n",
       "        [-6.54787915e-04],\n",
       "        [-6.51773652e-04],\n",
       "        [-6.50893646e-04],\n",
       "        [-6.47495374e-04],\n",
       "        [-6.46640488e-04],\n",
       "        [-6.46472134e-04],\n",
       "        [-6.45569612e-04],\n",
       "        [-6.44452117e-04],\n",
       "        [-6.39353130e-04],\n",
       "        [-6.37696504e-04],\n",
       "        [-6.32395161e-04],\n",
       "        [-6.29780073e-04],\n",
       "        [-6.29745607e-04],\n",
       "        [-6.28912353e-04],\n",
       "        [-6.27741660e-04],\n",
       "        [-6.25825609e-04],\n",
       "        [-6.16205382e-04],\n",
       "        [-6.13801100e-04],\n",
       "        [-6.06739855e-04],\n",
       "        [-6.00768512e-04],\n",
       "        [-5.96765624e-04],\n",
       "        [-5.96299060e-04],\n",
       "        [-5.95429656e-04],\n",
       "        [-5.90264155e-04],\n",
       "        [-5.83644444e-04],\n",
       "        [-5.75347006e-04],\n",
       "        [-5.73007150e-04],\n",
       "        [-5.72011890e-04],\n",
       "        [-5.70951978e-04],\n",
       "        [-5.69592793e-04],\n",
       "        [-5.61986706e-04],\n",
       "        [-5.61195268e-04],\n",
       "        [-5.58781793e-04],\n",
       "        [-5.47632918e-04],\n",
       "        [-5.47420082e-04],\n",
       "        [-5.44821946e-04],\n",
       "        [-5.44442621e-04],\n",
       "        [-5.35644827e-04],\n",
       "        [-5.31257423e-04],\n",
       "        [-5.28205471e-04],\n",
       "        [-5.25064589e-04],\n",
       "        [-5.20148546e-04],\n",
       "        [-5.18228867e-04],\n",
       "        [-5.17919744e-04],\n",
       "        [-5.15650656e-04],\n",
       "        [-5.12875079e-04],\n",
       "        [-5.03862535e-04],\n",
       "        [-4.95382337e-04],\n",
       "        [-4.94344683e-04],\n",
       "        [-4.91243104e-04],\n",
       "        [-4.89502192e-04],\n",
       "        [-4.86740484e-04],\n",
       "        [-4.82003754e-04],\n",
       "        [-4.80672074e-04],\n",
       "        [-4.75852294e-04],\n",
       "        [-4.75038447e-04],\n",
       "        [-4.68707811e-04],\n",
       "        [-4.64742193e-04],\n",
       "        [-4.61647990e-04],\n",
       "        [-4.49787947e-04],\n",
       "        [-4.48990925e-04],\n",
       "        [-4.45536531e-04],\n",
       "        [-4.39066168e-04],\n",
       "        [-4.38318889e-04],\n",
       "        [-4.28440406e-04],\n",
       "        [-4.20366335e-04],\n",
       "        [-4.18400704e-04],\n",
       "        [-4.17858199e-04],\n",
       "        [-4.15217121e-04],\n",
       "        [-4.09660975e-04],\n",
       "        [-3.98150750e-04],\n",
       "        [-3.94402691e-04],\n",
       "        [-3.91132888e-04],\n",
       "        [-3.90058264e-04],\n",
       "        [-3.89453619e-04],\n",
       "        [-3.88759710e-04],\n",
       "        [-3.85955167e-04],\n",
       "        [-3.84690960e-04],\n",
       "        [-3.75540120e-04],\n",
       "        [-3.71518839e-04],\n",
       "        [-3.70743666e-04],\n",
       "        [-3.69996455e-04],\n",
       "        [-3.69057611e-04],\n",
       "        [-3.62925903e-04],\n",
       "        [-3.57826500e-04],\n",
       "        [-3.56568030e-04],\n",
       "        [-3.55887433e-04],\n",
       "        [-3.50066314e-04],\n",
       "        [-3.48933695e-04],\n",
       "        [-3.45934796e-04],\n",
       "        [-3.43589699e-04],\n",
       "        [-3.43339826e-04],\n",
       "        [-3.40378108e-04],\n",
       "        [-3.34424399e-04],\n",
       "        [-3.30871651e-04],\n",
       "        [-3.28118027e-04],\n",
       "        [-3.23501195e-04],\n",
       "        [-3.21812021e-04],\n",
       "        [-3.15023478e-04],\n",
       "        [-3.14804547e-04],\n",
       "        [-3.14642185e-04],\n",
       "        [-3.11146984e-04],\n",
       "        [-3.10389814e-04],\n",
       "        [-3.08763540e-04],\n",
       "        [-3.04433850e-04],\n",
       "        [-2.98925285e-04],\n",
       "        [-2.98678663e-04],\n",
       "        [-2.96976938e-04],\n",
       "        [-2.95958510e-04],\n",
       "        [-2.94085310e-04],\n",
       "        [-2.86048203e-04],\n",
       "        [-2.83855959e-04],\n",
       "        [-2.83235097e-04],\n",
       "        [-2.80866434e-04],\n",
       "        [-2.79267333e-04],\n",
       "        [-2.71869194e-04],\n",
       "        [-2.71393770e-04],\n",
       "        [-2.69847756e-04],\n",
       "        [-2.48174212e-04],\n",
       "        [-2.40614333e-04],\n",
       "        [-2.36112696e-04],\n",
       "        [-2.19931691e-04],\n",
       "        [-2.13935469e-04],\n",
       "        [-2.07146626e-04],\n",
       "        [-2.02894644e-04],\n",
       "        [-1.98416779e-04],\n",
       "        [-1.89302640e-04],\n",
       "        [-1.88597781e-04],\n",
       "        [-1.81140432e-04],\n",
       "        [-1.79999336e-04],\n",
       "        [-1.60696038e-04],\n",
       "        [-1.57054446e-04],\n",
       "        [-1.45572827e-04],\n",
       "        [-1.42648579e-04],\n",
       "        [-1.35641877e-04],\n",
       "        [-1.32778214e-04],\n",
       "        [-1.29873598e-04],\n",
       "        [-1.29374535e-04],\n",
       "        [-1.27962012e-04],\n",
       "        [-1.22310968e-04],\n",
       "        [-1.16393754e-04],\n",
       "        [-1.13080937e-04],\n",
       "        [-1.05318499e-04],\n",
       "        [-1.00869193e-04],\n",
       "        [-9.75964062e-05],\n",
       "        [-7.28578150e-05],\n",
       "        [-6.99788861e-05],\n",
       "        [-6.39327884e-05],\n",
       "        [-6.37611041e-05],\n",
       "        [-6.21207274e-05],\n",
       "        [-5.20162409e-05],\n",
       "        [-4.35275090e-05],\n",
       "        [-4.10824952e-05],\n",
       "        [-3.38838220e-05],\n",
       "        [-1.99611273e-05],\n",
       "        [-9.29093999e-06],\n",
       "        [-7.47091859e-06],\n",
       "        [-4.42691625e-06],\n",
       "        [-3.61088723e-06],\n",
       "        [ 9.07358903e-06],\n",
       "        [ 1.59423860e-05],\n",
       "        [ 1.74492190e-05],\n",
       "        [ 2.86934865e-05],\n",
       "        [ 3.29887269e-05],\n",
       "        [ 3.93331042e-05],\n",
       "        [ 4.22484286e-05],\n",
       "        [ 5.96937004e-05],\n",
       "        [ 6.77442277e-05],\n",
       "        [ 7.46718250e-05],\n",
       "        [ 8.84184132e-05],\n",
       "        [ 9.47012053e-05],\n",
       "        [ 9.49982100e-05],\n",
       "        [ 1.00884842e-04],\n",
       "        [ 1.13681642e-04],\n",
       "        [ 1.14257080e-04],\n",
       "        [ 1.24700354e-04],\n",
       "        [ 1.30181198e-04],\n",
       "        [ 1.42178974e-04],\n",
       "        [ 1.43052312e-04],\n",
       "        [ 1.75852690e-04],\n",
       "        [ 1.81483181e-04],\n",
       "        [ 1.93600866e-04],\n",
       "        [ 1.96415378e-04],\n",
       "        [ 1.96960292e-04],\n",
       "        [ 2.16237832e-04],\n",
       "        [ 2.17071477e-04],\n",
       "        [ 2.18816048e-04],\n",
       "        [ 2.27900839e-04],\n",
       "        [ 2.30738221e-04],\n",
       "        [ 2.33798189e-04],\n",
       "        [ 2.67356040e-04],\n",
       "        [ 2.82900356e-04],\n",
       "        [ 3.09797540e-04],\n",
       "        [ 3.12736988e-04],\n",
       "        [ 3.73694257e-04],\n",
       "        [ 4.28605741e-04],\n",
       "        [ 4.62404785e-04],\n",
       "        [ 5.73216685e-04],\n",
       "        [ 8.94437864e-04]]),\n",
       " array([[-18.25595017],\n",
       "        [-15.89008937],\n",
       "        [-16.71693232],\n",
       "        [-16.15667968],\n",
       "        [-15.14881843],\n",
       "        [-14.77698021],\n",
       "        [-14.99492285],\n",
       "        [-13.02622007],\n",
       "        [-12.79758849],\n",
       "        [-15.97273589],\n",
       "        [-20.22707538],\n",
       "        [-13.45149606],\n",
       "        [-11.44395427],\n",
       "        [-17.23090559],\n",
       "        [-13.68833468],\n",
       "        [-14.14724417],\n",
       "        [-13.98828008],\n",
       "        [-10.18485259],\n",
       "        [-16.27991967],\n",
       "        [-12.13380743],\n",
       "        [-12.61550747],\n",
       "        [-13.59924447],\n",
       "        [-10.48124397],\n",
       "        [ -8.95925662],\n",
       "        [-10.90058993],\n",
       "        [-10.74925762],\n",
       "        [-13.8616286 ],\n",
       "        [-11.13998602],\n",
       "        [-11.689623  ],\n",
       "        [-13.47622576],\n",
       "        [-10.44663076],\n",
       "        [-14.82384856],\n",
       "        [-13.70110846],\n",
       "        [-10.79469349],\n",
       "        [-10.34571826],\n",
       "        [-17.48860169],\n",
       "        [ -7.33923694],\n",
       "        [ -9.11177136],\n",
       "        [-13.84854917],\n",
       "        [-10.49355156],\n",
       "        [ -8.61701573],\n",
       "        [-13.47343254],\n",
       "        [-12.04640547],\n",
       "        [-11.36470138],\n",
       "        [ -9.0103607 ],\n",
       "        [-11.32998438],\n",
       "        [-11.82831342],\n",
       "        [-12.48821347],\n",
       "        [ -9.71016336],\n",
       "        [-15.21845212],\n",
       "        [-11.71429977],\n",
       "        [ -9.80042499],\n",
       "        [ -7.81594825],\n",
       "        [ -9.43235182],\n",
       "        [ -9.92613769],\n",
       "        [ -9.74449517],\n",
       "        [ -8.45828047],\n",
       "        [-10.88684347],\n",
       "        [ -8.69665606],\n",
       "        [-12.4800808 ],\n",
       "        [ -6.86671667],\n",
       "        [-10.08247872],\n",
       "        [ -9.07550211],\n",
       "        [-11.0614256 ],\n",
       "        [ -8.94258152],\n",
       "        [ -9.43976941],\n",
       "        [-10.81948168],\n",
       "        [ -7.89064395],\n",
       "        [ -9.45724444],\n",
       "        [ -9.3923398 ],\n",
       "        [-10.55644735],\n",
       "        [ -8.63610248],\n",
       "        [ -6.71624683],\n",
       "        [-11.17482622],\n",
       "        [ -7.92063127],\n",
       "        [-11.7802109 ],\n",
       "        [ -8.56086579],\n",
       "        [-10.31837715],\n",
       "        [ -9.36421296],\n",
       "        [ -6.9004594 ],\n",
       "        [ -8.33230764],\n",
       "        [ -9.4854263 ],\n",
       "        [-10.32737003],\n",
       "        [ -8.55137713],\n",
       "        [ -9.00701614],\n",
       "        [ -8.44594789],\n",
       "        [-12.27578508],\n",
       "        [-11.00208065],\n",
       "        [ -7.91324381],\n",
       "        [-11.13648833],\n",
       "        [ -7.62062981],\n",
       "        [-10.50146524],\n",
       "        [ -6.68169388],\n",
       "        [ -8.40359512],\n",
       "        [ -7.99573812],\n",
       "        [ -9.36682605],\n",
       "        [ -8.52519192],\n",
       "        [-10.97678481],\n",
       "        [ -7.8740434 ],\n",
       "        [ -7.73376967],\n",
       "        [ -8.61468805],\n",
       "        [ -8.77120931],\n",
       "        [ -8.20817712],\n",
       "        [ -7.16697106],\n",
       "        [ -5.3732429 ],\n",
       "        [ -7.39356824],\n",
       "        [ -9.80912294],\n",
       "        [ -9.11744153],\n",
       "        [ -6.66691086],\n",
       "        [ -6.78900367],\n",
       "        [ -9.71901688],\n",
       "        [ -9.15540114],\n",
       "        [ -6.35725333],\n",
       "        [ -8.76510118],\n",
       "        [ -6.45567376],\n",
       "        [ -7.13965071],\n",
       "        [ -7.90543518],\n",
       "        [ -4.66502547],\n",
       "        [ -8.1760073 ],\n",
       "        [ -6.80616295],\n",
       "        [ -5.8080165 ],\n",
       "        [ -6.9418301 ],\n",
       "        [ -7.12859851],\n",
       "        [ -6.21205122],\n",
       "        [ -6.82417992],\n",
       "        [ -6.40286416],\n",
       "        [ -6.02214325],\n",
       "        [ -6.85168313],\n",
       "        [ -9.84636132],\n",
       "        [ -6.45644935],\n",
       "        [ -6.08915022],\n",
       "        [ -6.03467797],\n",
       "        [ -5.13126628],\n",
       "        [ -7.50016308],\n",
       "        [ -6.33707154],\n",
       "        [ -5.50772902],\n",
       "        [ -5.8342023 ],\n",
       "        [ -5.49014526],\n",
       "        [ -5.61378868],\n",
       "        [ -9.02358733],\n",
       "        [ -6.42074643],\n",
       "        [ -5.13970025],\n",
       "        [ -6.5325204 ],\n",
       "        [ -5.91081236],\n",
       "        [ -6.20252228],\n",
       "        [ -8.7762174 ],\n",
       "        [ -5.91930189],\n",
       "        [ -5.38081287],\n",
       "        [ -6.13392391],\n",
       "        [ -5.02060871],\n",
       "        [ -5.54624348],\n",
       "        [ -5.23079469],\n",
       "        [ -5.60433592],\n",
       "        [ -5.39336506],\n",
       "        [ -6.08602232],\n",
       "        [ -8.19514868],\n",
       "        [ -6.87462892],\n",
       "        [ -4.79798098],\n",
       "        [ -5.09330869],\n",
       "        [ -6.04880169],\n",
       "        [ -5.41084665],\n",
       "        [ -5.53065066],\n",
       "        [ -6.25012164],\n",
       "        [ -4.21103835],\n",
       "        [ -4.62459553],\n",
       "        [ -6.48768035],\n",
       "        [ -4.12799005],\n",
       "        [ -4.4202406 ],\n",
       "        [ -5.44857116],\n",
       "        [ -5.40410631],\n",
       "        [ -5.8562632 ],\n",
       "        [ -3.93086083],\n",
       "        [ -5.03206331],\n",
       "        [ -5.34606093],\n",
       "        [ -4.76087659],\n",
       "        [ -5.02324993],\n",
       "        [ -4.98122852],\n",
       "        [ -6.09388449],\n",
       "        [ -5.09203235],\n",
       "        [ -5.84940799],\n",
       "        [ -4.61505643],\n",
       "        [ -5.27283938],\n",
       "        [ -3.52328521],\n",
       "        [ -5.07625882],\n",
       "        [ -4.61248265],\n",
       "        [ -4.23841838],\n",
       "        [ -6.43557112],\n",
       "        [ -6.90358492],\n",
       "        [ -4.671763  ],\n",
       "        [ -4.48969364],\n",
       "        [ -4.58946301],\n",
       "        [ -4.63562107],\n",
       "        [ -3.50810086],\n",
       "        [ -5.35018402],\n",
       "        [ -4.48255474],\n",
       "        [ -4.02044928],\n",
       "        [ -4.22878311],\n",
       "        [ -5.09161164],\n",
       "        [ -3.15708786],\n",
       "        [ -3.79361757],\n",
       "        [ -3.07291393],\n",
       "        [ -4.55479521],\n",
       "        [ -3.87236528],\n",
       "        [ -5.22176777],\n",
       "        [ -4.12216788],\n",
       "        [ -4.66454878],\n",
       "        [ -3.32730797],\n",
       "        [ -4.0512918 ],\n",
       "        [ -4.4353352 ],\n",
       "        [ -6.14640379],\n",
       "        [ -3.44854191],\n",
       "        [ -3.55496866],\n",
       "        [ -4.69400724],\n",
       "        [ -3.43960797],\n",
       "        [ -4.59886022],\n",
       "        [ -3.67958339],\n",
       "        [ -3.71370225],\n",
       "        [ -2.93108318],\n",
       "        [ -3.79200056],\n",
       "        [ -5.14608075],\n",
       "        [ -3.87347838],\n",
       "        [ -3.09829825],\n",
       "        [ -4.04715944],\n",
       "        [ -2.43189708],\n",
       "        [ -2.72252929],\n",
       "        [ -4.74054971],\n",
       "        [ -3.37701677],\n",
       "        [ -3.74286805],\n",
       "        [ -4.15014141],\n",
       "        [ -4.55049484],\n",
       "        [ -2.41273896],\n",
       "        [ -3.44282762],\n",
       "        [ -2.55384739],\n",
       "        [ -3.02123332],\n",
       "        [ -3.12934454],\n",
       "        [ -3.25255019],\n",
       "        [ -3.27351039],\n",
       "        [ -2.65196104],\n",
       "        [ -3.14871798],\n",
       "        [ -2.74977259],\n",
       "        [ -2.19783086],\n",
       "        [ -2.5879192 ],\n",
       "        [ -2.97037254],\n",
       "        [ -2.55578362],\n",
       "        [ -1.98406652],\n",
       "        [ -2.29274537],\n",
       "        [ -2.23630922],\n",
       "        [ -2.57964794],\n",
       "        [ -1.91977744],\n",
       "        [ -2.39079665],\n",
       "        [ -1.91139253],\n",
       "        [ -2.10541348],\n",
       "        [ -1.66987181],\n",
       "        [ -2.26125317],\n",
       "        [ -2.30770402],\n",
       "        [ -1.80098492],\n",
       "        [ -2.12916216],\n",
       "        [ -1.92879557],\n",
       "        [ -1.88338006],\n",
       "        [ -1.59189829],\n",
       "        [ -1.85808896],\n",
       "        [ -1.36650868],\n",
       "        [ -1.12215089],\n",
       "        [ -1.13248034],\n",
       "        [ -1.3402789 ],\n",
       "        [ -0.89125505],\n",
       "        [ -1.06923241],\n",
       "        [ -1.40963551],\n",
       "        [ -1.29637444],\n",
       "        [ -1.60213783],\n",
       "        [ -0.94282752],\n",
       "        [ -1.0347112 ],\n",
       "        [ -1.08912445],\n",
       "        [ -1.1120628 ],\n",
       "        [ -1.03069593],\n",
       "        [ -0.61243065],\n",
       "        [ -0.63282563],\n",
       "        [ -0.65114484],\n",
       "        [ -0.62302458],\n",
       "        [ -0.58421404],\n",
       "        [ -0.38388585],\n",
       "        [ -0.40793789],\n",
       "        [ -0.47608559],\n",
       "        [ -0.16852803],\n",
       "        [ -0.08068098],\n",
       "        [ -0.06430609],\n",
       "        [ -0.03946677],\n",
       "        [ -0.03752454],\n",
       "        [  0.11500188],\n",
       "        [  0.21745763],\n",
       "        [  0.21566683],\n",
       "        [  0.3603579 ],\n",
       "        [  0.27301631],\n",
       "        [  0.53321249],\n",
       "        [  0.54605036],\n",
       "        [  0.6545441 ],\n",
       "        [  0.91506203],\n",
       "        [  0.69020898],\n",
       "        [  0.98144224],\n",
       "        [  0.9104069 ],\n",
       "        [  0.89956215],\n",
       "        [  0.94575925],\n",
       "        [  1.28043674],\n",
       "        [  1.00663557],\n",
       "        [  1.12391096],\n",
       "        [  1.45693098],\n",
       "        [  1.37093896],\n",
       "        [  1.37935783],\n",
       "        [  1.71756807],\n",
       "        [  2.07830957],\n",
       "        [  2.83375442],\n",
       "        [  2.7286874 ],\n",
       "        [  1.84913037],\n",
       "        [  1.98019169],\n",
       "        [  2.44017885],\n",
       "        [  2.49054314],\n",
       "        [  2.10077414],\n",
       "        [  2.70174018],\n",
       "        [  2.42367891],\n",
       "        [  2.69942706],\n",
       "        [  2.40376485],\n",
       "        [  2.55333985],\n",
       "        [  3.11587858],\n",
       "        [  4.60024554],\n",
       "        [  3.70506819],\n",
       "        [  4.60331198],\n",
       "        [  5.27360419],\n",
       "        [  8.5777126 ]])]"
      ]
     },
     "execution_count": 551,
     "metadata": {},
     "output_type": "execute_result"
    }
   ],
   "source": [
    "f_list"
   ]
  },
  {
   "cell_type": "code",
   "execution_count": 546,
   "metadata": {},
   "outputs": [],
   "source": [
    "test = np.random.randn(5, 1000)"
   ]
  },
  {
   "cell_type": "code",
   "execution_count": 549,
   "metadata": {},
   "outputs": [
    {
     "data": {
      "text/plain": [
       "1000"
      ]
     },
     "execution_count": 549,
     "metadata": {},
     "output_type": "execute_result"
    }
   ],
   "source": [
    "test.shape[1]"
   ]
  },
  {
   "cell_type": "code",
   "execution_count": null,
   "metadata": {},
   "outputs": [],
   "source": []
  }
 ],
 "metadata": {
  "kernelspec": {
   "display_name": "Python 3",
   "language": "python",
   "name": "python3"
  },
  "language_info": {
   "codemirror_mode": {
    "name": "ipython",
    "version": 3
   },
   "file_extension": ".py",
   "mimetype": "text/x-python",
   "name": "python",
   "nbconvert_exporter": "python",
   "pygments_lexer": "ipython3",
   "version": "3.8.8"
  }
 },
 "nbformat": 4,
 "nbformat_minor": 4
}
