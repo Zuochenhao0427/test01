{
 "cells": [
  {
   "cell_type": "markdown",
   "id": "51386e16",
   "metadata": {},
   "source": [
    "环境设定"
   ]
  },
  {
   "cell_type": "code",
   "execution_count": 1,
   "id": "4cd340e8",
   "metadata": {},
   "outputs": [],
   "source": [
    "import pandas as pd\n",
    "import numpy as np\n",
    "import statsmodels.api as sm\n",
    "import matplotlib.pyplot as plt\n",
    "from sklearn.utils import resample\n",
    "import datetime\n",
    "from datetime import datetime"
   ]
  },
  {
   "cell_type": "markdown",
   "id": "056896cd",
   "metadata": {},
   "source": [
    "数据导入"
   ]
  },
  {
   "cell_type": "code",
   "execution_count": 2,
   "id": "7196462a",
   "metadata": {},
   "outputs": [],
   "source": [
    "# 基金数据导入\n",
    "funds = pd.read_csv('funds_data.csv')\n",
    "# Cahart模型因子数据导入\n",
    "cahart = pd.read_csv('fivefactor_weekly.csv')"
   ]
  },
  {
   "cell_type": "markdown",
   "id": "24a2195e",
   "metadata": {},
   "source": [
    "数据调整"
   ]
  },
  {
   "cell_type": "code",
   "execution_count": 3,
   "id": "2e278b1a",
   "metadata": {},
   "outputs": [],
   "source": [
    "# 时间类数据格式调整\n",
    "funds['时间'] = pd.to_datetime(funds['时间'], format='%Y-%m-%d')\n",
    "cahart['trdwk'] = pd.to_datetime(cahart['trdwk'], format='%Y-%m-%d')"
   ]
  },
  {
   "cell_type": "code",
   "execution_count": 4,
   "id": "3f96746e",
   "metadata": {},
   "outputs": [],
   "source": [
    "# 基金回报率计算\n",
    "funds['单位净值(初)']=funds.groupby('代码')['周单位净值(元)'].shift(1)\n",
    "funds['净回报率'] = funds['周单位净值(元)']/funds['单位净值(初)'] - 1"
   ]
  },
  {
   "cell_type": "code",
   "execution_count": 5,
   "id": "b305c8ba",
   "metadata": {},
   "outputs": [],
   "source": [
    "# 取Cahart模型所需因子：市场风险因子（mkt_rf）、规模风险因子（smb）、账面市值比风险因子（hml）、\\\n",
    "#                    惯性/动量因子（umd）及无风险利率（rf）\n",
    "c1 = cahart[(cahart['trdwk']>=\"2005-01-07\")&(cahart['trdwk']<=\"2018-12-28\")]\n",
    "c2 = c1[['trdwk','mkt_rf','smb','hml','umd','rf']]\n",
    "# 取基金净值有效时间段内数据\n",
    "f = funds[(funds['时间']>='2005-01-07')&(funds['时间']<='2018-12-28')]\n",
    "f = f.rename(columns = {'时间': 'trdwk'})\n",
    "# 合并因子与基金净值\n",
    "cmodel = pd.merge(f, c2, how='left', on='trdwk')"
   ]
  },
  {
   "cell_type": "code",
   "execution_count": 6,
   "id": "5885881e",
   "metadata": {},
   "outputs": [],
   "source": [
    "# 处理缺失值： 用上一个非缺失值填补\n",
    "cmodel = cmodel.fillna(method='ffill')"
   ]
  },
  {
   "cell_type": "code",
   "execution_count": 7,
   "id": "0720dd01",
   "metadata": {},
   "outputs": [],
   "source": [
    "# 调整合并后数据列名\n",
    "cmodel = cmodel.drop(columns = ['周单位净值(元)', '单位净值(初)'])\n",
    "cmodel = cmodel.rename(columns = {'代码': 'code', '简称': 'name', '净回报率': 'ri'})"
   ]
  },
  {
   "cell_type": "code",
   "execution_count": 8,
   "id": "9ced8e10",
   "metadata": {},
   "outputs": [
    {
     "data": {
      "text/html": [
       "<div>\n",
       "<style scoped>\n",
       "    .dataframe tbody tr th:only-of-type {\n",
       "        vertical-align: middle;\n",
       "    }\n",
       "\n",
       "    .dataframe tbody tr th {\n",
       "        vertical-align: top;\n",
       "    }\n",
       "\n",
       "    .dataframe thead th {\n",
       "        text-align: right;\n",
       "    }\n",
       "</style>\n",
       "<table border=\"1\" class=\"dataframe\">\n",
       "  <thead>\n",
       "    <tr style=\"text-align: right;\">\n",
       "      <th></th>\n",
       "      <th>code</th>\n",
       "      <th>name</th>\n",
       "      <th>trdwk</th>\n",
       "      <th>ri</th>\n",
       "      <th>mkt_rf</th>\n",
       "      <th>smb</th>\n",
       "      <th>hml</th>\n",
       "      <th>umd</th>\n",
       "      <th>rf</th>\n",
       "    </tr>\n",
       "  </thead>\n",
       "  <tbody>\n",
       "    <tr>\n",
       "      <th>0</th>\n",
       "      <td>510050.OF</td>\n",
       "      <td>50ETF</td>\n",
       "      <td>2005-01-07</td>\n",
       "      <td>-0.015060</td>\n",
       "      <td>-0.009569</td>\n",
       "      <td>0.016692</td>\n",
       "      <td>-0.001600</td>\n",
       "      <td>-0.026043</td>\n",
       "      <td>0.000428</td>\n",
       "    </tr>\n",
       "    <tr>\n",
       "      <th>1</th>\n",
       "      <td>510050.OF</td>\n",
       "      <td>50ETF</td>\n",
       "      <td>2005-01-14</td>\n",
       "      <td>0.002039</td>\n",
       "      <td>0.002330</td>\n",
       "      <td>0.006033</td>\n",
       "      <td>0.002732</td>\n",
       "      <td>-0.003396</td>\n",
       "      <td>0.000428</td>\n",
       "    </tr>\n",
       "    <tr>\n",
       "      <th>2</th>\n",
       "      <td>510050.OF</td>\n",
       "      <td>50ETF</td>\n",
       "      <td>2005-01-21</td>\n",
       "      <td>0.005086</td>\n",
       "      <td>-0.008801</td>\n",
       "      <td>0.004323</td>\n",
       "      <td>0.002299</td>\n",
       "      <td>-0.018932</td>\n",
       "      <td>0.000428</td>\n",
       "    </tr>\n",
       "    <tr>\n",
       "      <th>3</th>\n",
       "      <td>510050.OF</td>\n",
       "      <td>50ETF</td>\n",
       "      <td>2005-01-28</td>\n",
       "      <td>-0.012146</td>\n",
       "      <td>-0.022081</td>\n",
       "      <td>-0.017804</td>\n",
       "      <td>-0.002866</td>\n",
       "      <td>0.034744</td>\n",
       "      <td>0.000428</td>\n",
       "    </tr>\n",
       "    <tr>\n",
       "      <th>4</th>\n",
       "      <td>510050.OF</td>\n",
       "      <td>50ETF</td>\n",
       "      <td>2005-02-04</td>\n",
       "      <td>-0.105533</td>\n",
       "      <td>0.027939</td>\n",
       "      <td>-0.046164</td>\n",
       "      <td>0.001879</td>\n",
       "      <td>0.039884</td>\n",
       "      <td>0.000428</td>\n",
       "    </tr>\n",
       "  </tbody>\n",
       "</table>\n",
       "</div>"
      ],
      "text/plain": [
       "        code   name      trdwk        ri    mkt_rf       smb       hml  \\\n",
       "0  510050.OF  50ETF 2005-01-07 -0.015060 -0.009569  0.016692 -0.001600   \n",
       "1  510050.OF  50ETF 2005-01-14  0.002039  0.002330  0.006033  0.002732   \n",
       "2  510050.OF  50ETF 2005-01-21  0.005086 -0.008801  0.004323  0.002299   \n",
       "3  510050.OF  50ETF 2005-01-28 -0.012146 -0.022081 -0.017804 -0.002866   \n",
       "4  510050.OF  50ETF 2005-02-04 -0.105533  0.027939 -0.046164  0.001879   \n",
       "\n",
       "        umd        rf  \n",
       "0 -0.026043  0.000428  \n",
       "1 -0.003396  0.000428  \n",
       "2 -0.018932  0.000428  \n",
       "3  0.034744  0.000428  \n",
       "4  0.039884  0.000428  "
      ]
     },
     "execution_count": 8,
     "metadata": {},
     "output_type": "execute_result"
    }
   ],
   "source": [
    "cmodel.head()"
   ]
  },
  {
   "cell_type": "markdown",
   "id": "d0ed1e3d",
   "metadata": {},
   "source": [
    "计算基金池内各基金真实Alpha的估计值并排序（使用Cahart四因子OLS回归模型）"
   ]
  },
  {
   "cell_type": "code",
   "execution_count": 9,
   "id": "537a549f",
   "metadata": {},
   "outputs": [],
   "source": [
    "funds_list = cmodel.code.unique() # 基金清单"
   ]
  },
  {
   "cell_type": "code",
   "execution_count": 10,
   "id": "278e9f3d",
   "metadata": {},
   "outputs": [],
   "source": [
    "alpha = []\n",
    "ta = []\n",
    "\n",
    "for fund in funds_list:\n",
    "    tmp_f = cmodel[cmodel['code'] == fund].reset_index(drop=True)\n",
    "    X = tmp_f.loc[:, 'mkt_rf':'umd']\n",
    "    Y = tmp_f.ri - tmp_f.rf\n",
    "    \n",
    "    true_ols = sm.OLS(Y, sm.add_constant(X)).fit()\n",
    "    alpha_i = true_ols.params[0]\n",
    "    ta_i = true_ols.tvalues[0]\n",
    "    \n",
    "    alpha.append(alpha_i) # 每只基金的真实Alpha(使用OLS回归后的估计值)\n",
    "    ta.append(ta_i) # Alpha估计值的t-value"
   ]
  },
  {
   "cell_type": "code",
   "execution_count": 11,
   "id": "fc7620e4",
   "metadata": {},
   "outputs": [
    {
     "name": "stdout",
     "output_type": "stream",
     "text": [
      "alpha: [0.0007632565614886969, -0.0008554388280237516, -0.0010060216375671872, 0.00578850129619422, 0.006753065490592524] \n",
      " ta: [1.2051567717981015, -1.3967463701635694, -1.1266762499223177, 0.9316754271468579, 1.2491767356564019]\n"
     ]
    }
   ],
   "source": [
    "print(\"alpha:\", alpha[:5],\"\\n\",\"ta:\",ta[:5])"
   ]
  },
  {
   "cell_type": "markdown",
   "id": "524b6be6",
   "metadata": {},
   "source": [
    "## Fama&French模型（6.18 - 6.24）\n",
    "\n",
    "Fama&French模拟回报率伪时间序列的方式与Kosowsk模型略有不同，主要步骤如下；\n",
    "1. 计算所有基金真实alpha的估计值(已计算)\n",
    "2. 使用F&F公式计算单支基金的伪回报率；***伪回报率R`=真实回报率R - 真实alpha的估计值***\n",
    "3. 对基金按月份分组，Bootstrap月数据，模拟伪回报率的时间序列，这种方法保留了周数据中基金组的截面数据\n",
    "4. 对单支基金伪回报率的伪时间序列做Cahart OLS回归，得到单支基金伪alpha\n",
    "5. 排序所有基金的伪alpha"
   ]
  },
  {
   "cell_type": "code",
   "execution_count": 12,
   "id": "69e30b7f",
   "metadata": {},
   "outputs": [
    {
     "data": {
      "text/html": [
       "<div>\n",
       "<style scoped>\n",
       "    .dataframe tbody tr th:only-of-type {\n",
       "        vertical-align: middle;\n",
       "    }\n",
       "\n",
       "    .dataframe tbody tr th {\n",
       "        vertical-align: top;\n",
       "    }\n",
       "\n",
       "    .dataframe thead th {\n",
       "        text-align: right;\n",
       "    }\n",
       "</style>\n",
       "<table border=\"1\" class=\"dataframe\">\n",
       "  <thead>\n",
       "    <tr style=\"text-align: right;\">\n",
       "      <th></th>\n",
       "      <th>code</th>\n",
       "      <th>name</th>\n",
       "      <th>trdwk</th>\n",
       "      <th>ri</th>\n",
       "      <th>mkt_rf</th>\n",
       "      <th>smb</th>\n",
       "      <th>hml</th>\n",
       "      <th>umd</th>\n",
       "      <th>rf</th>\n",
       "      <th>alpha</th>\n",
       "      <th>ta</th>\n",
       "      <th>fk_r</th>\n",
       "    </tr>\n",
       "  </thead>\n",
       "  <tbody>\n",
       "    <tr>\n",
       "      <th>0</th>\n",
       "      <td>510050.OF</td>\n",
       "      <td>50ETF</td>\n",
       "      <td>2005-01-07</td>\n",
       "      <td>-0.015060</td>\n",
       "      <td>-0.009569</td>\n",
       "      <td>0.016692</td>\n",
       "      <td>-0.001600</td>\n",
       "      <td>-0.026043</td>\n",
       "      <td>0.000428</td>\n",
       "      <td>0.000763</td>\n",
       "      <td>1.205157</td>\n",
       "      <td>-0.015823</td>\n",
       "    </tr>\n",
       "    <tr>\n",
       "      <th>1</th>\n",
       "      <td>510050.OF</td>\n",
       "      <td>50ETF</td>\n",
       "      <td>2005-01-14</td>\n",
       "      <td>0.002039</td>\n",
       "      <td>0.002330</td>\n",
       "      <td>0.006033</td>\n",
       "      <td>0.002732</td>\n",
       "      <td>-0.003396</td>\n",
       "      <td>0.000428</td>\n",
       "      <td>0.000763</td>\n",
       "      <td>1.205157</td>\n",
       "      <td>0.001275</td>\n",
       "    </tr>\n",
       "    <tr>\n",
       "      <th>2</th>\n",
       "      <td>510050.OF</td>\n",
       "      <td>50ETF</td>\n",
       "      <td>2005-01-21</td>\n",
       "      <td>0.005086</td>\n",
       "      <td>-0.008801</td>\n",
       "      <td>0.004323</td>\n",
       "      <td>0.002299</td>\n",
       "      <td>-0.018932</td>\n",
       "      <td>0.000428</td>\n",
       "      <td>0.000763</td>\n",
       "      <td>1.205157</td>\n",
       "      <td>0.004323</td>\n",
       "    </tr>\n",
       "    <tr>\n",
       "      <th>3</th>\n",
       "      <td>510050.OF</td>\n",
       "      <td>50ETF</td>\n",
       "      <td>2005-01-28</td>\n",
       "      <td>-0.012146</td>\n",
       "      <td>-0.022081</td>\n",
       "      <td>-0.017804</td>\n",
       "      <td>-0.002866</td>\n",
       "      <td>0.034744</td>\n",
       "      <td>0.000428</td>\n",
       "      <td>0.000763</td>\n",
       "      <td>1.205157</td>\n",
       "      <td>-0.012909</td>\n",
       "    </tr>\n",
       "    <tr>\n",
       "      <th>4</th>\n",
       "      <td>510050.OF</td>\n",
       "      <td>50ETF</td>\n",
       "      <td>2005-02-04</td>\n",
       "      <td>-0.105533</td>\n",
       "      <td>0.027939</td>\n",
       "      <td>-0.046164</td>\n",
       "      <td>0.001879</td>\n",
       "      <td>0.039884</td>\n",
       "      <td>0.000428</td>\n",
       "      <td>0.000763</td>\n",
       "      <td>1.205157</td>\n",
       "      <td>-0.106296</td>\n",
       "    </tr>\n",
       "  </tbody>\n",
       "</table>\n",
       "</div>"
      ],
      "text/plain": [
       "        code   name      trdwk        ri    mkt_rf       smb       hml  \\\n",
       "0  510050.OF  50ETF 2005-01-07 -0.015060 -0.009569  0.016692 -0.001600   \n",
       "1  510050.OF  50ETF 2005-01-14  0.002039  0.002330  0.006033  0.002732   \n",
       "2  510050.OF  50ETF 2005-01-21  0.005086 -0.008801  0.004323  0.002299   \n",
       "3  510050.OF  50ETF 2005-01-28 -0.012146 -0.022081 -0.017804 -0.002866   \n",
       "4  510050.OF  50ETF 2005-02-04 -0.105533  0.027939 -0.046164  0.001879   \n",
       "\n",
       "        umd        rf     alpha        ta      fk_r  \n",
       "0 -0.026043  0.000428  0.000763  1.205157 -0.015823  \n",
       "1 -0.003396  0.000428  0.000763  1.205157  0.001275  \n",
       "2 -0.018932  0.000428  0.000763  1.205157  0.004323  \n",
       "3  0.034744  0.000428  0.000763  1.205157 -0.012909  \n",
       "4  0.039884  0.000428  0.000763  1.205157 -0.106296  "
      ]
     },
     "execution_count": 12,
     "metadata": {},
     "output_type": "execute_result"
    }
   ],
   "source": [
    "funds_list\n",
    "alpha = np.array(alpha).reshape(328,) # 调整alpha和ta的数列构造\n",
    "ta = np.array(ta).reshape(328,)\n",
    "\n",
    "# 转换成数据表格\n",
    "df ={'code':funds_list, 'alpha':alpha, 'ta':ta }\n",
    "df = pd.DataFrame(df)\n",
    "\n",
    "# 与cahart四因子数据合并\n",
    "fmodel = pd.merge(cmodel, df, on='code')\n",
    "\n",
    "# 计算基金的伪回报率\n",
    "fmodel['fk_r'] = fmodel['ri'] - fmodel['alpha']\n",
    "fmodel.head(5)"
   ]
  },
  {
   "cell_type": "markdown",
   "id": "c61f37ef",
   "metadata": {},
   "source": [
    "对基金按月份分组，Bootstrap月数据\n",
    "1. 取基金代码、数据时间戳、伪回报列，按时间戳列出所有基金时间点上的伪回报（窄表转宽表）"
   ]
  },
  {
   "cell_type": "code",
   "execution_count": 13,
   "id": "d4b87d37",
   "metadata": {},
   "outputs": [],
   "source": [
    "def long_to_wide_f(fk_r_df):\n",
    "    # 保留原始时序标签\n",
    "    time = pd.DataFrame(fk_r_df['trdwk'].unique()).sort_values(by=0).reset_index(drop=True) \n",
    "\n",
    "    # 行-时间，列-所有基金，单元格表示一只基金在一个时间点的伪回报率（回报减去alpha）\n",
    "    f_spl = fk_r_df.pivot_table(index='trdwk',\n",
    "                                columns = 'code',\n",
    "                                values = 'fk_r') \n",
    "\n",
    "    # 去掉宽表中的多层索引\n",
    "    f_spl1 = np.array(f_spl)\n",
    "    columns = f_spl.columns.values\n",
    "    f_spl_df = pd.DataFrame(f_spl1, columns = columns).fillna(0) # 补足某些基金在早期时间点上的NaN\n",
    "    \n",
    "    return (f_spl_df,time)"
   ]
  },
  {
   "cell_type": "code",
   "execution_count": 14,
   "id": "78f201f8",
   "metadata": {
    "scrolled": true
   },
   "outputs": [],
   "source": [
    "fmodel_1 = fmodel[['trdwk','code','fk_r']]\n",
    "f_spl_df = long_to_wide_f(fmodel_1)"
   ]
  },
  {
   "cell_type": "code",
   "execution_count": 15,
   "id": "68ba995b",
   "metadata": {},
   "outputs": [
    {
     "data": {
      "text/plain": [
       "(715, 328)"
      ]
     },
     "execution_count": 15,
     "metadata": {},
     "output_type": "execute_result"
    }
   ],
   "source": [
    "f_spl_df[0].shape"
   ]
  },
  {
   "cell_type": "markdown",
   "id": "c31938ce",
   "metadata": {},
   "source": [
    "2. 按时间戳index进行抽样(已将时间戳由日期转为int1-713)"
   ]
  },
  {
   "cell_type": "code",
   "execution_count": 16,
   "id": "4a2573d5",
   "metadata": {},
   "outputs": [],
   "source": [
    "# 时间戳index抽样1000次（nb = 1000）\n",
    "def f_sampling(f_spl_df):\n",
    "    f_series=pd.Series(range(len(f_spl_df[0])))\n",
    "    tseries = importr('tseries')\n",
    "    #tsbootstrap = robjects.r['tsbootstrap']()\n",
    "    spl_f = tseries.tsbootstrap(f_series, nb = 1000, m = 1)\n",
    "    spl_f0 = np.array(spl_f) # (715,1000)\n",
    "    spl_f1 = spl_f0.T # 转置为（1000，715）\n",
    "    \n",
    "    return spl_n1"
   ]
  },
  {
   "cell_type": "markdown",
   "id": "cdd44082",
   "metadata": {},
   "source": [
    "3. 按每一次抽样时间戳制作伪时间序列，和真实时间轴上的Cahart四因子按按时间索引进行合并"
   ]
  },
  {
   "cell_type": "code",
   "execution_count": 17,
   "id": "acc93152",
   "metadata": {},
   "outputs": [],
   "source": [
    "# 工具1：宽表变窄表\n",
    "def f_ols_caculator(df_wide, time, c_factors):\n",
    "    \n",
    "    # 宽表加上短时间格式的时间戳（由[0,715]变成['2005-1-7', '2018-12-31']）\n",
    "    df_wide0 = pd.merge(df_wide,time,left_index = True,right_index=True).rename(columns = {0:'trdwk'})\n",
    "    \n",
    "    # 与cahart周频四因子数据合并\n",
    "    c_factors.reset_index(drop=True)\n",
    "    df_wide1 = pd.merge(df_wide0, c_factors, how='left', on='trdwk').fillna(method='ffill').set_index('trdwk')\n",
    "\n",
    "    return df_wide1"
   ]
  },
  {
   "cell_type": "code",
   "execution_count": 18,
   "id": "2e2c183b",
   "metadata": {},
   "outputs": [],
   "source": [
    "# 工具2：alpha和t-value数列按alpha值排序\n",
    "def series_manipulator(alpha, ta):\n",
    "    # 将两个List合并到一起，按alpha排序\n",
    "    alpha = np.array(alpha).reshape(len(alpha),1)\n",
    "    ta = np.array(ta).reshape(len(ta),1)\n",
    "\n",
    "    one_fund_array = np.hstack([alpha, ta])\n",
    "    one_fund_array = one_fund_array[np.argsort(one_fund_array[:,0]),:]\n",
    "    \n",
    "    # 将排好序的alpha和其t-value分开，变成两个二维数组\n",
    "    one_fund_list = np.hsplit(one_fund_array,2)\n",
    "    \n",
    "    return one_fund_list  "
   ]
  },
  {
   "cell_type": "markdown",
   "id": "25d915fc",
   "metadata": {},
   "source": [
    "4. 对单支基金伪回报率的伪时间序列做Cahart OLS回归，得到单支基金伪alpha\n",
    "5. 排序所有基金的伪alpha"
   ]
  },
  {
   "cell_type": "code",
   "execution_count": 147,
   "id": "41c9020a",
   "metadata": {},
   "outputs": [
    {
     "ename": "NameError",
     "evalue": "name 'spl_n1' is not defined",
     "output_type": "error",
     "traceback": [
      "\u001b[0;31m---------------------------------------------------------------------------\u001b[0m",
      "\u001b[0;31mNameError\u001b[0m                                 Traceback (most recent call last)",
      "\u001b[0;32m<ipython-input-147-f88a60d27ab8>\u001b[0m in \u001b[0;36m<module>\u001b[0;34m\u001b[0m\n\u001b[1;32m      2\u001b[0m \u001b[0mf_fk_ta_series\u001b[0m \u001b[0;34m=\u001b[0m \u001b[0;34m[\u001b[0m\u001b[0;34m]\u001b[0m\u001b[0;34m\u001b[0m\u001b[0;34m\u001b[0m\u001b[0m\n\u001b[1;32m      3\u001b[0m \u001b[0;34m\u001b[0m\u001b[0m\n\u001b[0;32m----> 4\u001b[0;31m \u001b[0;32mfor\u001b[0m \u001b[0mi\u001b[0m \u001b[0;32min\u001b[0m \u001b[0mspl_n1\u001b[0m\u001b[0;34m:\u001b[0m\u001b[0;34m\u001b[0m\u001b[0;34m\u001b[0m\u001b[0m\n\u001b[0m\u001b[1;32m      5\u001b[0m     \u001b[0mf_spl_df_b\u001b[0m \u001b[0;34m=\u001b[0m \u001b[0mf_spl_df\u001b[0m\u001b[0;34m[\u001b[0m\u001b[0;36m0\u001b[0m\u001b[0;34m]\u001b[0m\u001b[0;34m.\u001b[0m\u001b[0miloc\u001b[0m\u001b[0;34m[\u001b[0m\u001b[0mi\u001b[0m\u001b[0;34m]\u001b[0m\u001b[0;34m.\u001b[0m\u001b[0mreset_index\u001b[0m\u001b[0;34m(\u001b[0m\u001b[0mdrop\u001b[0m\u001b[0;34m=\u001b[0m\u001b[0;32mTrue\u001b[0m\u001b[0;34m)\u001b[0m \u001b[0;31m# 按一次抽样时间戳序列排列各基金伪回报\u001b[0m\u001b[0;34m\u001b[0m\u001b[0;34m\u001b[0m\u001b[0m\n\u001b[1;32m      6\u001b[0m     \u001b[0mf_spl_df_long\u001b[0m \u001b[0;34m=\u001b[0m \u001b[0mwide_to_long_f\u001b[0m\u001b[0;34m(\u001b[0m\u001b[0mf_spl_df_b\u001b[0m\u001b[0;34m,\u001b[0m\u001b[0mf_spl_df\u001b[0m\u001b[0;34m[\u001b[0m\u001b[0;36m1\u001b[0m\u001b[0;34m]\u001b[0m\u001b[0;34m)\u001b[0m \u001b[0;31m# 工具1\u001b[0m\u001b[0;34m\u001b[0m\u001b[0;34m\u001b[0m\u001b[0m\n",
      "\u001b[0;31mNameError\u001b[0m: name 'spl_n1' is not defined"
     ]
    }
   ],
   "source": [
    "f_fk_alpha_series = []\n",
    "f_fk_ta_series = []\n",
    "\n",
    "for i in spl_n1:\n",
    "    f_spl_df_b = f_spl_df[0].iloc[i].reset_index(drop=True) # 按一次抽样时间戳序列排列各基金伪回报\n",
    "    f_spl_df_long = wide_to_long_f(f_spl_df_b,f_spl_df[1]) # 工具1\n",
    "    \n",
    "    # 抽样完成后与真实时间轴上的Cahart四因子按按时间索引进行合并\n",
    "    c_factors.reset_index(drop=True)\n",
    "    f_spl_df1 = pd.merge(f_spl_df_b_long, c_factors, how='left', on='trdwk').fillna(method='ffill')\n",
    "    \n",
    "    # OLS回归计算伪alpha分布\n",
    "    f_fk_alpha = []\n",
    "    f_fk_ta = []\n",
    "    for fund in funds_list:\n",
    "        Y = f_spl_df_ols[fund] - f_spl_df_ols['rf']\n",
    "        X = f_spl_df_ols.loc[:,'mkt_rf':'umd']\n",
    "        fake_result = sm.OLS(Y, sm.add_constant(X)).fit()\n",
    "        fk_alpha_i = fake_result.params[0]\n",
    "        fk_ta_i = fake_result.tvalues[0]\n",
    "    \n",
    "        f_fk_alpha.append(fk_alpha_i)\n",
    "        f_fk_ta.append(fk_ta_i)\n",
    "    \n",
    "    f_list = series_manipulator(f_fk_alpha, f_fk_ta) # 工具2\n",
    "    \n",
    "    f_fk_alpha_series.append(f_list[0]) # Exp：(328,1000)\n",
    "    f_fk_ta_series.append(f_list[1]) # Exp: (328,1000)      "
   ]
  },
  {
   "cell_type": "markdown",
   "id": "b0a4e23f",
   "metadata": {},
   "source": [
    "#### --------------------------------- Split Line ------------------------------------- ####"
   ]
  },
  {
   "cell_type": "markdown",
   "id": "386cb27c",
   "metadata": {},
   "source": [
    "test_f0 = np.random.randint(0, 715, size=(1000, 715))\n",
    "test_f0.shape\n",
    "\n",
    "for i in test_f0[:1]:\n",
    "    f_spl_df_b = f_spl_df[0].iloc[i].reset_index(drop=True)\n",
    "\n",
    "time = f_spl_df[1]\n",
    "f_spl_df_ols = f_ols_caculator(f_spl_df_b,time, c2)\n",
    "\n",
    "f_fk_alpha = []\n",
    "f_fk_ta = []\n",
    "for fund in funds_list:\n",
    "    Y = f_spl_df_ols[fund] - f_spl_df_ols['rf']\n",
    "    X = f_spl_df_ols.loc[:,'mkt_rf':'umd']\n",
    "    fake_result = sm.OLS(Y, sm.add_constant(X)).fit()\n",
    "    fk_alpha_i = fake_result.params[0]\n",
    "    fk_ta_i = fake_result.tvalues[0]\n",
    "    \n",
    "    f_fk_alpha.append(fk_alpha_i)\n",
    "    f_fk_ta.append(fk_ta_i)\n",
    "    \n",
    "f_list = series_manipulator(f_fk_alpha, f_fk_ta)    \n",
    "\n",
    "f_spl_df_ols\n",
    "\n",
    "test_f0 = np.random.random((1000, 715))\n",
    "test_f0[0].shape\n",
    "\n",
    "np.random.seed(0)\n",
    "np.random.random((2,3))\n",
    "\n",
    "np.random.seed(0)\n",
    "np.random.random((2,3)).T\n",
    "\n"
   ]
  }
 ],
 "metadata": {
  "kernelspec": {
   "display_name": "Python 3",
   "language": "python",
   "name": "python3"
  },
  "language_info": {
   "codemirror_mode": {
    "name": "ipython",
    "version": 3
   },
   "file_extension": ".py",
   "mimetype": "text/x-python",
   "name": "python",
   "nbconvert_exporter": "python",
   "pygments_lexer": "ipython3",
   "version": "3.8.8"
  }
 },
 "nbformat": 4,
 "nbformat_minor": 5
}
