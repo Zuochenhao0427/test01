{
 "cells": [
  {
   "cell_type": "code",
   "execution_count": 1,
   "id": "9dbf25ef",
   "metadata": {},
   "outputs": [],
   "source": [
    "import pandas as pd\n",
    "import numpy as np\n",
    "import os"
   ]
  },
  {
   "cell_type": "markdown",
   "id": "48da3ad3",
   "metadata": {},
   "source": [
    "### 2018年6月 - 2021年6月基金日净值数据"
   ]
  },
  {
   "cell_type": "code",
   "execution_count": 2,
   "id": "c58b6ec7",
   "metadata": {},
   "outputs": [],
   "source": [
    "# 按文件夹搜索导入数据\n",
    "mydatalist = []\n",
    "for info in os.listdir('基金数据210630/180630/'):\n",
    "    domain = os.path.abspath('基金数据210630/180630/')\n",
    "    info = os.path.join(domain,info)\n",
    "    data = pd.read_csv(info)\n",
    "    mydatalist.append(data)\n",
    "\n",
    "nav_data = pd.concat(mydatalist)"
   ]
  },
  {
   "cell_type": "markdown",
   "id": "8f39b01f",
   "metadata": {},
   "source": [
    "#### 基金主体信息合并"
   ]
  },
  {
   "cell_type": "code",
   "execution_count": 3,
   "id": "8f0ae9dc",
   "metadata": {},
   "outputs": [],
   "source": [
    "maininfo = pd.read_csv('基金数据210630/FUND_MainInfo.csv') # 仅保留了契约开放式的股票型&混合型基金"
   ]
  },
  {
   "cell_type": "code",
   "execution_count": 4,
   "id": "e7831ad9",
   "metadata": {},
   "outputs": [
    {
     "name": "stdout",
     "output_type": "stream",
     "text": [
      "<class 'pandas.core.frame.DataFrame'>\n",
      "RangeIndex: 2404 entries, 0 to 2403\n",
      "Data columns (total 11 columns):\n",
      " #   Column           Non-Null Count  Dtype  \n",
      "---  ------           --------------  -----  \n",
      " 0   FundID           2404 non-null   int64  \n",
      " 1   MasterFundCode   2404 non-null   int64  \n",
      " 2   FullName         2404 non-null   object \n",
      " 3   FundCompanyID    2404 non-null   int64  \n",
      " 4   FundCompanyName  2404 non-null   object \n",
      " 5   ManagementFee    2404 non-null   float64\n",
      " 6   InceptionDate    2404 non-null   object \n",
      " 7   FundTypeID       2404 non-null   object \n",
      " 8   FundType         2404 non-null   object \n",
      " 9   CategoryID       2404 non-null   object \n",
      " 10  Category         2404 non-null   object \n",
      "dtypes: float64(1), int64(3), object(7)\n",
      "memory usage: 206.7+ KB\n"
     ]
    }
   ],
   "source": [
    "maininfo.info(1)"
   ]
  },
  {
   "cell_type": "code",
   "execution_count": 5,
   "id": "3778dfe7",
   "metadata": {},
   "outputs": [],
   "source": [
    "unitinfo = pd.read_csv('基金数据210630/FUND_UnitClassInfo.csv') # 仅保留了所有非定期开放式基金"
   ]
  },
  {
   "cell_type": "code",
   "execution_count": 6,
   "id": "096adef8",
   "metadata": {},
   "outputs": [
    {
     "name": "stdout",
     "output_type": "stream",
     "text": [
      "<class 'pandas.core.frame.DataFrame'>\n",
      "RangeIndex: 13039 entries, 0 to 13038\n",
      "Data columns (total 9 columns):\n",
      " #   Column           Non-Null Count  Dtype  \n",
      "---  ------           --------------  -----  \n",
      " 0   FundID           13039 non-null  int64  \n",
      " 1   MasterFundCode   12991 non-null  float64\n",
      " 2   FundClassID      13039 non-null  float64\n",
      " 3   Symbol           13039 non-null  int64  \n",
      " 4   Expired          13039 non-null  int64  \n",
      " 5   ShortName        13039 non-null  object \n",
      " 6   InceptionDate    13039 non-null  object \n",
      " 7   Cycle            0 non-null      float64\n",
      " 8   RedeemStartDate  11617 non-null  object \n",
      "dtypes: float64(3), int64(3), object(3)\n",
      "memory usage: 916.9+ KB\n"
     ]
    }
   ],
   "source": [
    "unitinfo.info(1)"
   ]
  },
  {
   "cell_type": "code",
   "execution_count": 7,
   "id": "96ce979f",
   "metadata": {},
   "outputs": [
    {
     "name": "stdout",
     "output_type": "stream",
     "text": [
      "(2404, 11) (13039, 9)\n"
     ]
    }
   ],
   "source": [
    "print(maininfo.shape, unitinfo.shape)"
   ]
  },
  {
   "cell_type": "code",
   "execution_count": 8,
   "id": "d973847d",
   "metadata": {},
   "outputs": [
    {
     "name": "stdout",
     "output_type": "stream",
     "text": [
      "2404 2404\n"
     ]
    }
   ],
   "source": [
    "print(len(maininfo.FundID.unique()),len(maininfo.MasterFundCode.unique()))"
   ]
  },
  {
   "cell_type": "code",
   "execution_count": 9,
   "id": "52247ada",
   "metadata": {},
   "outputs": [
    {
     "name": "stdout",
     "output_type": "stream",
     "text": [
      "7929 7929\n"
     ]
    }
   ],
   "source": [
    "print(len(unitinfo.FundID.unique()),len(unitinfo.MasterFundCode.unique()))"
   ]
  },
  {
   "cell_type": "code",
   "execution_count": 10,
   "id": "6ed516ab",
   "metadata": {},
   "outputs": [
    {
     "name": "stdout",
     "output_type": "stream",
     "text": [
      "(2254, 19)\n"
     ]
    }
   ],
   "source": [
    "fundsinfo = pd.merge(maininfo,unitinfo, how = 'inner', on = 'FundID')\n",
    "print(fundsinfo.shape)"
   ]
  },
  {
   "cell_type": "code",
   "execution_count": 11,
   "id": "cd0810bf",
   "metadata": {},
   "outputs": [],
   "source": [
    "fundsinfo.head(1)\n",
    "fundsinfo = fundsinfo.drop(columns =['MasterFundCode_x','MasterFundCode_y','InceptionDate_x','Expired','Cycle'])"
   ]
  },
  {
   "cell_type": "code",
   "execution_count": 12,
   "id": "8b1ade26",
   "metadata": {},
   "outputs": [
    {
     "name": "stdout",
     "output_type": "stream",
     "text": [
      "2237 2237\n"
     ]
    }
   ],
   "source": [
    "print(len(fundsinfo.Symbol.unique()),len(fundsinfo.FundClassID.unique()))"
   ]
  },
  {
   "cell_type": "markdown",
   "id": "809e0a48",
   "metadata": {},
   "source": [
    "#### 基金日净值与主体信息合并"
   ]
  },
  {
   "cell_type": "markdown",
   "id": "fa57ab14",
   "metadata": {},
   "source": [
    "对比合并整理后的基金主体信息与日净值表格中的索引列’基金代码‘、’基金份额类别ID’，发现单个基金代码及份额类别ID存在对应多支基金主体信息的情况，但这类索引列在日净值表上对应的净值为单日单个，意味着不同主体信息对应同一索引ID的多支基金存在主要基金与连接基金的关系，其净值数据实为一支基金的净值，对于这类重复索引值的基金，作仅保留起始日期较早一支的处理。"
   ]
  },
  {
   "cell_type": "code",
   "execution_count": 16,
   "id": "7d5bb390",
   "metadata": {},
   "outputs": [
    {
     "ename": "SyntaxError",
     "evalue": "invalid syntax (<ipython-input-16-eb53929fa1ab>, line 1)",
     "output_type": "error",
     "traceback": [
      "\u001b[0;36m  File \u001b[0;32m\"<ipython-input-16-eb53929fa1ab>\"\u001b[0;36m, line \u001b[0;32m1\u001b[0m\n\u001b[0;31m    fundsinfo1 = fundsinfo[['FundID','FundCompanyID','ManagementFee',/\u001b[0m\n\u001b[0m                                                                     ^\u001b[0m\n\u001b[0;31mSyntaxError\u001b[0m\u001b[0;31m:\u001b[0m invalid syntax\n"
     ]
    }
   ],
   "source": [
    "fundsinfo1 = fundsinfo[['FundID','FundCompanyID','ManagementFee',/\n",
    "                        'Symbol','ShortName','InceptionDate_y',/\n",
    "                        'RedeemStartDate']].drop_duplicates(subset=['Symbol'], keep='first') # 按索引值基金代码去重"
   ]
  },
  {
   "cell_type": "code",
   "execution_count": 14,
   "id": "c4528168",
   "metadata": {},
   "outputs": [
    {
     "ename": "NameError",
     "evalue": "name 'fundsinfo1' is not defined",
     "output_type": "error",
     "traceback": [
      "\u001b[0;31m---------------------------------------------------------------------------\u001b[0m",
      "\u001b[0;31mNameError\u001b[0m                                 Traceback (most recent call last)",
      "\u001b[0;32m<ipython-input-14-60957f738293>\u001b[0m in \u001b[0;36m<module>\u001b[0;34m\u001b[0m\n\u001b[0;32m----> 1\u001b[0;31m \u001b[0mnav_data1\u001b[0m \u001b[0;34m=\u001b[0m \u001b[0mpd\u001b[0m\u001b[0;34m.\u001b[0m\u001b[0mmerge\u001b[0m\u001b[0;34m(\u001b[0m\u001b[0mfundsinfo1\u001b[0m\u001b[0;34m,\u001b[0m \u001b[0mnav_data\u001b[0m\u001b[0;34m,\u001b[0m \u001b[0mhow\u001b[0m\u001b[0;34m=\u001b[0m\u001b[0;34m'inner'\u001b[0m\u001b[0;34m,\u001b[0m \u001b[0mon\u001b[0m\u001b[0;34m=\u001b[0m\u001b[0;34m'Symbol'\u001b[0m\u001b[0;34m)\u001b[0m\u001b[0;34m\u001b[0m\u001b[0;34m\u001b[0m\u001b[0m\n\u001b[0m\u001b[1;32m      2\u001b[0m \u001b[0mprint\u001b[0m\u001b[0;34m(\u001b[0m\u001b[0mnav_data1\u001b[0m\u001b[0;34m.\u001b[0m\u001b[0mshape\u001b[0m\u001b[0;34m)\u001b[0m\u001b[0;34m\u001b[0m\u001b[0;34m\u001b[0m\u001b[0m\n",
      "\u001b[0;31mNameError\u001b[0m: name 'fundsinfo1' is not defined"
     ]
    }
   ],
   "source": [
    "nav_data1 = pd.merge(fundsinfo1, nav_data, how='inner', on='Symbol')\n",
    "print(nav_data1.shape)"
   ]
  },
  {
   "cell_type": "code",
   "execution_count": 122,
   "id": "84442d20",
   "metadata": {},
   "outputs": [
    {
     "data": {
      "text/plain": [
       "0"
      ]
     },
     "execution_count": 122,
     "metadata": {},
     "output_type": "execute_result"
    }
   ],
   "source": [
    "# 将可赎回起始日中空值用其份额成立日补齐\n",
    "nav_data1.loc[nav_data1['RedeemStartDate'].isnull(),'RedeemStartDate']= nav_data1[nav_data1['RedeemStartDate'].isnull()]['InceptionDate_y']\n",
    "# Check Output\n",
    "len(nav_data1[nav_data1.RedeemStartDate.isna()])"
   ]
  },
  {
   "cell_type": "code",
   "execution_count": 124,
   "id": "f3c83628",
   "metadata": {},
   "outputs": [],
   "source": [
    "dt = nav_data1.drop(columns=['Symbol','InceptionDate_y','FundClassID']) # 去掉多余列"
   ]
  },
  {
   "cell_type": "code",
   "execution_count": 126,
   "id": "086bafd8",
   "metadata": {},
   "outputs": [
    {
     "data": {
      "text/html": [
       "<div>\n",
       "<style scoped>\n",
       "    .dataframe tbody tr th:only-of-type {\n",
       "        vertical-align: middle;\n",
       "    }\n",
       "\n",
       "    .dataframe tbody tr th {\n",
       "        vertical-align: top;\n",
       "    }\n",
       "\n",
       "    .dataframe thead th {\n",
       "        text-align: right;\n",
       "    }\n",
       "</style>\n",
       "<table border=\"1\" class=\"dataframe\">\n",
       "  <thead>\n",
       "    <tr style=\"text-align: right;\">\n",
       "      <th></th>\n",
       "      <th>FundID</th>\n",
       "      <th>FundCompanyID</th>\n",
       "      <th>ManagementFee</th>\n",
       "      <th>ShortName</th>\n",
       "      <th>RedeemStartDate</th>\n",
       "      <th>TradingDate</th>\n",
       "      <th>NAV</th>\n",
       "      <th>AccumulativeNAV</th>\n",
       "    </tr>\n",
       "  </thead>\n",
       "  <tbody>\n",
       "    <tr>\n",
       "      <th>0</th>\n",
       "      <td>108426</td>\n",
       "      <td>1059</td>\n",
       "      <td>1.5</td>\n",
       "      <td>华夏成长混合</td>\n",
       "      <td>2002/1/30</td>\n",
       "      <td>2018/6/30</td>\n",
       "      <td>1.045</td>\n",
       "      <td>3.456</td>\n",
       "    </tr>\n",
       "    <tr>\n",
       "      <th>1</th>\n",
       "      <td>108426</td>\n",
       "      <td>1059</td>\n",
       "      <td>1.5</td>\n",
       "      <td>华夏成长混合</td>\n",
       "      <td>2002/1/30</td>\n",
       "      <td>2018/7/2</td>\n",
       "      <td>1.032</td>\n",
       "      <td>3.443</td>\n",
       "    </tr>\n",
       "    <tr>\n",
       "      <th>2</th>\n",
       "      <td>108426</td>\n",
       "      <td>1059</td>\n",
       "      <td>1.5</td>\n",
       "      <td>华夏成长混合</td>\n",
       "      <td>2002/1/30</td>\n",
       "      <td>2018/7/3</td>\n",
       "      <td>1.023</td>\n",
       "      <td>3.434</td>\n",
       "    </tr>\n",
       "    <tr>\n",
       "      <th>3</th>\n",
       "      <td>108426</td>\n",
       "      <td>1059</td>\n",
       "      <td>1.5</td>\n",
       "      <td>华夏成长混合</td>\n",
       "      <td>2002/1/30</td>\n",
       "      <td>2018/7/4</td>\n",
       "      <td>1.011</td>\n",
       "      <td>3.422</td>\n",
       "    </tr>\n",
       "    <tr>\n",
       "      <th>4</th>\n",
       "      <td>108426</td>\n",
       "      <td>1059</td>\n",
       "      <td>1.5</td>\n",
       "      <td>华夏成长混合</td>\n",
       "      <td>2002/1/30</td>\n",
       "      <td>2018/7/5</td>\n",
       "      <td>0.995</td>\n",
       "      <td>3.406</td>\n",
       "    </tr>\n",
       "  </tbody>\n",
       "</table>\n",
       "</div>"
      ],
      "text/plain": [
       "   FundID  FundCompanyID  ManagementFee ShortName RedeemStartDate TradingDate  \\\n",
       "0  108426           1059            1.5    华夏成长混合       2002/1/30   2018/6/30   \n",
       "1  108426           1059            1.5    华夏成长混合       2002/1/30    2018/7/2   \n",
       "2  108426           1059            1.5    华夏成长混合       2002/1/30    2018/7/3   \n",
       "3  108426           1059            1.5    华夏成长混合       2002/1/30    2018/7/4   \n",
       "4  108426           1059            1.5    华夏成长混合       2002/1/30    2018/7/5   \n",
       "\n",
       "     NAV  AccumulativeNAV  \n",
       "0  1.045            3.456  \n",
       "1  1.032            3.443  \n",
       "2  1.023            3.434  \n",
       "3  1.011            3.422  \n",
       "4  0.995            3.406  "
      ]
     },
     "execution_count": 126,
     "metadata": {},
     "output_type": "execute_result"
    }
   ],
   "source": [
    "dt.head(5)"
   ]
  },
  {
   "cell_type": "code",
   "execution_count": null,
   "id": "ddc03a39",
   "metadata": {},
   "outputs": [],
   "source": [
    "dt.to_csv('data1806_2106.csv',encoding='utf-8-sig')"
   ]
  }
 ],
 "metadata": {
  "kernelspec": {
   "display_name": "Python 3",
   "language": "python",
   "name": "python3"
  },
  "language_info": {
   "codemirror_mode": {
    "name": "ipython",
    "version": 3
   },
   "file_extension": ".py",
   "mimetype": "text/x-python",
   "name": "python",
   "nbconvert_exporter": "python",
   "pygments_lexer": "ipython3",
   "version": "3.8.8"
  }
 },
 "nbformat": 4,
 "nbformat_minor": 5
}
