{
 "cells": [
  {
   "cell_type": "code",
   "execution_count": 1,
   "id": "9dbf25ef",
   "metadata": {},
   "outputs": [],
   "source": [
    "import pandas as pd\n",
    "import numpy as np\n",
    "import os"
   ]
  },
  {
   "cell_type": "markdown",
   "id": "48da3ad3",
   "metadata": {},
   "source": [
    "### 2018年6月 - 2021年6月基金日净值数据"
   ]
  },
  {
   "cell_type": "code",
   "execution_count": 5,
   "id": "c58b6ec7",
   "metadata": {},
   "outputs": [],
   "source": [
    "# 按文件夹搜索导入数据\n",
    "mydatalist = []\n",
    "for info in os.listdir('2.基金数据210630/180630/'):\n",
    "    domain = os.path.abspath('2.基金数据210630/180630/')\n",
    "    info = os.path.join(domain,info)\n",
    "    data = pd.read_csv(info)\n",
    "    mydatalist.append(data)\n",
    "\n",
    "nav_data = pd.concat(mydatalist)"
   ]
  },
  {
   "cell_type": "markdown",
   "id": "8f39b01f",
   "metadata": {},
   "source": [
    "#### 基金主体信息合并"
   ]
  },
  {
   "cell_type": "code",
   "execution_count": 8,
   "id": "8f0ae9dc",
   "metadata": {},
   "outputs": [],
   "source": [
    "maininfo = pd.read_csv('2.基金数据210630/FUND_MainInfo.csv') # 仅保留了契约开放式的股票型&混合型基金"
   ]
  },
  {
   "cell_type": "code",
   "execution_count": 9,
   "id": "e7831ad9",
   "metadata": {},
   "outputs": [
    {
     "name": "stdout",
     "output_type": "stream",
     "text": [
      "<class 'pandas.core.frame.DataFrame'>\n",
      "RangeIndex: 2404 entries, 0 to 2403\n",
      "Data columns (total 11 columns):\n",
      " #   Column           Non-Null Count  Dtype  \n",
      "---  ------           --------------  -----  \n",
      " 0   FundID           2404 non-null   int64  \n",
      " 1   MasterFundCode   2404 non-null   int64  \n",
      " 2   FullName         2404 non-null   object \n",
      " 3   FundCompanyID    2404 non-null   int64  \n",
      " 4   FundCompanyName  2404 non-null   object \n",
      " 5   ManagementFee    2404 non-null   float64\n",
      " 6   InceptionDate    2404 non-null   object \n",
      " 7   FundTypeID       2404 non-null   object \n",
      " 8   FundType         2404 non-null   object \n",
      " 9   CategoryID       2404 non-null   object \n",
      " 10  Category         2404 non-null   object \n",
      "dtypes: float64(1), int64(3), object(7)\n",
      "memory usage: 206.7+ KB\n"
     ]
    }
   ],
   "source": [
    "maininfo.info(1)"
   ]
  },
  {
   "cell_type": "code",
   "execution_count": 10,
   "id": "3778dfe7",
   "metadata": {},
   "outputs": [],
   "source": [
    "unitinfo = pd.read_csv('2.基金数据210630/FUND_UnitClassInfo.csv') # 仅保留了所有非定期开放式基金"
   ]
  },
  {
   "cell_type": "code",
   "execution_count": 11,
   "id": "096adef8",
   "metadata": {},
   "outputs": [
    {
     "name": "stdout",
     "output_type": "stream",
     "text": [
      "<class 'pandas.core.frame.DataFrame'>\n",
      "RangeIndex: 13039 entries, 0 to 13038\n",
      "Data columns (total 9 columns):\n",
      " #   Column           Non-Null Count  Dtype  \n",
      "---  ------           --------------  -----  \n",
      " 0   FundID           13039 non-null  int64  \n",
      " 1   MasterFundCode   12991 non-null  float64\n",
      " 2   FundClassID      13039 non-null  float64\n",
      " 3   Symbol           13039 non-null  int64  \n",
      " 4   Expired          13039 non-null  int64  \n",
      " 5   ShortName        13039 non-null  object \n",
      " 6   InceptionDate    13039 non-null  object \n",
      " 7   Cycle            0 non-null      float64\n",
      " 8   RedeemStartDate  11617 non-null  object \n",
      "dtypes: float64(3), int64(3), object(3)\n",
      "memory usage: 916.9+ KB\n"
     ]
    }
   ],
   "source": [
    "unitinfo.info(1)"
   ]
  },
  {
   "cell_type": "code",
   "execution_count": 12,
   "id": "96ce979f",
   "metadata": {},
   "outputs": [
    {
     "name": "stdout",
     "output_type": "stream",
     "text": [
      "(2404, 11) (13039, 9)\n"
     ]
    }
   ],
   "source": [
    "print(maininfo.shape, unitinfo.shape)"
   ]
  },
  {
   "cell_type": "code",
   "execution_count": 13,
   "id": "7ccbaa73",
   "metadata": {},
   "outputs": [
    {
     "name": "stdout",
     "output_type": "stream",
     "text": [
      "2404 2404\n"
     ]
    }
   ],
   "source": [
    "print(len(maininfo.FundID.unique()),len(maininfo.MasterFundCode.unique()))"
   ]
  },
  {
   "cell_type": "code",
   "execution_count": 14,
   "id": "7fbf98f6",
   "metadata": {},
   "outputs": [
    {
     "name": "stdout",
     "output_type": "stream",
     "text": [
      "7929 7929\n"
     ]
    }
   ],
   "source": [
    "print(len(unitinfo.FundID.unique()),len(unitinfo.MasterFundCode.unique()))"
   ]
  },
  {
   "cell_type": "code",
   "execution_count": 15,
   "id": "6ed516ab",
   "metadata": {},
   "outputs": [
    {
     "name": "stdout",
     "output_type": "stream",
     "text": [
      "(2254, 19)\n"
     ]
    }
   ],
   "source": [
    "fundsinfo = pd.merge(maininfo,unitinfo, how = 'inner', on = 'FundID')\n",
    "print(fundsinfo.shape)"
   ]
  },
  {
   "cell_type": "code",
   "execution_count": 16,
   "id": "cd0810bf",
   "metadata": {},
   "outputs": [],
   "source": [
    "fundsinfo.head(1)\n",
    "fundsinfo = fundsinfo.drop(columns =['MasterFundCode_x','MasterFundCode_y','InceptionDate_x','Expired','Cycle'])"
   ]
  },
  {
   "cell_type": "code",
   "execution_count": 17,
   "id": "f0553e3e",
   "metadata": {},
   "outputs": [
    {
     "name": "stdout",
     "output_type": "stream",
     "text": [
      "2237 2237\n"
     ]
    }
   ],
   "source": [
    "print(len(fundsinfo.Symbol.unique()),len(fundsinfo.FundClassID.unique()))"
   ]
  },
  {
   "cell_type": "markdown",
   "id": "87c79881",
   "metadata": {},
   "source": [
    "#### 基金日净值与主体信息合并"
   ]
  },
  {
   "cell_type": "markdown",
   "id": "1db7e722",
   "metadata": {},
   "source": [
    "对比合并整理后的基金主体信息与日净值表格中的索引列’基金代码‘、’基金份额类别ID’，发现单个基金代码及份额类别ID存在对应多支基金主体信息的情况，但这类索引列在日净值表上对应的净值为单日单个，意味着不同主体信息对应同一索引ID的多支基金存在主要基金与连接基金的关系，其净值数据实为一支基金的净值，对于这类重复索引值的基金，作仅保留起始日期较早一支的处理。"
   ]
  },
  {
   "cell_type": "code",
   "execution_count": 18,
   "id": "f0e6fd3b",
   "metadata": {},
   "outputs": [],
   "source": [
    "fundsinfo1 = fundsinfo[['FundID','FundCompanyID','ManagementFee',\\\n",
    "                        'Symbol','ShortName','InceptionDate_y',\\\n",
    "                        'RedeemStartDate']].drop_duplicates(subset=['Symbol'], keep='first') # 按索引值基金代码去重"
   ]
  },
  {
   "cell_type": "code",
   "execution_count": 19,
   "id": "83638211",
   "metadata": {},
   "outputs": [
    {
     "name": "stdout",
     "output_type": "stream",
     "text": [
      "(1259535, 11)\n"
     ]
    }
   ],
   "source": [
    "nav_data1 = pd.merge(fundsinfo1, nav_data, how='inner', on='Symbol')\n",
    "print(nav_data1.shape)"
   ]
  },
  {
   "cell_type": "code",
   "execution_count": 20,
   "id": "96dc9872",
   "metadata": {},
   "outputs": [
    {
     "data": {
      "text/plain": [
       "0"
      ]
     },
     "execution_count": 20,
     "metadata": {},
     "output_type": "execute_result"
    }
   ],
   "source": [
    "# 将可赎回起始日中空值用其份额成立日补齐\n",
    "nav_data1.loc[nav_data1['RedeemStartDate'].isnull(),'RedeemStartDate']= nav_data1[nav_data1['RedeemStartDate'].isnull()]['InceptionDate_y']\n",
    "# Check Output\n",
    "len(nav_data1[nav_data1.RedeemStartDate.isna()])"
   ]
  },
  {
   "cell_type": "code",
   "execution_count": 21,
   "id": "443ce481",
   "metadata": {},
   "outputs": [],
   "source": [
    "dt = nav_data1.drop(columns=['Symbol','InceptionDate_y','FundClassID']) # 去掉多余列"
   ]
  },
  {
   "cell_type": "code",
   "execution_count": 22,
   "id": "c60f7a79",
   "metadata": {},
   "outputs": [
    {
     "data": {
      "text/html": [
       "<div>\n",
       "<style scoped>\n",
       "    .dataframe tbody tr th:only-of-type {\n",
       "        vertical-align: middle;\n",
       "    }\n",
       "\n",
       "    .dataframe tbody tr th {\n",
       "        vertical-align: top;\n",
       "    }\n",
       "\n",
       "    .dataframe thead th {\n",
       "        text-align: right;\n",
       "    }\n",
       "</style>\n",
       "<table border=\"1\" class=\"dataframe\">\n",
       "  <thead>\n",
       "    <tr style=\"text-align: right;\">\n",
       "      <th></th>\n",
       "      <th>FundID</th>\n",
       "      <th>FundCompanyID</th>\n",
       "      <th>ManagementFee</th>\n",
       "      <th>ShortName</th>\n",
       "      <th>RedeemStartDate</th>\n",
       "      <th>TradingDate</th>\n",
       "      <th>NAV</th>\n",
       "      <th>AccumulativeNAV</th>\n",
       "    </tr>\n",
       "  </thead>\n",
       "  <tbody>\n",
       "    <tr>\n",
       "      <th>0</th>\n",
       "      <td>108426</td>\n",
       "      <td>1059</td>\n",
       "      <td>1.5</td>\n",
       "      <td>华夏成长混合</td>\n",
       "      <td>2002/1/30</td>\n",
       "      <td>2018/6/30</td>\n",
       "      <td>1.045</td>\n",
       "      <td>3.456</td>\n",
       "    </tr>\n",
       "    <tr>\n",
       "      <th>1</th>\n",
       "      <td>108426</td>\n",
       "      <td>1059</td>\n",
       "      <td>1.5</td>\n",
       "      <td>华夏成长混合</td>\n",
       "      <td>2002/1/30</td>\n",
       "      <td>2018/7/2</td>\n",
       "      <td>1.032</td>\n",
       "      <td>3.443</td>\n",
       "    </tr>\n",
       "    <tr>\n",
       "      <th>2</th>\n",
       "      <td>108426</td>\n",
       "      <td>1059</td>\n",
       "      <td>1.5</td>\n",
       "      <td>华夏成长混合</td>\n",
       "      <td>2002/1/30</td>\n",
       "      <td>2018/7/3</td>\n",
       "      <td>1.023</td>\n",
       "      <td>3.434</td>\n",
       "    </tr>\n",
       "    <tr>\n",
       "      <th>3</th>\n",
       "      <td>108426</td>\n",
       "      <td>1059</td>\n",
       "      <td>1.5</td>\n",
       "      <td>华夏成长混合</td>\n",
       "      <td>2002/1/30</td>\n",
       "      <td>2018/7/4</td>\n",
       "      <td>1.011</td>\n",
       "      <td>3.422</td>\n",
       "    </tr>\n",
       "    <tr>\n",
       "      <th>4</th>\n",
       "      <td>108426</td>\n",
       "      <td>1059</td>\n",
       "      <td>1.5</td>\n",
       "      <td>华夏成长混合</td>\n",
       "      <td>2002/1/30</td>\n",
       "      <td>2018/7/5</td>\n",
       "      <td>0.995</td>\n",
       "      <td>3.406</td>\n",
       "    </tr>\n",
       "  </tbody>\n",
       "</table>\n",
       "</div>"
      ],
      "text/plain": [
       "   FundID  FundCompanyID  ManagementFee ShortName RedeemStartDate TradingDate  \\\n",
       "0  108426           1059            1.5    华夏成长混合       2002/1/30   2018/6/30   \n",
       "1  108426           1059            1.5    华夏成长混合       2002/1/30    2018/7/2   \n",
       "2  108426           1059            1.5    华夏成长混合       2002/1/30    2018/7/3   \n",
       "3  108426           1059            1.5    华夏成长混合       2002/1/30    2018/7/4   \n",
       "4  108426           1059            1.5    华夏成长混合       2002/1/30    2018/7/5   \n",
       "\n",
       "     NAV  AccumulativeNAV  \n",
       "0  1.045            3.456  \n",
       "1  1.032            3.443  \n",
       "2  1.023            3.434  \n",
       "3  1.011            3.422  \n",
       "4  0.995            3.406  "
      ]
     },
     "execution_count": 22,
     "metadata": {},
     "output_type": "execute_result"
    }
   ],
   "source": [
    "dt.head(5)"
   ]
  },
  {
   "cell_type": "code",
   "execution_count": 25,
   "id": "50cb7c42",
   "metadata": {},
   "outputs": [],
   "source": [
    "# dt.to_csv('data1806_2106.csv',encoding='utf-8-sig') #导出一次数据"
   ]
  },
  {
   "cell_type": "code",
   "execution_count": 47,
   "id": "e2596ea1",
   "metadata": {},
   "outputs": [],
   "source": [
    "# 调整时间变量\n",
    "dt['RedeemStartDate'] = pd.to_datetime(dt['RedeemStartDate'], format='%Y-%m-%d')\n",
    "dt['TradingDate'] = pd.to_datetime(dt['TradingDate'], format='%Y-%m-%d')"
   ]
  },
  {
   "cell_type": "code",
   "execution_count": 52,
   "id": "ce06b1b7",
   "metadata": {},
   "outputs": [],
   "source": [
    "# 计算基金回报率和净回报率（年化）\n",
    "dt['acc_nav(初)'] = dt.groupby('FundID')['AccumulativeNAV'].shift(1)\n",
    "dt['ri'] = (dt['AccumulativeNAV']/dt['acc_nav(初)']-1)*360 # 年化总回报率\n",
    "dt['net_ri'] = dt['ri'] - dt['ManagementFee'] # 年化净回报率"
   ]
  },
  {
   "cell_type": "code",
   "execution_count": 54,
   "id": "0786aeb9",
   "metadata": {},
   "outputs": [],
   "source": [
    "dt0 = dt[['FundID','FundCompanyID','TradingDate','ri','net_ri']]"
   ]
  },
  {
   "cell_type": "code",
   "execution_count": 55,
   "id": "1ea69afb",
   "metadata": {},
   "outputs": [
    {
     "data": {
      "text/html": [
       "<div>\n",
       "<style scoped>\n",
       "    .dataframe tbody tr th:only-of-type {\n",
       "        vertical-align: middle;\n",
       "    }\n",
       "\n",
       "    .dataframe tbody tr th {\n",
       "        vertical-align: top;\n",
       "    }\n",
       "\n",
       "    .dataframe thead th {\n",
       "        text-align: right;\n",
       "    }\n",
       "</style>\n",
       "<table border=\"1\" class=\"dataframe\">\n",
       "  <thead>\n",
       "    <tr style=\"text-align: right;\">\n",
       "      <th></th>\n",
       "      <th>FundID</th>\n",
       "      <th>FundCompanyID</th>\n",
       "      <th>TradingDate</th>\n",
       "      <th>ri</th>\n",
       "      <th>net_ri</th>\n",
       "    </tr>\n",
       "  </thead>\n",
       "  <tbody>\n",
       "    <tr>\n",
       "      <th>0</th>\n",
       "      <td>108426</td>\n",
       "      <td>1059</td>\n",
       "      <td>2018-06-30</td>\n",
       "      <td>NaN</td>\n",
       "      <td>NaN</td>\n",
       "    </tr>\n",
       "    <tr>\n",
       "      <th>1</th>\n",
       "      <td>108426</td>\n",
       "      <td>1059</td>\n",
       "      <td>2018-07-02</td>\n",
       "      <td>-1.354167</td>\n",
       "      <td>-2.854167</td>\n",
       "    </tr>\n",
       "    <tr>\n",
       "      <th>2</th>\n",
       "      <td>108426</td>\n",
       "      <td>1059</td>\n",
       "      <td>2018-07-03</td>\n",
       "      <td>-0.941040</td>\n",
       "      <td>-2.441040</td>\n",
       "    </tr>\n",
       "    <tr>\n",
       "      <th>3</th>\n",
       "      <td>108426</td>\n",
       "      <td>1059</td>\n",
       "      <td>2018-07-04</td>\n",
       "      <td>-1.258008</td>\n",
       "      <td>-2.758008</td>\n",
       "    </tr>\n",
       "    <tr>\n",
       "      <th>4</th>\n",
       "      <td>108426</td>\n",
       "      <td>1059</td>\n",
       "      <td>2018-07-05</td>\n",
       "      <td>-1.683226</td>\n",
       "      <td>-3.183226</td>\n",
       "    </tr>\n",
       "  </tbody>\n",
       "</table>\n",
       "</div>"
      ],
      "text/plain": [
       "   FundID  FundCompanyID TradingDate        ri    net_ri\n",
       "0  108426           1059  2018-06-30       NaN       NaN\n",
       "1  108426           1059  2018-07-02 -1.354167 -2.854167\n",
       "2  108426           1059  2018-07-03 -0.941040 -2.441040\n",
       "3  108426           1059  2018-07-04 -1.258008 -2.758008\n",
       "4  108426           1059  2018-07-05 -1.683226 -3.183226"
      ]
     },
     "execution_count": 55,
     "metadata": {},
     "output_type": "execute_result"
    }
   ],
   "source": [
    "dt0.head(5)"
   ]
  },
  {
   "cell_type": "code",
   "execution_count": 66,
   "id": "a5cff92c",
   "metadata": {},
   "outputs": [],
   "source": [
    "columns = ['fund_id','compy_id','trddy','ri','net_ri']\n",
    "dt0.columns = columns"
   ]
  },
  {
   "cell_type": "markdown",
   "id": "f47e2e98",
   "metadata": {},
   "source": [
    "### Cahart数据整理\n",
    "\n",
    "1. 提取所需因子，加入债券市场因子\n",
    "2. 选取一定时间内数据"
   ]
  },
  {
   "cell_type": "code",
   "execution_count": 35,
   "id": "cab1b9f6",
   "metadata": {},
   "outputs": [],
   "source": [
    "fivefactor = pd.read_csv('2.基金数据210630/fivefactor_daily.csv')\n",
    "rbrf = pd.read_csv('2.基金数据210630/RBRF_daliy.csv') # 导入中债国债收益率"
   ]
  },
  {
   "cell_type": "code",
   "execution_count": 32,
   "id": "341ba7ce",
   "metadata": {},
   "outputs": [
    {
     "name": "stdout",
     "output_type": "stream",
     "text": [
      "<class 'pandas.core.frame.DataFrame'>\n",
      "RangeIndex: 6667 entries, 0 to 6666\n",
      "Data columns (total 13 columns):\n",
      " #   Column     Non-Null Count  Dtype  \n",
      "---  ------     --------------  -----  \n",
      " 0   trddy      6667 non-null   object \n",
      " 1   mkt_rf     6667 non-null   float64\n",
      " 2   smb        6667 non-null   float64\n",
      " 3   hml        6667 non-null   float64\n",
      " 4   umd        6667 non-null   float64\n",
      " 5   rmw        6667 non-null   float64\n",
      " 6   cma        6667 non-null   float64\n",
      " 7   rf         6667 non-null   float64\n",
      " 8   smb_equal  6667 non-null   float64\n",
      " 9   hml_equal  6667 non-null   float64\n",
      " 10  umd_equal  6667 non-null   float64\n",
      " 11  rmw_equal  6667 non-null   float64\n",
      " 12  cma_equal  6667 non-null   float64\n",
      "dtypes: float64(12), object(1)\n",
      "memory usage: 677.2+ KB\n",
      "        trddy    mkt_rf       smb       hml       umd       rmw       cma  \\\n",
      "0  1994-01-04 -0.003950  0.000329  0.003827  0.010374 -0.004755 -0.014706   \n",
      "1  1994-01-05  0.007166  0.011850  0.012679  0.009254 -0.020330 -0.006645   \n",
      "2  1994-01-06  0.028537  0.012046  0.005722 -0.000346 -0.002358  0.008642   \n",
      "3  1994-01-07 -0.004087  0.009666  0.005175 -0.027683  0.003846  0.004410   \n",
      "4  1994-01-10  0.002382  0.010774  0.018843 -0.000999 -0.031611 -0.031871   \n",
      "\n",
      "         rf  smb_equal  hml_equal  umd_equal  rmw_equal  cma_equal  \n",
      "0  0.000285   0.002883   0.005370   0.008679  -0.007093  -0.019481  \n",
      "1  0.000285   0.011780   0.013751   0.012208  -0.017225  -0.000045  \n",
      "2  0.000285   0.008664   0.001760  -0.004893  -0.004767  -0.000838  \n",
      "3  0.000285   0.011543   0.007985  -0.028359   0.000227   0.001732  \n",
      "4  0.000285   0.009054   0.014788   0.001511  -0.025590  -0.010480   None\n"
     ]
    }
   ],
   "source": [
    "print(fivefactor.head(5), fivefactor.info())"
   ]
  },
  {
   "cell_type": "code",
   "execution_count": 33,
   "id": "38eaeb6d",
   "metadata": {},
   "outputs": [
    {
     "name": "stdout",
     "output_type": "stream",
     "text": [
      "<class 'pandas.core.frame.DataFrame'>\n",
      "RangeIndex: 4867 entries, 0 to 4866\n",
      "Data columns (total 2 columns):\n",
      " #   Column  Non-Null Count  Dtype  \n",
      "---  ------  --------------  -----  \n",
      " 0   Trddt   4867 non-null   object \n",
      " 1   Yield   4867 non-null   float64\n",
      "dtypes: float64(1), object(1)\n",
      "memory usage: 76.2+ KB\n",
      "       Trddt   Yield\n",
      "0   2002/1/4  2.5132\n",
      "1   2002/1/7  2.5315\n",
      "2   2002/1/8  1.6574\n",
      "3   2002/1/9  1.6275\n",
      "4  2002/1/10  1.6239 None\n"
     ]
    }
   ],
   "source": [
    "print(rbrf.head(5), rbrf.info())"
   ]
  },
  {
   "cell_type": "code",
   "execution_count": 36,
   "id": "e6c1a4b7",
   "metadata": {},
   "outputs": [],
   "source": [
    "# 调整时间列格式\n",
    "fivefactor['trddy'] = pd.to_datetime(fivefactor['trddy'], format='%Y-%m-%d')\n",
    "rbrf['Trddt'] = pd.to_datetime(rbrf['Trddt'], format='%Y-%m-%d')"
   ]
  },
  {
   "cell_type": "code",
   "execution_count": 37,
   "id": "c8237d29",
   "metadata": {},
   "outputs": [],
   "source": [
    "f = pd.merge(fivefactor, rbrf, how='inner', left_on = 'trddy', right_on = 'Trddt')"
   ]
  },
  {
   "cell_type": "code",
   "execution_count": 39,
   "id": "b7671303",
   "metadata": {},
   "outputs": [],
   "source": [
    "f['rbrf'] = f['Yield'] - f['rf']"
   ]
  },
  {
   "cell_type": "code",
   "execution_count": 42,
   "id": "bc85b3f3",
   "metadata": {},
   "outputs": [],
   "source": [
    "factor = f[['trddy','mkt_rf','smb','hml','umd','rbrf','rf']]"
   ]
  },
  {
   "cell_type": "code",
   "execution_count": 56,
   "id": "c8069030",
   "metadata": {},
   "outputs": [
    {
     "data": {
      "text/html": [
       "<div>\n",
       "<style scoped>\n",
       "    .dataframe tbody tr th:only-of-type {\n",
       "        vertical-align: middle;\n",
       "    }\n",
       "\n",
       "    .dataframe tbody tr th {\n",
       "        vertical-align: top;\n",
       "    }\n",
       "\n",
       "    .dataframe thead th {\n",
       "        text-align: right;\n",
       "    }\n",
       "</style>\n",
       "<table border=\"1\" class=\"dataframe\">\n",
       "  <thead>\n",
       "    <tr style=\"text-align: right;\">\n",
       "      <th></th>\n",
       "      <th>trddy</th>\n",
       "      <th>mkt_rf</th>\n",
       "      <th>smb</th>\n",
       "      <th>hml</th>\n",
       "      <th>umd</th>\n",
       "      <th>rbrf</th>\n",
       "      <th>rf</th>\n",
       "    </tr>\n",
       "  </thead>\n",
       "  <tbody>\n",
       "    <tr>\n",
       "      <th>0</th>\n",
       "      <td>2002-01-04</td>\n",
       "      <td>-0.019175</td>\n",
       "      <td>-0.000587</td>\n",
       "      <td>-0.004185</td>\n",
       "      <td>0.001121</td>\n",
       "      <td>2.513139</td>\n",
       "      <td>0.000061</td>\n",
       "    </tr>\n",
       "    <tr>\n",
       "      <th>1</th>\n",
       "      <td>2002-01-07</td>\n",
       "      <td>-0.011709</td>\n",
       "      <td>0.000513</td>\n",
       "      <td>-0.001980</td>\n",
       "      <td>0.003688</td>\n",
       "      <td>2.531439</td>\n",
       "      <td>0.000061</td>\n",
       "    </tr>\n",
       "    <tr>\n",
       "      <th>2</th>\n",
       "      <td>2002-01-08</td>\n",
       "      <td>-0.008220</td>\n",
       "      <td>-0.001604</td>\n",
       "      <td>-0.001937</td>\n",
       "      <td>0.002960</td>\n",
       "      <td>1.657339</td>\n",
       "      <td>0.000061</td>\n",
       "    </tr>\n",
       "    <tr>\n",
       "      <th>3</th>\n",
       "      <td>2002-01-09</td>\n",
       "      <td>-0.018483</td>\n",
       "      <td>-0.004634</td>\n",
       "      <td>-0.002118</td>\n",
       "      <td>0.007703</td>\n",
       "      <td>1.627439</td>\n",
       "      <td>0.000061</td>\n",
       "    </tr>\n",
       "    <tr>\n",
       "      <th>4</th>\n",
       "      <td>2002-01-10</td>\n",
       "      <td>0.008741</td>\n",
       "      <td>0.003714</td>\n",
       "      <td>0.007480</td>\n",
       "      <td>-0.004754</td>\n",
       "      <td>1.623839</td>\n",
       "      <td>0.000061</td>\n",
       "    </tr>\n",
       "  </tbody>\n",
       "</table>\n",
       "</div>"
      ],
      "text/plain": [
       "       trddy    mkt_rf       smb       hml       umd      rbrf        rf\n",
       "0 2002-01-04 -0.019175 -0.000587 -0.004185  0.001121  2.513139  0.000061\n",
       "1 2002-01-07 -0.011709  0.000513 -0.001980  0.003688  2.531439  0.000061\n",
       "2 2002-01-08 -0.008220 -0.001604 -0.001937  0.002960  1.657339  0.000061\n",
       "3 2002-01-09 -0.018483 -0.004634 -0.002118  0.007703  1.627439  0.000061\n",
       "4 2002-01-10  0.008741  0.003714  0.007480 -0.004754  1.623839  0.000061"
      ]
     },
     "execution_count": 56,
     "metadata": {},
     "output_type": "execute_result"
    }
   ],
   "source": [
    "factor.head(5)"
   ]
  },
  {
   "cell_type": "markdown",
   "id": "4e0ce802",
   "metadata": {},
   "source": [
    "### 基金回报率数据与因子数据合并"
   ]
  },
  {
   "cell_type": "code",
   "execution_count": 68,
   "id": "862528fa",
   "metadata": {},
   "outputs": [],
   "source": [
    "# 取2018-7-2到2021-6-4内数据\n",
    "dt1 = dt0[(dt0['trddy']>='2018-07-02')&(dt0['trddy']<='2021-06-04')]"
   ]
  },
  {
   "cell_type": "code",
   "execution_count": 84,
   "id": "9d4d5182",
   "metadata": {},
   "outputs": [],
   "source": [
    "m_dt = pd.merge(dt1, factor, how='left', on='trddy') # 与factor因子合并\n",
    "m_dt1 = m_dt.fillna(method='ffill') # 填补缺失值"
   ]
  },
  {
   "cell_type": "code",
   "execution_count": 85,
   "id": "00469900",
   "metadata": {},
   "outputs": [],
   "source": [
    "# 导出数据\n",
    "m_dt1.to_csv('model_data180630.csv', encoding = 'utf-8-sig')"
   ]
  }
 ],
 "metadata": {
  "kernelspec": {
   "display_name": "Python 3",
   "language": "python",
   "name": "python3"
  },
  "language_info": {
   "codemirror_mode": {
    "name": "ipython",
    "version": 3
   },
   "file_extension": ".py",
   "mimetype": "text/x-python",
   "name": "python",
   "nbconvert_exporter": "python",
   "pygments_lexer": "ipython3",
   "version": "3.8.8"
  }
 },
 "nbformat": 4,
 "nbformat_minor": 5
}
